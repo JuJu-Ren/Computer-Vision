{
  "cells": [
    {
      "cell_type": "markdown",
      "id": "009e8fc2",
      "metadata": {
        "id": "009e8fc2"
      },
      "source": [
        "# 1. Build your own convolutional neural network using pytorch"
      ]
    },
    {
      "cell_type": "code",
      "execution_count": 1,
      "id": "133be475",
      "metadata": {
        "id": "133be475"
      },
      "outputs": [],
      "source": [
        "import os\n",
        "import torch\n",
        "from torch import nn\n",
        "import torchvision\n",
        "import torch.nn.functional as F\n",
        "import torch.optim as optim\n",
        "import sys\n",
        "from torchvision import datasets, transforms, models\n",
        "import matplotlib.pyplot as plt\n",
        "import numpy as np\n",
        "import pandas as pd\n",
        "import cv2"
      ]
    },
    {
      "cell_type": "code",
      "execution_count": 2,
      "id": "4MJolu96ji0Q",
      "metadata": {
        "id": "4MJolu96ji0Q",
        "colab": {
          "base_uri": "https://localhost:8080/"
        },
        "outputId": "4b6d37be-ed50-4b6a-edae-4aa4b4dc93cd"
      },
      "outputs": [
        {
          "output_type": "execute_result",
          "data": {
            "text/plain": [
              "['.config', 'drive', 'ep_2.pt', 'CNN_test_new1.csv', 'sample_data']"
            ]
          },
          "metadata": {},
          "execution_count": 2
        }
      ],
      "source": [
        "os.listdir('./')"
      ]
    },
    {
      "cell_type": "code",
      "execution_count": 3,
      "id": "ay_w0g60lxLJ",
      "metadata": {
        "id": "ay_w0g60lxLJ",
        "colab": {
          "base_uri": "https://localhost:8080/"
        },
        "outputId": "d581ce9d-634f-494a-fbc7-b8718bbb4892"
      },
      "outputs": [
        {
          "output_type": "stream",
          "name": "stdout",
          "text": [
            "Drive already mounted at /content/drive; to attempt to forcibly remount, call drive.mount(\"/content/drive\", force_remount=True).\n"
          ]
        }
      ],
      "source": [
        "from google.colab import drive\n",
        "drive.mount('/content/drive')"
      ]
    },
    {
      "cell_type": "code",
      "execution_count": 4,
      "id": "W-xzojc6Nxeg",
      "metadata": {
        "id": "W-xzojc6Nxeg",
        "colab": {
          "base_uri": "https://localhost:8080/"
        },
        "outputId": "b9cccbb0-7747-4a6e-a7a6-bcd2994d50fd"
      },
      "outputs": [
        {
          "output_type": "stream",
          "name": "stdout",
          "text": [
            "cuda\n"
          ]
        }
      ],
      "source": [
        "# Device configuration\n",
        "device = torch.device('cuda' if torch.cuda.is_available() else 'cpu')\n",
        "print(device)"
      ]
    },
    {
      "cell_type": "code",
      "execution_count": 5,
      "id": "IiqKXLJsqhGm",
      "metadata": {
        "id": "IiqKXLJsqhGm",
        "colab": {
          "base_uri": "https://localhost:8080/"
        },
        "outputId": "7ab4b903-5d45-461b-a5e5-3f6434bd2916"
      },
      "outputs": [
        {
          "output_type": "stream",
          "name": "stdout",
          "text": [
            "Fri Nov 11 22:11:35 2022       \n",
            "+-----------------------------------------------------------------------------+\n",
            "| NVIDIA-SMI 460.32.03    Driver Version: 460.32.03    CUDA Version: 11.2     |\n",
            "|-------------------------------+----------------------+----------------------+\n",
            "| GPU  Name        Persistence-M| Bus-Id        Disp.A | Volatile Uncorr. ECC |\n",
            "| Fan  Temp  Perf  Pwr:Usage/Cap|         Memory-Usage | GPU-Util  Compute M. |\n",
            "|                               |                      |               MIG M. |\n",
            "|===============================+======================+======================|\n",
            "|   0  Tesla T4            Off  | 00000000:00:04.0 Off |                    0 |\n",
            "| N/A   74C    P8    12W /  70W |      3MiB / 15109MiB |      0%      Default |\n",
            "|                               |                      |                  N/A |\n",
            "+-------------------------------+----------------------+----------------------+\n",
            "                                                                               \n",
            "+-----------------------------------------------------------------------------+\n",
            "| Processes:                                                                  |\n",
            "|  GPU   GI   CI        PID   Type   Process name                  GPU Memory |\n",
            "|        ID   ID                                                   Usage      |\n",
            "|=============================================================================|\n",
            "|  No running processes found                                                 |\n",
            "+-----------------------------------------------------------------------------+\n"
          ]
        }
      ],
      "source": [
        "!nvidia-smi"
      ]
    },
    {
      "cell_type": "code",
      "execution_count": 6,
      "id": "AnZB2de-jjEx",
      "metadata": {
        "id": "AnZB2de-jjEx"
      },
      "outputs": [],
      "source": [
        "train_data_path = '/content/drive/MyDrive/Colab Notebooks/Project 1-CV/Datasets/Train'"
      ]
    },
    {
      "cell_type": "code",
      "execution_count": 7,
      "id": "N9Gq55GejjHl",
      "metadata": {
        "id": "N9Gq55GejjHl"
      },
      "outputs": [],
      "source": [
        "test_data_path = '/content/drive/MyDrive/Colab Notebooks/Project 1-CV/Datasets/Test'"
      ]
    },
    {
      "cell_type": "code",
      "execution_count": 8,
      "id": "e0JtMcLIjjK_",
      "metadata": {
        "id": "e0JtMcLIjjK_"
      },
      "outputs": [],
      "source": [
        "# resize the images in transforms\n",
        "training_transform = transforms.Compose(\n",
        "    [transforms.Resize((224,224)),\n",
        "     transforms.RandomHorizontalFlip(p=0.5),\n",
        "     transforms.RandomRotation(20),\n",
        "     transforms.ToTensor(),\n",
        "     transforms.Normalize((0.5, 0.5, 0.5), (0.5, 0.5, 0.5))])"
      ]
    },
    {
      "cell_type": "code",
      "execution_count": 9,
      "id": "yU_naXRwn23K",
      "metadata": {
        "id": "yU_naXRwn23K"
      },
      "outputs": [],
      "source": [
        "\n",
        "total_data = torchvision.datasets.ImageFolder(root = train_data_path, transform = training_transform)\n",
        "train_size = int(len(total_data) * 0.85) # 85% training data\n",
        "valid_size = len(total_data) - train_size # 15% validation data"
      ]
    },
    {
      "cell_type": "code",
      "source": [
        "# train_data, valid_data = data.random_split(train_data, [train_size, valid_size])"
      ],
      "metadata": {
        "id": "kDpYyiHfa3T9"
      },
      "id": "kDpYyiHfa3T9",
      "execution_count": 10,
      "outputs": []
    },
    {
      "cell_type": "code",
      "execution_count": 11,
      "id": "Rao02CcBn8Ht",
      "metadata": {
        "id": "Rao02CcBn8Ht"
      },
      "outputs": [],
      "source": [
        "# import random\n",
        "\n",
        "# random.shuffle(train_data)\n",
        "\n",
        "# train_data = data[:int((len(train_data)+1)*.80)] \n",
        "# valid_data = data[int((len(train_data)+1)*.80):] "
      ]
    },
    {
      "cell_type": "code",
      "source": [
        "# train_data, valid_data = data.random_split(train_data, [train_size, valid_size])\n",
        "# train_loader = torch.utils.data.DataLoader(dataset = train_data, batch_size=32, shuffle = True)\n",
        "# valid_loader = torch.utils.data.DataLoader(dataset = valid_data, batch_size=32, shuffle = True)"
      ],
      "metadata": {
        "id": "_sPNdRCLbU-c"
      },
      "id": "_sPNdRCLbU-c",
      "execution_count": 12,
      "outputs": []
    },
    {
      "cell_type": "code",
      "source": [
        "from re import I\n",
        "# CNN Network\n",
        "class ConvNet(nn.Module):\n",
        "  def __init__(self, num_classes = 4):\n",
        "    super(ConvNet, self).__init__()\n",
        "    # 3, 224, 224\n",
        "    self.layer1 = nn.Sequential(\n",
        "        nn.Conv2d(3, 16, kernel_size = 3, stride = 1, padding = 1),\n",
        "        nn.BatchNorm2d(16),\n",
        "        nn.ReLU()\n",
        "    )\n",
        "    # 16, 224, 224\n",
        "    self.pool1 =  nn.MaxPool2d(2)\n",
        "    # 16, 112, 112\n",
        "    self.layer2 = nn.Sequential(\n",
        "        nn.Conv2d(16, 32, kernel_size = 3, stride = 1, padding = 0),\n",
        "        nn.BatchNorm2d(32),\n",
        "        nn.ReLU()\n",
        "    )\n",
        "    # 32, 110, 110\n",
        "    self.layer3 = nn.Sequential(\n",
        "        nn.Conv2d(32, 64, kernel_size = 3, stride = 1, padding = 0),\n",
        "        nn.BatchNorm2d(64),\n",
        "        nn.ReLU()\n",
        "    )\n",
        "    # 64, 108, 108\n",
        "    self.pool2 = nn.MaxPool2d(2)\n",
        "    # 64, 54, 54\n",
        "\n",
        "    self.layer4 = nn.Sequential(\n",
        "        nn.Conv2d(64, 128, kernel_size = 2, stride = 2, padding = 1),\n",
        "        nn.BatchNorm2d(128),\n",
        "        nn.ReLU())\n",
        "    # 128, 28, 28\n",
        "    self.layer5 = nn.Sequential(\n",
        "        nn.Conv2d(128, 128, kernel_size = 2, stride = 2, padding = 1),\n",
        "        nn.BatchNorm2d(128),\n",
        "        nn.ReLU())\n",
        "    # 128, 15, 15\n",
        "    self.layer6 = nn.Sequential(\n",
        "        nn.Conv2d(128, 256, kernel_size = 3, stride = 2, padding = 0),\n",
        "        nn.BatchNorm2d(256),\n",
        "        nn.ReLU())\n",
        "    # 256, 7, 7\n",
        "    self.layer7 = nn.Sequential(\n",
        "        nn.Conv2d(256, 256, kernel_size = 3, stride = 2, padding = 0),\n",
        "        nn.BatchNorm2d(256),\n",
        "        nn.ReLU())\n",
        "    # 256, 3, 3\n",
        "\n",
        "    self.fc1 = nn.Linear(in_features = 256*3*3, out_features = 1028)\n",
        "    # self.dropout = nn.Dropout(0.25)\n",
        "    self.fc2 = nn.Linear(in_features = 1028, out_features = num_classes)\n",
        "\n",
        "    # feed forward function\n",
        "  def forward(self, input):\n",
        "    out = self.pool1(self.layer1(input))\n",
        "    out = self.pool2(self.layer3(self.layer2(out)))\n",
        "    out = self.layer7(self.layer6(self.layer5(self.layer4(out))))\n",
        "    out = out.view(-1, 256*3*3)\n",
        "    out = F.relu(self.fc1(out))\n",
        "    # out = self.dropout(out)\n",
        "    out = F.relu(self.fc2(out))\n",
        "    return out"
      ],
      "metadata": {
        "id": "3BeUPVLDKmjz"
      },
      "id": "3BeUPVLDKmjz",
      "execution_count": 13,
      "outputs": []
    },
    {
      "cell_type": "code",
      "execution_count": 14,
      "id": "6isI1oOe_ZRD",
      "metadata": {
        "id": "6isI1oOe_ZRD",
        "colab": {
          "base_uri": "https://localhost:8080/"
        },
        "outputId": "4409cb24-3274-4cc0-eaea-59e1134f0c96"
      },
      "outputs": [
        {
          "output_type": "stream",
          "name": "stdout",
          "text": [
            "ConvNet(\n",
            "  (layer1): Sequential(\n",
            "    (0): Conv2d(3, 16, kernel_size=(3, 3), stride=(1, 1), padding=(1, 1))\n",
            "    (1): BatchNorm2d(16, eps=1e-05, momentum=0.1, affine=True, track_running_stats=True)\n",
            "    (2): ReLU()\n",
            "  )\n",
            "  (pool1): MaxPool2d(kernel_size=2, stride=2, padding=0, dilation=1, ceil_mode=False)\n",
            "  (layer2): Sequential(\n",
            "    (0): Conv2d(16, 32, kernel_size=(3, 3), stride=(1, 1))\n",
            "    (1): BatchNorm2d(32, eps=1e-05, momentum=0.1, affine=True, track_running_stats=True)\n",
            "    (2): ReLU()\n",
            "  )\n",
            "  (layer3): Sequential(\n",
            "    (0): Conv2d(32, 64, kernel_size=(3, 3), stride=(1, 1))\n",
            "    (1): BatchNorm2d(64, eps=1e-05, momentum=0.1, affine=True, track_running_stats=True)\n",
            "    (2): ReLU()\n",
            "  )\n",
            "  (pool2): MaxPool2d(kernel_size=2, stride=2, padding=0, dilation=1, ceil_mode=False)\n",
            "  (layer4): Sequential(\n",
            "    (0): Conv2d(64, 128, kernel_size=(2, 2), stride=(2, 2), padding=(1, 1))\n",
            "    (1): BatchNorm2d(128, eps=1e-05, momentum=0.1, affine=True, track_running_stats=True)\n",
            "    (2): ReLU()\n",
            "  )\n",
            "  (layer5): Sequential(\n",
            "    (0): Conv2d(128, 128, kernel_size=(2, 2), stride=(2, 2), padding=(1, 1))\n",
            "    (1): BatchNorm2d(128, eps=1e-05, momentum=0.1, affine=True, track_running_stats=True)\n",
            "    (2): ReLU()\n",
            "  )\n",
            "  (layer6): Sequential(\n",
            "    (0): Conv2d(128, 256, kernel_size=(3, 3), stride=(2, 2))\n",
            "    (1): BatchNorm2d(256, eps=1e-05, momentum=0.1, affine=True, track_running_stats=True)\n",
            "    (2): ReLU()\n",
            "  )\n",
            "  (layer7): Sequential(\n",
            "    (0): Conv2d(256, 256, kernel_size=(3, 3), stride=(2, 2))\n",
            "    (1): BatchNorm2d(256, eps=1e-05, momentum=0.1, affine=True, track_running_stats=True)\n",
            "    (2): ReLU()\n",
            "  )\n",
            "  (fc1): Linear(in_features=2304, out_features=1028, bias=True)\n",
            "  (fc2): Linear(in_features=1028, out_features=4, bias=True)\n",
            ")\n"
          ]
        }
      ],
      "source": [
        "model = ConvNet(num_classes = 4).to(device)\n",
        "print(model)"
      ]
    },
    {
      "cell_type": "markdown",
      "source": [
        "# 2. Train your model using cow teat datasets (you may need to use  Google Colab (or Kaggle) with GPU to train your code) "
      ],
      "metadata": {
        "id": "KNLxeTLbg4sp"
      },
      "id": "KNLxeTLbg4sp"
    },
    {
      "cell_type": "code",
      "source": [
        "# Use an \"Adam\" optimizer to adjust weights\n",
        "# optimizer = optim.Adam(model.parameters(), lr=0.01)\n",
        "optimizer = optim.SGD(model.parameters(), lr = 0.01, momentum=0.9)\n",
        "# Specify the loss criteria\n",
        "loss_criteria = nn.CrossEntropyLoss()\n",
        "LR = 0.0001"
      ],
      "metadata": {
        "id": "6B4NQNZra5GE"
      },
      "id": "6B4NQNZra5GE",
      "execution_count": 15,
      "outputs": []
    },
    {
      "cell_type": "code",
      "source": [
        "import tqdm\n",
        "import torch\n",
        "classes = ('1', '2', '3', '4')"
      ],
      "metadata": {
        "id": "9AXxRpPL_mTU"
      },
      "id": "9AXxRpPL_mTU",
      "execution_count": 16,
      "outputs": []
    },
    {
      "cell_type": "code",
      "source": [
        "epochs = 150\n",
        "x = []\n",
        "t_loss = []\n",
        "v_loss = []\n",
        "t_acc =  []\n",
        "v_acc = []\n",
        "for epoch in range(epochs):\n",
        "    print(f\"Epoch{epoch +1} of {epochs}\")\n",
        "    import torch.utils.data as data\n",
        "    # the sample number is only 1149, so choose to randam shuffle the dataset every time by 85% and 15% ratio\n",
        "    train_data, valid_data = data.random_split(total_data, [train_size, valid_size])\n",
        "    train_loader = torch.utils.data.DataLoader(dataset = train_data, batch_size=32, shuffle = True)\n",
        "    valid_loader = torch.utils.data.DataLoader(dataset = valid_data, batch_size=32, shuffle = True)   \n",
        "\n",
        "    # Training set\n",
        "    model.train() \n",
        "    train_loss = 0.0\n",
        "    # train_acc = 0.0\n",
        "    valid_loss = 0.0\n",
        "    # valid_acc = 0.0\n",
        "    t_correct = 0\n",
        "    t_total = 0\n",
        "    v_correct = 0\n",
        "    v_total = 0\n",
        "    t_correct_pred = {classname: 0 for classname in classes}\n",
        "    t_total_pred = {classname: 0 for classname in classes}\n",
        "    v_correct_pred = {classname: 0 for classname in classes}\n",
        "    v_total_pred = {classname: 0 for classname in classes}\n",
        "    for bi, data in tqdm.tqdm(enumerate(train_loader), total = len(train_loader)):\n",
        "        images = data[0].to(device)\n",
        "        label = data[1].to(device)\n",
        "        out = model(images)\n",
        "        loss = loss_criteria(out,label)\n",
        "        optimizer.zero_grad()\n",
        "        loss.backward()\n",
        "        optimizer.step()\n",
        "        train_loss += loss.item()\n",
        "        ret, predictions = torch.max(out.data, 1)\n",
        "        # calculate total accuracy\n",
        "        t_total += label.size(0)\n",
        "        t_correct += (predictions == label).sum().item()\n",
        "\n",
        "        # calculate per class accuracy\n",
        "        for label, predictions in zip(label, predictions):\n",
        "          if label == predictions:\n",
        "            t_correct_pred[classes[label]] += 1\n",
        "          t_total_pred[classes[label]] +=1\n",
        "\n",
        "    else:\n",
        "      # print accuracy and loss\n",
        "        print(f\"Training loss: {train_loss/len(train_loader)}\") \n",
        "        print(f\"Training Accuracy: {100 * t_correct // t_total}\")\n",
        "        # print accuracy per class\n",
        "        for classname, correct_count in t_correct_pred.items():\n",
        "          if t_total_pred[classname] != 0:\n",
        "            accuracy = 100 * float(correct_count) / t_total_pred[classname]\n",
        "            print(f'Accuracy for class: {classname:5s} is {accuracy:.1f} %')\n",
        "          else:\n",
        "            print(f'Accuracy for class: {classname:5s} is 0')\n",
        "    #save loss and accuracy in lists\n",
        "    t_loss.append(train_loss/len(train_loader))\n",
        "    t_acc.append(100 * t_correct // t_total)\n",
        "    \n",
        "    # Testing set\n",
        "    model.eval()\n",
        "    with torch.no_grad():\n",
        "        for bi, data in tqdm.tqdm(enumerate(valid_loader), total = len(valid_loader)):\n",
        "            images = data[0].to(device)\n",
        "            label = data[1].to(device)\n",
        "            out = model(images)\n",
        "            loss = loss_criteria(out, label)\n",
        "            valid_loss += loss.item()\n",
        "            ret, predictions = torch.max(out.data, 1)\n",
        "            # calculate total accuracy\n",
        "            v_total += label.size(0)\n",
        "            v_correct += (predictions == label).sum().item()\n",
        "\n",
        "\n",
        "           # calculate per class accuracy\n",
        "            for label, predictions in zip(label, predictions):\n",
        "              if label == predictions:\n",
        "                v_correct_pred[classes[label]] += 1\n",
        "              v_total_pred[classes[label]] +=1\n",
        " \n",
        "        else:\n",
        "          # print accuracy and loss\n",
        "          print(f\"Validation loss: {valid_loss/len(valid_loader)}\") \n",
        "          print(f\"Validation Accuracy: {100 * v_correct // v_total}\")\n",
        "          # print accuracy per class\n",
        "          for classname, correct_count in v_correct_pred.items():\n",
        "            if v_total_pred[classname] != 0:\n",
        "              accuracy = 100 * float(correct_count) / v_total_pred[classname]\n",
        "              print(f'Accuracy for class: {classname:5s} is {accuracy:.1f} %')\n",
        "            else:\n",
        "              print(f'Accuracy for class: {classname:5s} is 0')\n",
        "    #save loss and accuracy in lists\n",
        "        v_loss.append(valid_loss/len(valid_loader))\n",
        "        v_acc.append(100 * v_correct // v_total)\n",
        "\n",
        "print(\"Learning Finished\")\n",
        "torch.save(model, 'ep_2.pt')"
      ],
      "metadata": {
        "colab": {
          "base_uri": "https://localhost:8080/"
        },
        "id": "dAs_SFeo_fmQ",
        "outputId": "ebf547be-cbd6-40c1-9a37-4c1617c896e4"
      },
      "id": "dAs_SFeo_fmQ",
      "execution_count": 17,
      "outputs": [
        {
          "output_type": "stream",
          "name": "stdout",
          "text": [
            "Epoch1 of 150\n"
          ]
        },
        {
          "output_type": "stream",
          "name": "stderr",
          "text": [
            "100%|██████████| 31/31 [00:22<00:00,  1.39it/s]\n"
          ]
        },
        {
          "output_type": "stream",
          "name": "stdout",
          "text": [
            "Training loss: 1.057717986645237\n",
            "Training Accuracy: 54\n",
            "Accuracy for class: 1     is 56.9 %\n",
            "Accuracy for class: 2     is 73.6 %\n",
            "Accuracy for class: 3     is 2.6 %\n",
            "Accuracy for class: 4     is 0.0 %\n"
          ]
        },
        {
          "output_type": "stream",
          "name": "stderr",
          "text": [
            "100%|██████████| 6/6 [00:02<00:00,  2.78it/s]\n"
          ]
        },
        {
          "output_type": "stream",
          "name": "stdout",
          "text": [
            "Validation loss: 1.0787822206815083\n",
            "Validation Accuracy: 50\n",
            "Accuracy for class: 1     is 41.8 %\n",
            "Accuracy for class: 2     is 89.6 %\n",
            "Accuracy for class: 3     is 0.0 %\n",
            "Accuracy for class: 4     is 0.0 %\n",
            "Epoch2 of 150\n"
          ]
        },
        {
          "output_type": "stream",
          "name": "stderr",
          "text": [
            "100%|██████████| 31/31 [00:16<00:00,  1.88it/s]\n"
          ]
        },
        {
          "output_type": "stream",
          "name": "stdout",
          "text": [
            "Training loss: 0.9753046228039649\n",
            "Training Accuracy: 57\n",
            "Accuracy for class: 1     is 73.0 %\n",
            "Accuracy for class: 2     is 61.3 %\n",
            "Accuracy for class: 3     is 17.0 %\n",
            "Accuracy for class: 4     is 0.0 %\n"
          ]
        },
        {
          "output_type": "stream",
          "name": "stderr",
          "text": [
            "100%|██████████| 6/6 [00:02<00:00,  2.96it/s]\n"
          ]
        },
        {
          "output_type": "stream",
          "name": "stdout",
          "text": [
            "Validation loss: 0.9362383484840393\n",
            "Validation Accuracy: 64\n",
            "Accuracy for class: 1     is 86.1 %\n",
            "Accuracy for class: 2     is 62.8 %\n",
            "Accuracy for class: 3     is 0.0 %\n",
            "Accuracy for class: 4     is 0.0 %\n",
            "Epoch3 of 150\n"
          ]
        },
        {
          "output_type": "stream",
          "name": "stderr",
          "text": [
            "100%|██████████| 31/31 [00:11<00:00,  2.76it/s]\n"
          ]
        },
        {
          "output_type": "stream",
          "name": "stdout",
          "text": [
            "Training loss: 0.9481146258692588\n",
            "Training Accuracy: 58\n",
            "Accuracy for class: 1     is 71.7 %\n",
            "Accuracy for class: 2     is 67.7 %\n",
            "Accuracy for class: 3     is 7.0 %\n",
            "Accuracy for class: 4     is 0.0 %\n"
          ]
        },
        {
          "output_type": "stream",
          "name": "stderr",
          "text": [
            "100%|██████████| 6/6 [00:01<00:00,  3.57it/s]\n"
          ]
        },
        {
          "output_type": "stream",
          "name": "stdout",
          "text": [
            "Validation loss: 1.0372185707092285\n",
            "Validation Accuracy: 55\n",
            "Accuracy for class: 1     is 80.9 %\n",
            "Accuracy for class: 2     is 56.2 %\n",
            "Accuracy for class: 3     is 0.0 %\n",
            "Accuracy for class: 4     is 0.0 %\n",
            "Epoch4 of 150\n"
          ]
        },
        {
          "output_type": "stream",
          "name": "stderr",
          "text": [
            "100%|██████████| 31/31 [00:12<00:00,  2.57it/s]\n"
          ]
        },
        {
          "output_type": "stream",
          "name": "stdout",
          "text": [
            "Training loss: 0.9520045941875827\n",
            "Training Accuracy: 58\n",
            "Accuracy for class: 1     is 74.7 %\n",
            "Accuracy for class: 2     is 68.5 %\n",
            "Accuracy for class: 3     is 5.5 %\n",
            "Accuracy for class: 4     is 0.0 %\n"
          ]
        },
        {
          "output_type": "stream",
          "name": "stderr",
          "text": [
            "100%|██████████| 6/6 [00:01<00:00,  3.72it/s]\n"
          ]
        },
        {
          "output_type": "stream",
          "name": "stdout",
          "text": [
            "Validation loss: 0.8898000121116638\n",
            "Validation Accuracy: 64\n",
            "Accuracy for class: 1     is 77.0 %\n",
            "Accuracy for class: 2     is 68.0 %\n",
            "Accuracy for class: 3     is 18.2 %\n",
            "Accuracy for class: 4     is 0.0 %\n",
            "Epoch5 of 150\n"
          ]
        },
        {
          "output_type": "stream",
          "name": "stderr",
          "text": [
            "100%|██████████| 31/31 [00:12<00:00,  2.58it/s]\n"
          ]
        },
        {
          "output_type": "stream",
          "name": "stdout",
          "text": [
            "Training loss: 0.8928039381580968\n",
            "Training Accuracy: 63\n",
            "Accuracy for class: 1     is 81.3 %\n",
            "Accuracy for class: 2     is 64.8 %\n",
            "Accuracy for class: 3     is 23.2 %\n",
            "Accuracy for class: 4     is 0.0 %\n"
          ]
        },
        {
          "output_type": "stream",
          "name": "stderr",
          "text": [
            "100%|██████████| 6/6 [00:01<00:00,  3.62it/s]\n"
          ]
        },
        {
          "output_type": "stream",
          "name": "stdout",
          "text": [
            "Validation loss: 0.9444470306237539\n",
            "Validation Accuracy: 46\n",
            "Accuracy for class: 1     is 56.9 %\n",
            "Accuracy for class: 2     is 60.3 %\n",
            "Accuracy for class: 3     is 0.0 %\n",
            "Accuracy for class: 4     is 0.0 %\n",
            "Epoch6 of 150\n"
          ]
        },
        {
          "output_type": "stream",
          "name": "stderr",
          "text": [
            "100%|██████████| 31/31 [00:11<00:00,  2.73it/s]\n"
          ]
        },
        {
          "output_type": "stream",
          "name": "stdout",
          "text": [
            "Training loss: 0.8571805454069569\n",
            "Training Accuracy: 62\n",
            "Accuracy for class: 1     is 78.5 %\n",
            "Accuracy for class: 2     is 63.4 %\n",
            "Accuracy for class: 3     is 28.8 %\n",
            "Accuracy for class: 4     is 0.0 %\n"
          ]
        },
        {
          "output_type": "stream",
          "name": "stderr",
          "text": [
            "100%|██████████| 6/6 [00:01<00:00,  3.69it/s]\n"
          ]
        },
        {
          "output_type": "stream",
          "name": "stdout",
          "text": [
            "Validation loss: 0.9391983350118002\n",
            "Validation Accuracy: 58\n",
            "Accuracy for class: 1     is 81.2 %\n",
            "Accuracy for class: 2     is 51.3 %\n",
            "Accuracy for class: 3     is 41.7 %\n",
            "Accuracy for class: 4     is 0.0 %\n",
            "Epoch7 of 150\n"
          ]
        },
        {
          "output_type": "stream",
          "name": "stderr",
          "text": [
            "100%|██████████| 31/31 [00:11<00:00,  2.80it/s]\n"
          ]
        },
        {
          "output_type": "stream",
          "name": "stdout",
          "text": [
            "Training loss: 0.8578240717611005\n",
            "Training Accuracy: 62\n",
            "Accuracy for class: 1     is 80.7 %\n",
            "Accuracy for class: 2     is 62.3 %\n",
            "Accuracy for class: 3     is 26.1 %\n",
            "Accuracy for class: 4     is 0.0 %\n"
          ]
        },
        {
          "output_type": "stream",
          "name": "stderr",
          "text": [
            "100%|██████████| 6/6 [00:01<00:00,  3.71it/s]\n"
          ]
        },
        {
          "output_type": "stream",
          "name": "stdout",
          "text": [
            "Validation loss: 0.8922793467839559\n",
            "Validation Accuracy: 61\n",
            "Accuracy for class: 1     is 87.9 %\n",
            "Accuracy for class: 2     is 65.3 %\n",
            "Accuracy for class: 3     is 6.7 %\n",
            "Accuracy for class: 4     is 0.0 %\n",
            "Epoch8 of 150\n"
          ]
        },
        {
          "output_type": "stream",
          "name": "stderr",
          "text": [
            "100%|██████████| 31/31 [00:11<00:00,  2.78it/s]\n"
          ]
        },
        {
          "output_type": "stream",
          "name": "stdout",
          "text": [
            "Training loss: 0.8913950804741152\n",
            "Training Accuracy: 60\n",
            "Accuracy for class: 1     is 74.8 %\n",
            "Accuracy for class: 2     is 68.2 %\n",
            "Accuracy for class: 3     is 12.8 %\n",
            "Accuracy for class: 4     is 0.0 %\n"
          ]
        },
        {
          "output_type": "stream",
          "name": "stderr",
          "text": [
            "100%|██████████| 6/6 [00:02<00:00,  2.69it/s]\n"
          ]
        },
        {
          "output_type": "stream",
          "name": "stdout",
          "text": [
            "Validation loss: 1.0026906232039134\n",
            "Validation Accuracy: 56\n",
            "Accuracy for class: 1     is 58.0 %\n",
            "Accuracy for class: 2     is 81.4 %\n",
            "Accuracy for class: 3     is 0.0 %\n",
            "Accuracy for class: 4     is 0.0 %\n",
            "Epoch9 of 150\n"
          ]
        },
        {
          "output_type": "stream",
          "name": "stderr",
          "text": [
            "100%|██████████| 31/31 [00:11<00:00,  2.63it/s]\n"
          ]
        },
        {
          "output_type": "stream",
          "name": "stdout",
          "text": [
            "Training loss: 0.8420401350144417\n",
            "Training Accuracy: 62\n",
            "Accuracy for class: 1     is 81.2 %\n",
            "Accuracy for class: 2     is 64.0 %\n",
            "Accuracy for class: 3     is 20.0 %\n",
            "Accuracy for class: 4     is 0.0 %\n"
          ]
        },
        {
          "output_type": "stream",
          "name": "stderr",
          "text": [
            "100%|██████████| 6/6 [00:01<00:00,  3.61it/s]\n"
          ]
        },
        {
          "output_type": "stream",
          "name": "stdout",
          "text": [
            "Validation loss: 0.8359819153944651\n",
            "Validation Accuracy: 61\n",
            "Accuracy for class: 1     is 89.4 %\n",
            "Accuracy for class: 2     is 50.0 %\n",
            "Accuracy for class: 3     is 31.2 %\n",
            "Accuracy for class: 4     is 0.0 %\n",
            "Epoch10 of 150\n"
          ]
        },
        {
          "output_type": "stream",
          "name": "stderr",
          "text": [
            "100%|██████████| 31/31 [00:11<00:00,  2.66it/s]\n"
          ]
        },
        {
          "output_type": "stream",
          "name": "stdout",
          "text": [
            "Training loss: 0.8275318895616839\n",
            "Training Accuracy: 65\n",
            "Accuracy for class: 1     is 85.2 %\n",
            "Accuracy for class: 2     is 65.2 %\n",
            "Accuracy for class: 3     is 22.8 %\n",
            "Accuracy for class: 4     is 0.0 %\n"
          ]
        },
        {
          "output_type": "stream",
          "name": "stderr",
          "text": [
            "100%|██████████| 6/6 [00:01<00:00,  3.56it/s]\n"
          ]
        },
        {
          "output_type": "stream",
          "name": "stdout",
          "text": [
            "Validation loss: 0.7618490358193716\n",
            "Validation Accuracy: 61\n",
            "Accuracy for class: 1     is 82.5 %\n",
            "Accuracy for class: 2     is 65.1 %\n",
            "Accuracy for class: 3     is 17.2 %\n",
            "Accuracy for class: 4     is 0.0 %\n",
            "Epoch11 of 150\n"
          ]
        },
        {
          "output_type": "stream",
          "name": "stderr",
          "text": [
            "100%|██████████| 31/31 [00:11<00:00,  2.79it/s]\n"
          ]
        },
        {
          "output_type": "stream",
          "name": "stdout",
          "text": [
            "Training loss: 0.8169900159681996\n",
            "Training Accuracy: 65\n",
            "Accuracy for class: 1     is 82.7 %\n",
            "Accuracy for class: 2     is 64.8 %\n",
            "Accuracy for class: 3     is 31.6 %\n",
            "Accuracy for class: 4     is 0.0 %\n"
          ]
        },
        {
          "output_type": "stream",
          "name": "stderr",
          "text": [
            "100%|██████████| 6/6 [00:01<00:00,  3.62it/s]\n"
          ]
        },
        {
          "output_type": "stream",
          "name": "stdout",
          "text": [
            "Validation loss: 0.8818224867184957\n",
            "Validation Accuracy: 63\n",
            "Accuracy for class: 1     is 85.3 %\n",
            "Accuracy for class: 2     is 69.9 %\n",
            "Accuracy for class: 3     is 0.0 %\n",
            "Accuracy for class: 4     is 0.0 %\n",
            "Epoch12 of 150\n"
          ]
        },
        {
          "output_type": "stream",
          "name": "stderr",
          "text": [
            "100%|██████████| 31/31 [00:11<00:00,  2.60it/s]\n"
          ]
        },
        {
          "output_type": "stream",
          "name": "stdout",
          "text": [
            "Training loss: 0.8354163304451974\n",
            "Training Accuracy: 62\n",
            "Accuracy for class: 1     is 74.1 %\n",
            "Accuracy for class: 2     is 65.4 %\n",
            "Accuracy for class: 3     is 32.3 %\n",
            "Accuracy for class: 4     is 0.0 %\n"
          ]
        },
        {
          "output_type": "stream",
          "name": "stderr",
          "text": [
            "100%|██████████| 6/6 [00:01<00:00,  3.53it/s]\n"
          ]
        },
        {
          "output_type": "stream",
          "name": "stdout",
          "text": [
            "Validation loss: 0.925369401772817\n",
            "Validation Accuracy: 59\n",
            "Accuracy for class: 1     is 90.0 %\n",
            "Accuracy for class: 2     is 58.0 %\n",
            "Accuracy for class: 3     is 6.9 %\n",
            "Accuracy for class: 4     is 0.0 %\n",
            "Epoch13 of 150\n"
          ]
        },
        {
          "output_type": "stream",
          "name": "stderr",
          "text": [
            "100%|██████████| 31/31 [00:11<00:00,  2.81it/s]\n"
          ]
        },
        {
          "output_type": "stream",
          "name": "stdout",
          "text": [
            "Training loss: 0.7812173770320031\n",
            "Training Accuracy: 66\n",
            "Accuracy for class: 1     is 84.5 %\n",
            "Accuracy for class: 2     is 67.2 %\n",
            "Accuracy for class: 3     is 27.8 %\n",
            "Accuracy for class: 4     is 0.0 %\n"
          ]
        },
        {
          "output_type": "stream",
          "name": "stderr",
          "text": [
            "100%|██████████| 6/6 [00:01<00:00,  3.64it/s]\n"
          ]
        },
        {
          "output_type": "stream",
          "name": "stdout",
          "text": [
            "Validation loss: 0.914394478003184\n",
            "Validation Accuracy: 58\n",
            "Accuracy for class: 1     is 93.8 %\n",
            "Accuracy for class: 2     is 36.6 %\n",
            "Accuracy for class: 3     is 44.0 %\n",
            "Accuracy for class: 4     is 0.0 %\n",
            "Epoch14 of 150\n"
          ]
        },
        {
          "output_type": "stream",
          "name": "stderr",
          "text": [
            "100%|██████████| 31/31 [00:11<00:00,  2.79it/s]\n"
          ]
        },
        {
          "output_type": "stream",
          "name": "stdout",
          "text": [
            "Training loss: 0.8177892181181139\n",
            "Training Accuracy: 64\n",
            "Accuracy for class: 1     is 80.8 %\n",
            "Accuracy for class: 2     is 60.1 %\n",
            "Accuracy for class: 3     is 46.7 %\n",
            "Accuracy for class: 4     is 0.0 %\n"
          ]
        },
        {
          "output_type": "stream",
          "name": "stderr",
          "text": [
            "100%|██████████| 6/6 [00:01<00:00,  3.54it/s]\n"
          ]
        },
        {
          "output_type": "stream",
          "name": "stdout",
          "text": [
            "Validation loss: 0.7477952738602957\n",
            "Validation Accuracy: 68\n",
            "Accuracy for class: 1     is 87.1 %\n",
            "Accuracy for class: 2     is 69.5 %\n",
            "Accuracy for class: 3     is 5.6 %\n",
            "Accuracy for class: 4     is 0.0 %\n",
            "Epoch15 of 150\n"
          ]
        },
        {
          "output_type": "stream",
          "name": "stderr",
          "text": [
            "100%|██████████| 31/31 [00:12<00:00,  2.58it/s]\n"
          ]
        },
        {
          "output_type": "stream",
          "name": "stdout",
          "text": [
            "Training loss: 0.7541826617333197\n",
            "Training Accuracy: 65\n",
            "Accuracy for class: 1     is 80.9 %\n",
            "Accuracy for class: 2     is 67.9 %\n",
            "Accuracy for class: 3     is 28.0 %\n",
            "Accuracy for class: 4     is 0.0 %\n"
          ]
        },
        {
          "output_type": "stream",
          "name": "stderr",
          "text": [
            "100%|██████████| 6/6 [00:01<00:00,  3.50it/s]\n"
          ]
        },
        {
          "output_type": "stream",
          "name": "stdout",
          "text": [
            "Validation loss: 0.7711323300997416\n",
            "Validation Accuracy: 65\n",
            "Accuracy for class: 1     is 79.4 %\n",
            "Accuracy for class: 2     is 64.2 %\n",
            "Accuracy for class: 3     is 45.9 %\n",
            "Accuracy for class: 4     is 0.0 %\n",
            "Epoch16 of 150\n"
          ]
        },
        {
          "output_type": "stream",
          "name": "stderr",
          "text": [
            "100%|██████████| 31/31 [00:11<00:00,  2.80it/s]\n"
          ]
        },
        {
          "output_type": "stream",
          "name": "stdout",
          "text": [
            "Training loss: 0.7199317716783092\n",
            "Training Accuracy: 68\n",
            "Accuracy for class: 1     is 83.0 %\n",
            "Accuracy for class: 2     is 63.4 %\n",
            "Accuracy for class: 3     is 51.6 %\n",
            "Accuracy for class: 4     is 0.0 %\n"
          ]
        },
        {
          "output_type": "stream",
          "name": "stderr",
          "text": [
            "100%|██████████| 6/6 [00:01<00:00,  3.55it/s]\n"
          ]
        },
        {
          "output_type": "stream",
          "name": "stdout",
          "text": [
            "Validation loss: 0.8411412437756857\n",
            "Validation Accuracy: 63\n",
            "Accuracy for class: 1     is 74.2 %\n",
            "Accuracy for class: 2     is 60.3 %\n",
            "Accuracy for class: 3     is 57.1 %\n",
            "Accuracy for class: 4     is 0.0 %\n",
            "Epoch17 of 150\n"
          ]
        },
        {
          "output_type": "stream",
          "name": "stderr",
          "text": [
            "100%|██████████| 31/31 [00:11<00:00,  2.81it/s]\n"
          ]
        },
        {
          "output_type": "stream",
          "name": "stdout",
          "text": [
            "Training loss: 0.7636943863284203\n",
            "Training Accuracy: 65\n",
            "Accuracy for class: 1     is 79.8 %\n",
            "Accuracy for class: 2     is 66.3 %\n",
            "Accuracy for class: 3     is 37.8 %\n",
            "Accuracy for class: 4     is 0.0 %\n"
          ]
        },
        {
          "output_type": "stream",
          "name": "stderr",
          "text": [
            "100%|██████████| 6/6 [00:01<00:00,  3.61it/s]\n"
          ]
        },
        {
          "output_type": "stream",
          "name": "stdout",
          "text": [
            "Validation loss: 0.6112257540225983\n",
            "Validation Accuracy: 68\n",
            "Accuracy for class: 1     is 95.3 %\n",
            "Accuracy for class: 2     is 67.1 %\n",
            "Accuracy for class: 3     is 22.6 %\n",
            "Accuracy for class: 4     is 0.0 %\n",
            "Epoch18 of 150\n"
          ]
        },
        {
          "output_type": "stream",
          "name": "stderr",
          "text": [
            "100%|██████████| 31/31 [00:11<00:00,  2.81it/s]\n"
          ]
        },
        {
          "output_type": "stream",
          "name": "stdout",
          "text": [
            "Training loss: 0.7095987296873524\n",
            "Training Accuracy: 69\n",
            "Accuracy for class: 1     is 81.9 %\n",
            "Accuracy for class: 2     is 70.8 %\n",
            "Accuracy for class: 3     is 45.1 %\n",
            "Accuracy for class: 4     is 0.0 %\n"
          ]
        },
        {
          "output_type": "stream",
          "name": "stderr",
          "text": [
            "100%|██████████| 6/6 [00:01<00:00,  3.52it/s]\n"
          ]
        },
        {
          "output_type": "stream",
          "name": "stdout",
          "text": [
            "Validation loss: 0.7165317634741465\n",
            "Validation Accuracy: 66\n",
            "Accuracy for class: 1     is 79.4 %\n",
            "Accuracy for class: 2     is 72.5 %\n",
            "Accuracy for class: 3     is 28.0 %\n",
            "Accuracy for class: 4     is 0.0 %\n",
            "Epoch19 of 150\n"
          ]
        },
        {
          "output_type": "stream",
          "name": "stderr",
          "text": [
            "100%|██████████| 31/31 [00:12<00:00,  2.39it/s]\n"
          ]
        },
        {
          "output_type": "stream",
          "name": "stdout",
          "text": [
            "Training loss: 0.6935608781153156\n",
            "Training Accuracy: 70\n",
            "Accuracy for class: 1     is 83.6 %\n",
            "Accuracy for class: 2     is 68.4 %\n",
            "Accuracy for class: 3     is 49.1 %\n",
            "Accuracy for class: 4     is 0.0 %\n"
          ]
        },
        {
          "output_type": "stream",
          "name": "stderr",
          "text": [
            "100%|██████████| 6/6 [00:01<00:00,  3.75it/s]\n"
          ]
        },
        {
          "output_type": "stream",
          "name": "stdout",
          "text": [
            "Validation loss: 1.0495707591374714\n",
            "Validation Accuracy: 52\n",
            "Accuracy for class: 1     is 90.0 %\n",
            "Accuracy for class: 2     is 44.6 %\n",
            "Accuracy for class: 3     is 0.0 %\n",
            "Accuracy for class: 4     is 0.0 %\n",
            "Epoch20 of 150\n"
          ]
        },
        {
          "output_type": "stream",
          "name": "stderr",
          "text": [
            "100%|██████████| 31/31 [00:10<00:00,  2.84it/s]\n"
          ]
        },
        {
          "output_type": "stream",
          "name": "stdout",
          "text": [
            "Training loss: 0.6678757907882813\n",
            "Training Accuracy: 69\n",
            "Accuracy for class: 1     is 80.6 %\n",
            "Accuracy for class: 2     is 68.5 %\n",
            "Accuracy for class: 3     is 54.0 %\n",
            "Accuracy for class: 4     is 0.0 %\n"
          ]
        },
        {
          "output_type": "stream",
          "name": "stderr",
          "text": [
            "100%|██████████| 6/6 [00:01<00:00,  3.48it/s]\n"
          ]
        },
        {
          "output_type": "stream",
          "name": "stdout",
          "text": [
            "Validation loss: 0.6720767716566721\n",
            "Validation Accuracy: 69\n",
            "Accuracy for class: 1     is 82.3 %\n",
            "Accuracy for class: 2     is 63.1 %\n",
            "Accuracy for class: 3     is 57.7 %\n",
            "Accuracy for class: 4     is 0.0 %\n",
            "Epoch21 of 150\n"
          ]
        },
        {
          "output_type": "stream",
          "name": "stderr",
          "text": [
            "100%|██████████| 31/31 [00:11<00:00,  2.79it/s]\n"
          ]
        },
        {
          "output_type": "stream",
          "name": "stdout",
          "text": [
            "Training loss: 0.6870601907853158\n",
            "Training Accuracy: 69\n",
            "Accuracy for class: 1     is 80.0 %\n",
            "Accuracy for class: 2     is 70.5 %\n",
            "Accuracy for class: 3     is 52.1 %\n",
            "Accuracy for class: 4     is 0.0 %\n"
          ]
        },
        {
          "output_type": "stream",
          "name": "stderr",
          "text": [
            "100%|██████████| 6/6 [00:01<00:00,  3.85it/s]\n"
          ]
        },
        {
          "output_type": "stream",
          "name": "stdout",
          "text": [
            "Validation loss: 0.6390346686045328\n",
            "Validation Accuracy: 73\n",
            "Accuracy for class: 1     is 85.7 %\n",
            "Accuracy for class: 2     is 75.3 %\n",
            "Accuracy for class: 3     is 30.0 %\n",
            "Accuracy for class: 4     is 0.0 %\n",
            "Epoch22 of 150\n"
          ]
        },
        {
          "output_type": "stream",
          "name": "stderr",
          "text": [
            "100%|██████████| 31/31 [00:11<00:00,  2.59it/s]\n"
          ]
        },
        {
          "output_type": "stream",
          "name": "stdout",
          "text": [
            "Training loss: 0.638813312976591\n",
            "Training Accuracy: 72\n",
            "Accuracy for class: 1     is 85.0 %\n",
            "Accuracy for class: 2     is 72.7 %\n",
            "Accuracy for class: 3     is 52.5 %\n",
            "Accuracy for class: 4     is 0.0 %\n"
          ]
        },
        {
          "output_type": "stream",
          "name": "stderr",
          "text": [
            "100%|██████████| 6/6 [00:01<00:00,  3.73it/s]\n"
          ]
        },
        {
          "output_type": "stream",
          "name": "stdout",
          "text": [
            "Validation loss: 0.7605660061041514\n",
            "Validation Accuracy: 71\n",
            "Accuracy for class: 1     is 92.8 %\n",
            "Accuracy for class: 2     is 66.2 %\n",
            "Accuracy for class: 3     is 32.0 %\n",
            "Accuracy for class: 4     is 0.0 %\n",
            "Epoch23 of 150\n"
          ]
        },
        {
          "output_type": "stream",
          "name": "stderr",
          "text": [
            "100%|██████████| 31/31 [00:11<00:00,  2.79it/s]\n"
          ]
        },
        {
          "output_type": "stream",
          "name": "stdout",
          "text": [
            "Training loss: 0.6442885706501622\n",
            "Training Accuracy: 71\n",
            "Accuracy for class: 1     is 80.5 %\n",
            "Accuracy for class: 2     is 71.4 %\n",
            "Accuracy for class: 3     is 58.3 %\n",
            "Accuracy for class: 4     is 0.0 %\n"
          ]
        },
        {
          "output_type": "stream",
          "name": "stderr",
          "text": [
            "100%|██████████| 6/6 [00:01<00:00,  3.43it/s]\n"
          ]
        },
        {
          "output_type": "stream",
          "name": "stdout",
          "text": [
            "Validation loss: 0.5281430135170618\n",
            "Validation Accuracy: 78\n",
            "Accuracy for class: 1     is 81.3 %\n",
            "Accuracy for class: 2     is 86.1 %\n",
            "Accuracy for class: 3     is 54.2 %\n",
            "Accuracy for class: 4     is 0.0 %\n",
            "Epoch24 of 150\n"
          ]
        },
        {
          "output_type": "stream",
          "name": "stderr",
          "text": [
            "100%|██████████| 31/31 [00:11<00:00,  2.75it/s]\n"
          ]
        },
        {
          "output_type": "stream",
          "name": "stdout",
          "text": [
            "Training loss: 0.6571256864455438\n",
            "Training Accuracy: 69\n",
            "Accuracy for class: 1     is 77.0 %\n",
            "Accuracy for class: 2     is 67.6 %\n",
            "Accuracy for class: 3     is 66.3 %\n",
            "Accuracy for class: 4     is 0.0 %\n"
          ]
        },
        {
          "output_type": "stream",
          "name": "stderr",
          "text": [
            "100%|██████████| 6/6 [00:01<00:00,  3.63it/s]\n"
          ]
        },
        {
          "output_type": "stream",
          "name": "stdout",
          "text": [
            "Validation loss: 0.6681587348381678\n",
            "Validation Accuracy: 75\n",
            "Accuracy for class: 1     is 92.6 %\n",
            "Accuracy for class: 2     is 61.9 %\n",
            "Accuracy for class: 3     is 83.3 %\n",
            "Accuracy for class: 4     is 0.0 %\n",
            "Epoch25 of 150\n"
          ]
        },
        {
          "output_type": "stream",
          "name": "stderr",
          "text": [
            "100%|██████████| 31/31 [00:10<00:00,  2.82it/s]\n"
          ]
        },
        {
          "output_type": "stream",
          "name": "stdout",
          "text": [
            "Training loss: 0.634611617172918\n",
            "Training Accuracy: 72\n",
            "Accuracy for class: 1     is 84.5 %\n",
            "Accuracy for class: 2     is 72.4 %\n",
            "Accuracy for class: 3     is 55.6 %\n",
            "Accuracy for class: 4     is 0.0 %\n"
          ]
        },
        {
          "output_type": "stream",
          "name": "stderr",
          "text": [
            "100%|██████████| 6/6 [00:01<00:00,  3.73it/s]\n"
          ]
        },
        {
          "output_type": "stream",
          "name": "stdout",
          "text": [
            "Validation loss: 0.5272389153639475\n",
            "Validation Accuracy: 73\n",
            "Accuracy for class: 1     is 72.0 %\n",
            "Accuracy for class: 2     is 85.9 %\n",
            "Accuracy for class: 3     is 52.0 %\n",
            "Accuracy for class: 4     is 0.0 %\n",
            "Epoch26 of 150\n"
          ]
        },
        {
          "output_type": "stream",
          "name": "stderr",
          "text": [
            "100%|██████████| 31/31 [00:15<00:00,  2.05it/s]\n"
          ]
        },
        {
          "output_type": "stream",
          "name": "stdout",
          "text": [
            "Training loss: 0.5312686360651447\n",
            "Training Accuracy: 76\n",
            "Accuracy for class: 1     is 83.9 %\n",
            "Accuracy for class: 2     is 77.0 %\n",
            "Accuracy for class: 3     is 66.2 %\n",
            "Accuracy for class: 4     is 0.0 %\n"
          ]
        },
        {
          "output_type": "stream",
          "name": "stderr",
          "text": [
            "100%|██████████| 6/6 [00:01<00:00,  3.74it/s]\n"
          ]
        },
        {
          "output_type": "stream",
          "name": "stdout",
          "text": [
            "Validation loss: 0.574097752571106\n",
            "Validation Accuracy: 75\n",
            "Accuracy for class: 1     is 86.4 %\n",
            "Accuracy for class: 2     is 78.3 %\n",
            "Accuracy for class: 3     is 60.6 %\n",
            "Accuracy for class: 4     is 0.0 %\n",
            "Epoch27 of 150\n"
          ]
        },
        {
          "output_type": "stream",
          "name": "stderr",
          "text": [
            "100%|██████████| 31/31 [00:12<00:00,  2.40it/s]\n"
          ]
        },
        {
          "output_type": "stream",
          "name": "stdout",
          "text": [
            "Training loss: 0.5523754127563969\n",
            "Training Accuracy: 76\n",
            "Accuracy for class: 1     is 85.9 %\n",
            "Accuracy for class: 2     is 75.9 %\n",
            "Accuracy for class: 3     is 67.3 %\n",
            "Accuracy for class: 4     is 0.0 %\n"
          ]
        },
        {
          "output_type": "stream",
          "name": "stderr",
          "text": [
            "100%|██████████| 6/6 [00:03<00:00,  1.79it/s]\n"
          ]
        },
        {
          "output_type": "stream",
          "name": "stdout",
          "text": [
            "Validation loss: 0.5329635143280029\n",
            "Validation Accuracy: 75\n",
            "Accuracy for class: 1     is 85.0 %\n",
            "Accuracy for class: 2     is 77.4 %\n",
            "Accuracy for class: 3     is 50.0 %\n",
            "Accuracy for class: 4     is 0.0 %\n",
            "Epoch28 of 150\n"
          ]
        },
        {
          "output_type": "stream",
          "name": "stderr",
          "text": [
            "100%|██████████| 31/31 [00:13<00:00,  2.24it/s]\n"
          ]
        },
        {
          "output_type": "stream",
          "name": "stdout",
          "text": [
            "Training loss: 0.5987329704146231\n",
            "Training Accuracy: 74\n",
            "Accuracy for class: 1     is 81.2 %\n",
            "Accuracy for class: 2     is 74.6 %\n",
            "Accuracy for class: 3     is 68.9 %\n",
            "Accuracy for class: 4     is 0.0 %\n"
          ]
        },
        {
          "output_type": "stream",
          "name": "stderr",
          "text": [
            "100%|██████████| 6/6 [00:02<00:00,  2.58it/s]\n"
          ]
        },
        {
          "output_type": "stream",
          "name": "stdout",
          "text": [
            "Validation loss: 0.673297181725502\n",
            "Validation Accuracy: 72\n",
            "Accuracy for class: 1     is 74.2 %\n",
            "Accuracy for class: 2     is 78.2 %\n",
            "Accuracy for class: 3     is 57.7 %\n",
            "Accuracy for class: 4     is 0.0 %\n",
            "Epoch29 of 150\n"
          ]
        },
        {
          "output_type": "stream",
          "name": "stderr",
          "text": [
            "100%|██████████| 31/31 [00:11<00:00,  2.70it/s]\n"
          ]
        },
        {
          "output_type": "stream",
          "name": "stdout",
          "text": [
            "Training loss: 0.5211939206046443\n",
            "Training Accuracy: 77\n",
            "Accuracy for class: 1     is 85.2 %\n",
            "Accuracy for class: 2     is 78.5 %\n",
            "Accuracy for class: 3     is 67.1 %\n",
            "Accuracy for class: 4     is 0.0 %\n"
          ]
        },
        {
          "output_type": "stream",
          "name": "stderr",
          "text": [
            "100%|██████████| 6/6 [00:01<00:00,  3.45it/s]\n"
          ]
        },
        {
          "output_type": "stream",
          "name": "stdout",
          "text": [
            "Validation loss: 0.5049293984969457\n",
            "Validation Accuracy: 79\n",
            "Accuracy for class: 1     is 85.9 %\n",
            "Accuracy for class: 2     is 79.2 %\n",
            "Accuracy for class: 3     is 65.0 %\n",
            "Accuracy for class: 4     is 0.0 %\n",
            "Epoch30 of 150\n"
          ]
        },
        {
          "output_type": "stream",
          "name": "stderr",
          "text": [
            "100%|██████████| 31/31 [00:12<00:00,  2.56it/s]\n"
          ]
        },
        {
          "output_type": "stream",
          "name": "stdout",
          "text": [
            "Training loss: 0.4696992770318062\n",
            "Training Accuracy: 81\n",
            "Accuracy for class: 1     is 86.4 %\n",
            "Accuracy for class: 2     is 80.4 %\n",
            "Accuracy for class: 3     is 78.8 %\n",
            "Accuracy for class: 4     is 15.0 %\n"
          ]
        },
        {
          "output_type": "stream",
          "name": "stderr",
          "text": [
            "100%|██████████| 6/6 [00:01<00:00,  3.66it/s]\n"
          ]
        },
        {
          "output_type": "stream",
          "name": "stdout",
          "text": [
            "Validation loss: 0.5745229224363962\n",
            "Validation Accuracy: 76\n",
            "Accuracy for class: 1     is 91.2 %\n",
            "Accuracy for class: 2     is 79.2 %\n",
            "Accuracy for class: 3     is 37.0 %\n",
            "Accuracy for class: 4     is 0.0 %\n",
            "Epoch31 of 150\n"
          ]
        },
        {
          "output_type": "stream",
          "name": "stderr",
          "text": [
            "100%|██████████| 31/31 [00:10<00:00,  2.82it/s]\n"
          ]
        },
        {
          "output_type": "stream",
          "name": "stdout",
          "text": [
            "Training loss: 0.5455441128823065\n",
            "Training Accuracy: 77\n",
            "Accuracy for class: 1     is 84.0 %\n",
            "Accuracy for class: 2     is 79.3 %\n",
            "Accuracy for class: 3     is 62.7 %\n",
            "Accuracy for class: 4     is 29.4 %\n"
          ]
        },
        {
          "output_type": "stream",
          "name": "stderr",
          "text": [
            "100%|██████████| 6/6 [00:01<00:00,  3.01it/s]\n"
          ]
        },
        {
          "output_type": "stream",
          "name": "stdout",
          "text": [
            "Validation loss: 0.5888789792855581\n",
            "Validation Accuracy: 74\n",
            "Accuracy for class: 1     is 83.8 %\n",
            "Accuracy for class: 2     is 84.0 %\n",
            "Accuracy for class: 3     is 34.6 %\n",
            "Accuracy for class: 4     is 0.0 %\n",
            "Epoch32 of 150\n"
          ]
        },
        {
          "output_type": "stream",
          "name": "stderr",
          "text": [
            "100%|██████████| 31/31 [00:13<00:00,  2.37it/s]\n"
          ]
        },
        {
          "output_type": "stream",
          "name": "stdout",
          "text": [
            "Training loss: 0.4806010338567918\n",
            "Training Accuracy: 81\n",
            "Accuracy for class: 1     is 86.9 %\n",
            "Accuracy for class: 2     is 82.5 %\n",
            "Accuracy for class: 3     is 70.5 %\n",
            "Accuracy for class: 4     is 42.1 %\n"
          ]
        },
        {
          "output_type": "stream",
          "name": "stderr",
          "text": [
            "100%|██████████| 6/6 [00:02<00:00,  2.94it/s]\n"
          ]
        },
        {
          "output_type": "stream",
          "name": "stdout",
          "text": [
            "Validation loss: 0.3829932858546575\n",
            "Validation Accuracy: 86\n",
            "Accuracy for class: 1     is 93.3 %\n",
            "Accuracy for class: 2     is 92.5 %\n",
            "Accuracy for class: 3     is 64.5 %\n",
            "Accuracy for class: 4     is 0.0 %\n",
            "Epoch33 of 150\n"
          ]
        },
        {
          "output_type": "stream",
          "name": "stderr",
          "text": [
            "100%|██████████| 31/31 [00:11<00:00,  2.76it/s]\n"
          ]
        },
        {
          "output_type": "stream",
          "name": "stdout",
          "text": [
            "Training loss: 0.43684027752568644\n",
            "Training Accuracy: 81\n",
            "Accuracy for class: 1     is 86.4 %\n",
            "Accuracy for class: 2     is 80.6 %\n",
            "Accuracy for class: 3     is 75.8 %\n",
            "Accuracy for class: 4     is 44.4 %\n"
          ]
        },
        {
          "output_type": "stream",
          "name": "stderr",
          "text": [
            "100%|██████████| 6/6 [00:01<00:00,  3.67it/s]\n"
          ]
        },
        {
          "output_type": "stream",
          "name": "stdout",
          "text": [
            "Validation loss: 0.35782388349374133\n",
            "Validation Accuracy: 87\n",
            "Accuracy for class: 1     is 86.5 %\n",
            "Accuracy for class: 2     is 94.6 %\n",
            "Accuracy for class: 3     is 68.2 %\n",
            "Accuracy for class: 4     is 66.7 %\n",
            "Epoch34 of 150\n"
          ]
        },
        {
          "output_type": "stream",
          "name": "stderr",
          "text": [
            "100%|██████████| 31/31 [00:11<00:00,  2.82it/s]\n"
          ]
        },
        {
          "output_type": "stream",
          "name": "stdout",
          "text": [
            "Training loss: 0.43511996346135295\n",
            "Training Accuracy: 81\n",
            "Accuracy for class: 1     is 85.2 %\n",
            "Accuracy for class: 2     is 81.9 %\n",
            "Accuracy for class: 3     is 75.9 %\n",
            "Accuracy for class: 4     is 55.6 %\n"
          ]
        },
        {
          "output_type": "stream",
          "name": "stderr",
          "text": [
            "100%|██████████| 6/6 [00:01<00:00,  3.58it/s]\n"
          ]
        },
        {
          "output_type": "stream",
          "name": "stdout",
          "text": [
            "Validation loss: 0.42356980343659717\n",
            "Validation Accuracy: 79\n",
            "Accuracy for class: 1     is 91.7 %\n",
            "Accuracy for class: 2     is 71.4 %\n",
            "Accuracy for class: 3     is 71.4 %\n",
            "Accuracy for class: 4     is 33.3 %\n",
            "Epoch35 of 150\n"
          ]
        },
        {
          "output_type": "stream",
          "name": "stderr",
          "text": [
            "100%|██████████| 31/31 [00:11<00:00,  2.58it/s]\n"
          ]
        },
        {
          "output_type": "stream",
          "name": "stdout",
          "text": [
            "Training loss: 0.4477360743668772\n",
            "Training Accuracy: 81\n",
            "Accuracy for class: 1     is 86.6 %\n",
            "Accuracy for class: 2     is 81.4 %\n",
            "Accuracy for class: 3     is 72.0 %\n",
            "Accuracy for class: 4     is 36.8 %\n"
          ]
        },
        {
          "output_type": "stream",
          "name": "stderr",
          "text": [
            "100%|██████████| 6/6 [00:01<00:00,  3.60it/s]\n"
          ]
        },
        {
          "output_type": "stream",
          "name": "stdout",
          "text": [
            "Validation loss: 0.39024311552445096\n",
            "Validation Accuracy: 85\n",
            "Accuracy for class: 1     is 91.3 %\n",
            "Accuracy for class: 2     is 82.9 %\n",
            "Accuracy for class: 3     is 84.6 %\n",
            "Accuracy for class: 4     is 0.0 %\n",
            "Epoch36 of 150\n"
          ]
        },
        {
          "output_type": "stream",
          "name": "stderr",
          "text": [
            "100%|██████████| 31/31 [00:11<00:00,  2.61it/s]\n"
          ]
        },
        {
          "output_type": "stream",
          "name": "stdout",
          "text": [
            "Training loss: 0.47879719493850587\n",
            "Training Accuracy: 81\n",
            "Accuracy for class: 1     is 88.7 %\n",
            "Accuracy for class: 2     is 81.4 %\n",
            "Accuracy for class: 3     is 67.1 %\n",
            "Accuracy for class: 4     is 42.1 %\n"
          ]
        },
        {
          "output_type": "stream",
          "name": "stderr",
          "text": [
            "100%|██████████| 6/6 [00:01<00:00,  3.09it/s]\n"
          ]
        },
        {
          "output_type": "stream",
          "name": "stdout",
          "text": [
            "Validation loss: 0.5843721826871237\n",
            "Validation Accuracy: 76\n",
            "Accuracy for class: 1     is 94.2 %\n",
            "Accuracy for class: 2     is 68.4 %\n",
            "Accuracy for class: 3     is 57.7 %\n",
            "Accuracy for class: 4     is 0.0 %\n",
            "Epoch37 of 150\n"
          ]
        },
        {
          "output_type": "stream",
          "name": "stderr",
          "text": [
            "100%|██████████| 31/31 [00:11<00:00,  2.77it/s]\n"
          ]
        },
        {
          "output_type": "stream",
          "name": "stdout",
          "text": [
            "Training loss: 0.40349366251499424\n",
            "Training Accuracy: 84\n",
            "Accuracy for class: 1     is 88.3 %\n",
            "Accuracy for class: 2     is 84.0 %\n",
            "Accuracy for class: 3     is 82.3 %\n",
            "Accuracy for class: 4     is 43.8 %\n"
          ]
        },
        {
          "output_type": "stream",
          "name": "stderr",
          "text": [
            "100%|██████████| 6/6 [00:01<00:00,  3.61it/s]\n"
          ]
        },
        {
          "output_type": "stream",
          "name": "stdout",
          "text": [
            "Validation loss: 0.6031224230925242\n",
            "Validation Accuracy: 78\n",
            "Accuracy for class: 1     is 74.2 %\n",
            "Accuracy for class: 2     is 86.3 %\n",
            "Accuracy for class: 3     is 69.0 %\n",
            "Accuracy for class: 4     is 80.0 %\n",
            "Epoch38 of 150\n"
          ]
        },
        {
          "output_type": "stream",
          "name": "stderr",
          "text": [
            "100%|██████████| 31/31 [00:11<00:00,  2.73it/s]\n"
          ]
        },
        {
          "output_type": "stream",
          "name": "stdout",
          "text": [
            "Training loss: 0.4152913627124602\n",
            "Training Accuracy: 83\n",
            "Accuracy for class: 1     is 88.1 %\n",
            "Accuracy for class: 2     is 83.8 %\n",
            "Accuracy for class: 3     is 74.0 %\n",
            "Accuracy for class: 4     is 55.6 %\n"
          ]
        },
        {
          "output_type": "stream",
          "name": "stderr",
          "text": [
            "100%|██████████| 6/6 [00:01<00:00,  3.28it/s]\n"
          ]
        },
        {
          "output_type": "stream",
          "name": "stdout",
          "text": [
            "Validation loss: 0.48903944591681164\n",
            "Validation Accuracy: 83\n",
            "Accuracy for class: 1     is 93.0 %\n",
            "Accuracy for class: 2     is 66.7 %\n",
            "Accuracy for class: 3     is 97.0 %\n",
            "Accuracy for class: 4     is 66.7 %\n",
            "Epoch39 of 150\n"
          ]
        },
        {
          "output_type": "stream",
          "name": "stderr",
          "text": [
            "100%|██████████| 31/31 [00:11<00:00,  2.61it/s]\n"
          ]
        },
        {
          "output_type": "stream",
          "name": "stdout",
          "text": [
            "Training loss: 0.3955655790144397\n",
            "Training Accuracy: 83\n",
            "Accuracy for class: 1     is 89.5 %\n",
            "Accuracy for class: 2     is 82.6 %\n",
            "Accuracy for class: 3     is 75.8 %\n",
            "Accuracy for class: 4     is 58.8 %\n"
          ]
        },
        {
          "output_type": "stream",
          "name": "stderr",
          "text": [
            "100%|██████████| 6/6 [00:01<00:00,  3.68it/s]\n"
          ]
        },
        {
          "output_type": "stream",
          "name": "stdout",
          "text": [
            "Validation loss: 0.5219812194506327\n",
            "Validation Accuracy: 82\n",
            "Accuracy for class: 1     is 74.3 %\n",
            "Accuracy for class: 2     is 89.2 %\n",
            "Accuracy for class: 3     is 88.2 %\n",
            "Accuracy for class: 4     is 50.0 %\n",
            "Epoch40 of 150\n"
          ]
        },
        {
          "output_type": "stream",
          "name": "stderr",
          "text": [
            "100%|██████████| 31/31 [00:11<00:00,  2.62it/s]\n"
          ]
        },
        {
          "output_type": "stream",
          "name": "stdout",
          "text": [
            "Training loss: 0.3628773439315058\n",
            "Training Accuracy: 85\n",
            "Accuracy for class: 1     is 90.5 %\n",
            "Accuracy for class: 2     is 84.3 %\n",
            "Accuracy for class: 3     is 82.7 %\n",
            "Accuracy for class: 4     is 44.4 %\n"
          ]
        },
        {
          "output_type": "stream",
          "name": "stderr",
          "text": [
            "100%|██████████| 6/6 [00:01<00:00,  3.70it/s]\n"
          ]
        },
        {
          "output_type": "stream",
          "name": "stdout",
          "text": [
            "Validation loss: 0.279952809214592\n",
            "Validation Accuracy: 89\n",
            "Accuracy for class: 1     is 93.4 %\n",
            "Accuracy for class: 2     is 91.0 %\n",
            "Accuracy for class: 3     is 74.2 %\n",
            "Accuracy for class: 4     is 100.0 %\n",
            "Epoch41 of 150\n"
          ]
        },
        {
          "output_type": "stream",
          "name": "stderr",
          "text": [
            "100%|██████████| 31/31 [00:11<00:00,  2.72it/s]\n"
          ]
        },
        {
          "output_type": "stream",
          "name": "stdout",
          "text": [
            "Training loss: 0.35151507417040484\n",
            "Training Accuracy: 85\n",
            "Accuracy for class: 1     is 89.1 %\n",
            "Accuracy for class: 2     is 84.0 %\n",
            "Accuracy for class: 3     is 84.1 %\n",
            "Accuracy for class: 4     is 72.2 %\n"
          ]
        },
        {
          "output_type": "stream",
          "name": "stderr",
          "text": [
            "100%|██████████| 6/6 [00:01<00:00,  3.66it/s]\n"
          ]
        },
        {
          "output_type": "stream",
          "name": "stdout",
          "text": [
            "Validation loss: 0.38284926613171893\n",
            "Validation Accuracy: 83\n",
            "Accuracy for class: 1     is 81.3 %\n",
            "Accuracy for class: 2     is 90.8 %\n",
            "Accuracy for class: 3     is 73.3 %\n",
            "Accuracy for class: 4     is 66.7 %\n",
            "Epoch42 of 150\n"
          ]
        },
        {
          "output_type": "stream",
          "name": "stderr",
          "text": [
            "100%|██████████| 31/31 [00:12<00:00,  2.54it/s]\n"
          ]
        },
        {
          "output_type": "stream",
          "name": "stdout",
          "text": [
            "Training loss: 0.37452961792868955\n",
            "Training Accuracy: 84\n",
            "Accuracy for class: 1     is 91.2 %\n",
            "Accuracy for class: 2     is 84.4 %\n",
            "Accuracy for class: 3     is 75.5 %\n",
            "Accuracy for class: 4     is 33.3 %\n"
          ]
        },
        {
          "output_type": "stream",
          "name": "stderr",
          "text": [
            "100%|██████████| 6/6 [00:01<00:00,  3.65it/s]\n"
          ]
        },
        {
          "output_type": "stream",
          "name": "stdout",
          "text": [
            "Validation loss: 0.2970637579758962\n",
            "Validation Accuracy: 88\n",
            "Accuracy for class: 1     is 89.2 %\n",
            "Accuracy for class: 2     is 93.8 %\n",
            "Accuracy for class: 3     is 66.7 %\n",
            "Accuracy for class: 4     is 100.0 %\n",
            "Epoch43 of 150\n"
          ]
        },
        {
          "output_type": "stream",
          "name": "stderr",
          "text": [
            "100%|██████████| 31/31 [00:11<00:00,  2.80it/s]\n"
          ]
        },
        {
          "output_type": "stream",
          "name": "stdout",
          "text": [
            "Training loss: 0.30520115360136957\n",
            "Training Accuracy: 88\n",
            "Accuracy for class: 1     is 90.5 %\n",
            "Accuracy for class: 2     is 90.0 %\n",
            "Accuracy for class: 3     is 83.6 %\n",
            "Accuracy for class: 4     is 66.7 %\n"
          ]
        },
        {
          "output_type": "stream",
          "name": "stderr",
          "text": [
            "100%|██████████| 6/6 [00:01<00:00,  3.69it/s]\n"
          ]
        },
        {
          "output_type": "stream",
          "name": "stdout",
          "text": [
            "Validation loss: 0.31017062316338223\n",
            "Validation Accuracy: 89\n",
            "Accuracy for class: 1     is 88.6 %\n",
            "Accuracy for class: 2     is 93.1 %\n",
            "Accuracy for class: 3     is 82.1 %\n",
            "Accuracy for class: 4     is 66.7 %\n",
            "Epoch44 of 150\n"
          ]
        },
        {
          "output_type": "stream",
          "name": "stderr",
          "text": [
            "100%|██████████| 31/31 [00:11<00:00,  2.81it/s]\n"
          ]
        },
        {
          "output_type": "stream",
          "name": "stdout",
          "text": [
            "Training loss: 0.2798988987361231\n",
            "Training Accuracy: 89\n",
            "Accuracy for class: 1     is 92.4 %\n",
            "Accuracy for class: 2     is 88.5 %\n",
            "Accuracy for class: 3     is 87.7 %\n",
            "Accuracy for class: 4     is 83.3 %\n"
          ]
        },
        {
          "output_type": "stream",
          "name": "stderr",
          "text": [
            "100%|██████████| 6/6 [00:01<00:00,  3.63it/s]\n"
          ]
        },
        {
          "output_type": "stream",
          "name": "stdout",
          "text": [
            "Validation loss: 0.1891969715555509\n",
            "Validation Accuracy: 93\n",
            "Accuracy for class: 1     is 92.9 %\n",
            "Accuracy for class: 2     is 95.1 %\n",
            "Accuracy for class: 3     is 87.5 %\n",
            "Accuracy for class: 4     is 100.0 %\n",
            "Epoch45 of 150\n"
          ]
        },
        {
          "output_type": "stream",
          "name": "stderr",
          "text": [
            "100%|██████████| 31/31 [00:11<00:00,  2.75it/s]\n"
          ]
        },
        {
          "output_type": "stream",
          "name": "stdout",
          "text": [
            "Training loss: 0.2720880837690446\n",
            "Training Accuracy: 88\n",
            "Accuracy for class: 1     is 92.8 %\n",
            "Accuracy for class: 2     is 88.3 %\n",
            "Accuracy for class: 3     is 80.1 %\n",
            "Accuracy for class: 4     is 85.7 %\n"
          ]
        },
        {
          "output_type": "stream",
          "name": "stderr",
          "text": [
            "100%|██████████| 6/6 [00:02<00:00,  2.51it/s]\n"
          ]
        },
        {
          "output_type": "stream",
          "name": "stdout",
          "text": [
            "Validation loss: 0.36807437241077423\n",
            "Validation Accuracy: 83\n",
            "Accuracy for class: 1     is 92.1 %\n",
            "Accuracy for class: 2     is 77.2 %\n",
            "Accuracy for class: 3     is 83.9 %\n",
            "Accuracy for class: 4     is 0\n",
            "Epoch46 of 150\n"
          ]
        },
        {
          "output_type": "stream",
          "name": "stderr",
          "text": [
            "100%|██████████| 31/31 [00:11<00:00,  2.75it/s]\n"
          ]
        },
        {
          "output_type": "stream",
          "name": "stdout",
          "text": [
            "Training loss: 0.2687922338804891\n",
            "Training Accuracy: 89\n",
            "Accuracy for class: 1     is 93.7 %\n",
            "Accuracy for class: 2     is 89.5 %\n",
            "Accuracy for class: 3     is 80.5 %\n",
            "Accuracy for class: 4     is 82.4 %\n"
          ]
        },
        {
          "output_type": "stream",
          "name": "stderr",
          "text": [
            "100%|██████████| 6/6 [00:01<00:00,  3.53it/s]\n"
          ]
        },
        {
          "output_type": "stream",
          "name": "stdout",
          "text": [
            "Validation loss: 0.36377206444740295\n",
            "Validation Accuracy: 84\n",
            "Accuracy for class: 1     is 92.8 %\n",
            "Accuracy for class: 2     is 76.4 %\n",
            "Accuracy for class: 3     is 89.3 %\n",
            "Accuracy for class: 4     is 50.0 %\n",
            "Epoch47 of 150\n"
          ]
        },
        {
          "output_type": "stream",
          "name": "stderr",
          "text": [
            "100%|██████████| 31/31 [00:12<00:00,  2.54it/s]\n"
          ]
        },
        {
          "output_type": "stream",
          "name": "stdout",
          "text": [
            "Training loss: 0.28707771171485225\n",
            "Training Accuracy: 89\n",
            "Accuracy for class: 1     is 93.1 %\n",
            "Accuracy for class: 2     is 88.5 %\n",
            "Accuracy for class: 3     is 83.9 %\n",
            "Accuracy for class: 4     is 78.9 %\n"
          ]
        },
        {
          "output_type": "stream",
          "name": "stderr",
          "text": [
            "100%|██████████| 6/6 [00:01<00:00,  3.65it/s]\n"
          ]
        },
        {
          "output_type": "stream",
          "name": "stdout",
          "text": [
            "Validation loss: 0.32191002120574314\n",
            "Validation Accuracy: 89\n",
            "Accuracy for class: 1     is 91.8 %\n",
            "Accuracy for class: 2     is 83.3 %\n",
            "Accuracy for class: 3     is 93.8 %\n",
            "Accuracy for class: 4     is 100.0 %\n",
            "Epoch48 of 150\n"
          ]
        },
        {
          "output_type": "stream",
          "name": "stderr",
          "text": [
            "100%|██████████| 31/31 [00:11<00:00,  2.82it/s]\n"
          ]
        },
        {
          "output_type": "stream",
          "name": "stdout",
          "text": [
            "Training loss: 0.2533116198835834\n",
            "Training Accuracy: 90\n",
            "Accuracy for class: 1     is 94.0 %\n",
            "Accuracy for class: 2     is 90.6 %\n",
            "Accuracy for class: 3     is 85.6 %\n",
            "Accuracy for class: 4     is 80.0 %\n"
          ]
        },
        {
          "output_type": "stream",
          "name": "stderr",
          "text": [
            "100%|██████████| 6/6 [00:01<00:00,  3.51it/s]\n"
          ]
        },
        {
          "output_type": "stream",
          "name": "stdout",
          "text": [
            "Validation loss: 0.3441053330898285\n",
            "Validation Accuracy: 84\n",
            "Accuracy for class: 1     is 80.3 %\n",
            "Accuracy for class: 2     is 93.2 %\n",
            "Accuracy for class: 3     is 81.5 %\n",
            "Accuracy for class: 4     is 50.0 %\n",
            "Epoch49 of 150\n"
          ]
        },
        {
          "output_type": "stream",
          "name": "stderr",
          "text": [
            "100%|██████████| 31/31 [00:12<00:00,  2.41it/s]\n"
          ]
        },
        {
          "output_type": "stream",
          "name": "stdout",
          "text": [
            "Training loss: 0.2719142634061075\n",
            "Training Accuracy: 88\n",
            "Accuracy for class: 1     is 90.4 %\n",
            "Accuracy for class: 2     is 89.2 %\n",
            "Accuracy for class: 3     is 84.4 %\n",
            "Accuracy for class: 4     is 80.0 %\n"
          ]
        },
        {
          "output_type": "stream",
          "name": "stderr",
          "text": [
            "100%|██████████| 6/6 [00:01<00:00,  3.61it/s]\n"
          ]
        },
        {
          "output_type": "stream",
          "name": "stdout",
          "text": [
            "Validation loss: 0.2595311452945073\n",
            "Validation Accuracy: 90\n",
            "Accuracy for class: 1     is 86.5 %\n",
            "Accuracy for class: 2     is 93.8 %\n",
            "Accuracy for class: 3     is 97.0 %\n",
            "Accuracy for class: 4     is 0.0 %\n",
            "Epoch50 of 150\n"
          ]
        },
        {
          "output_type": "stream",
          "name": "stderr",
          "text": [
            "100%|██████████| 31/31 [00:12<00:00,  2.58it/s]\n"
          ]
        },
        {
          "output_type": "stream",
          "name": "stdout",
          "text": [
            "Training loss: 0.2242047894866236\n",
            "Training Accuracy: 90\n",
            "Accuracy for class: 1     is 94.5 %\n",
            "Accuracy for class: 2     is 91.4 %\n",
            "Accuracy for class: 3     is 80.9 %\n",
            "Accuracy for class: 4     is 94.1 %\n"
          ]
        },
        {
          "output_type": "stream",
          "name": "stderr",
          "text": [
            "100%|██████████| 6/6 [00:01<00:00,  3.66it/s]\n"
          ]
        },
        {
          "output_type": "stream",
          "name": "stdout",
          "text": [
            "Validation loss: 0.2573871910572052\n",
            "Validation Accuracy: 88\n",
            "Accuracy for class: 1     is 89.4 %\n",
            "Accuracy for class: 2     is 90.4 %\n",
            "Accuracy for class: 3     is 80.0 %\n",
            "Accuracy for class: 4     is 100.0 %\n",
            "Epoch51 of 150\n"
          ]
        },
        {
          "output_type": "stream",
          "name": "stderr",
          "text": [
            "100%|██████████| 31/31 [00:12<00:00,  2.47it/s]\n"
          ]
        },
        {
          "output_type": "stream",
          "name": "stdout",
          "text": [
            "Training loss: 0.23727829946625617\n",
            "Training Accuracy: 89\n",
            "Accuracy for class: 1     is 92.5 %\n",
            "Accuracy for class: 2     is 88.5 %\n",
            "Accuracy for class: 3     is 86.4 %\n",
            "Accuracy for class: 4     is 81.2 %\n"
          ]
        },
        {
          "output_type": "stream",
          "name": "stderr",
          "text": [
            "100%|██████████| 6/6 [00:01<00:00,  3.68it/s]\n"
          ]
        },
        {
          "output_type": "stream",
          "name": "stdout",
          "text": [
            "Validation loss: 0.29415421436230343\n",
            "Validation Accuracy: 90\n",
            "Accuracy for class: 1     is 86.9 %\n",
            "Accuracy for class: 2     is 92.7 %\n",
            "Accuracy for class: 3     is 96.0 %\n",
            "Accuracy for class: 4     is 80.0 %\n",
            "Epoch52 of 150\n"
          ]
        },
        {
          "output_type": "stream",
          "name": "stderr",
          "text": [
            "100%|██████████| 31/31 [00:15<00:00,  1.98it/s]\n"
          ]
        },
        {
          "output_type": "stream",
          "name": "stdout",
          "text": [
            "Training loss: 0.1933399484522881\n",
            "Training Accuracy: 93\n",
            "Accuracy for class: 1     is 94.4 %\n",
            "Accuracy for class: 2     is 94.1 %\n",
            "Accuracy for class: 3     is 88.6 %\n",
            "Accuracy for class: 4     is 88.9 %\n"
          ]
        },
        {
          "output_type": "stream",
          "name": "stderr",
          "text": [
            "100%|██████████| 6/6 [00:01<00:00,  3.66it/s]\n"
          ]
        },
        {
          "output_type": "stream",
          "name": "stdout",
          "text": [
            "Validation loss: 0.24689781355361143\n",
            "Validation Accuracy: 88\n",
            "Accuracy for class: 1     is 94.9 %\n",
            "Accuracy for class: 2     is 89.0 %\n",
            "Accuracy for class: 3     is 75.9 %\n",
            "Accuracy for class: 4     is 66.7 %\n",
            "Epoch53 of 150\n"
          ]
        },
        {
          "output_type": "stream",
          "name": "stderr",
          "text": [
            "100%|██████████| 31/31 [00:16<00:00,  1.83it/s]\n"
          ]
        },
        {
          "output_type": "stream",
          "name": "stdout",
          "text": [
            "Training loss: 0.18628767745629435\n",
            "Training Accuracy: 93\n",
            "Accuracy for class: 1     is 93.5 %\n",
            "Accuracy for class: 2     is 93.3 %\n",
            "Accuracy for class: 3     is 94.9 %\n",
            "Accuracy for class: 4     is 68.8 %\n"
          ]
        },
        {
          "output_type": "stream",
          "name": "stderr",
          "text": [
            "100%|██████████| 6/6 [00:02<00:00,  2.97it/s]\n"
          ]
        },
        {
          "output_type": "stream",
          "name": "stdout",
          "text": [
            "Validation loss: 0.22889720648527145\n",
            "Validation Accuracy: 91\n",
            "Accuracy for class: 1     is 92.5 %\n",
            "Accuracy for class: 2     is 93.1 %\n",
            "Accuracy for class: 3     is 86.2 %\n",
            "Accuracy for class: 4     is 100.0 %\n",
            "Epoch54 of 150\n"
          ]
        },
        {
          "output_type": "stream",
          "name": "stderr",
          "text": [
            "100%|██████████| 31/31 [00:13<00:00,  2.33it/s]\n"
          ]
        },
        {
          "output_type": "stream",
          "name": "stdout",
          "text": [
            "Training loss: 0.18823499256564724\n",
            "Training Accuracy: 92\n",
            "Accuracy for class: 1     is 95.3 %\n",
            "Accuracy for class: 2     is 90.8 %\n",
            "Accuracy for class: 3     is 88.7 %\n",
            "Accuracy for class: 4     is 85.0 %\n"
          ]
        },
        {
          "output_type": "stream",
          "name": "stderr",
          "text": [
            "100%|██████████| 6/6 [00:02<00:00,  2.70it/s]\n"
          ]
        },
        {
          "output_type": "stream",
          "name": "stdout",
          "text": [
            "Validation loss: 0.37224504351615906\n",
            "Validation Accuracy: 87\n",
            "Accuracy for class: 1     is 95.5 %\n",
            "Accuracy for class: 2     is 88.3 %\n",
            "Accuracy for class: 3     is 67.9 %\n",
            "Accuracy for class: 4     is 100.0 %\n",
            "Epoch55 of 150\n"
          ]
        },
        {
          "output_type": "stream",
          "name": "stderr",
          "text": [
            "100%|██████████| 31/31 [00:12<00:00,  2.43it/s]\n"
          ]
        },
        {
          "output_type": "stream",
          "name": "stdout",
          "text": [
            "Training loss: 0.21801401590628008\n",
            "Training Accuracy: 92\n",
            "Accuracy for class: 1     is 95.5 %\n",
            "Accuracy for class: 2     is 91.8 %\n",
            "Accuracy for class: 3     is 85.9 %\n",
            "Accuracy for class: 4     is 88.9 %\n"
          ]
        },
        {
          "output_type": "stream",
          "name": "stderr",
          "text": [
            "100%|██████████| 6/6 [00:01<00:00,  3.76it/s]\n"
          ]
        },
        {
          "output_type": "stream",
          "name": "stdout",
          "text": [
            "Validation loss: 0.21526172012090683\n",
            "Validation Accuracy: 93\n",
            "Accuracy for class: 1     is 91.9 %\n",
            "Accuracy for class: 2     is 93.8 %\n",
            "Accuracy for class: 3     is 93.5 %\n",
            "Accuracy for class: 4     is 100.0 %\n",
            "Epoch56 of 150\n"
          ]
        },
        {
          "output_type": "stream",
          "name": "stderr",
          "text": [
            "100%|██████████| 31/31 [00:11<00:00,  2.81it/s]\n"
          ]
        },
        {
          "output_type": "stream",
          "name": "stdout",
          "text": [
            "Training loss: 0.17630454285010214\n",
            "Training Accuracy: 93\n",
            "Accuracy for class: 1     is 95.8 %\n",
            "Accuracy for class: 2     is 93.3 %\n",
            "Accuracy for class: 3     is 88.1 %\n",
            "Accuracy for class: 4     is 88.2 %\n"
          ]
        },
        {
          "output_type": "stream",
          "name": "stderr",
          "text": [
            "100%|██████████| 6/6 [00:01<00:00,  3.64it/s]\n"
          ]
        },
        {
          "output_type": "stream",
          "name": "stdout",
          "text": [
            "Validation loss: 0.23863771557807922\n",
            "Validation Accuracy: 90\n",
            "Accuracy for class: 1     is 90.1 %\n",
            "Accuracy for class: 2     is 94.3 %\n",
            "Accuracy for class: 3     is 85.7 %\n",
            "Accuracy for class: 4     is 75.0 %\n",
            "Epoch57 of 150\n"
          ]
        },
        {
          "output_type": "stream",
          "name": "stderr",
          "text": [
            "100%|██████████| 31/31 [00:11<00:00,  2.81it/s]\n"
          ]
        },
        {
          "output_type": "stream",
          "name": "stdout",
          "text": [
            "Training loss: 0.18008573449427082\n",
            "Training Accuracy: 93\n",
            "Accuracy for class: 1     is 96.1 %\n",
            "Accuracy for class: 2     is 94.3 %\n",
            "Accuracy for class: 3     is 89.1 %\n",
            "Accuracy for class: 4     is 81.2 %\n"
          ]
        },
        {
          "output_type": "stream",
          "name": "stderr",
          "text": [
            "100%|██████████| 6/6 [00:01<00:00,  3.69it/s]\n"
          ]
        },
        {
          "output_type": "stream",
          "name": "stdout",
          "text": [
            "Validation loss: 0.18960189819335938\n",
            "Validation Accuracy: 91\n",
            "Accuracy for class: 1     is 90.8 %\n",
            "Accuracy for class: 2     is 91.7 %\n",
            "Accuracy for class: 3     is 93.5 %\n",
            "Accuracy for class: 4     is 100.0 %\n",
            "Epoch58 of 150\n"
          ]
        },
        {
          "output_type": "stream",
          "name": "stderr",
          "text": [
            "100%|██████████| 31/31 [00:12<00:00,  2.58it/s]\n"
          ]
        },
        {
          "output_type": "stream",
          "name": "stdout",
          "text": [
            "Training loss: 0.19079463784733125\n",
            "Training Accuracy: 93\n",
            "Accuracy for class: 1     is 94.6 %\n",
            "Accuracy for class: 2     is 92.9 %\n",
            "Accuracy for class: 3     is 91.3 %\n",
            "Accuracy for class: 4     is 84.2 %\n"
          ]
        },
        {
          "output_type": "stream",
          "name": "stderr",
          "text": [
            "100%|██████████| 6/6 [00:01<00:00,  3.66it/s]\n"
          ]
        },
        {
          "output_type": "stream",
          "name": "stdout",
          "text": [
            "Validation loss: 0.30854594459136325\n",
            "Validation Accuracy: 89\n",
            "Accuracy for class: 1     is 92.1 %\n",
            "Accuracy for class: 2     is 98.8 %\n",
            "Accuracy for class: 3     is 53.8 %\n",
            "Accuracy for class: 4     is 50.0 %\n",
            "Epoch59 of 150\n"
          ]
        },
        {
          "output_type": "stream",
          "name": "stderr",
          "text": [
            "100%|██████████| 31/31 [00:10<00:00,  2.82it/s]\n"
          ]
        },
        {
          "output_type": "stream",
          "name": "stdout",
          "text": [
            "Training loss: 0.1979807252364774\n",
            "Training Accuracy: 93\n",
            "Accuracy for class: 1     is 96.5 %\n",
            "Accuracy for class: 2     is 93.8 %\n",
            "Accuracy for class: 3     is 87.0 %\n",
            "Accuracy for class: 4     is 80.0 %\n"
          ]
        },
        {
          "output_type": "stream",
          "name": "stderr",
          "text": [
            "100%|██████████| 6/6 [00:01<00:00,  3.65it/s]\n"
          ]
        },
        {
          "output_type": "stream",
          "name": "stdout",
          "text": [
            "Validation loss: 0.3619633341828982\n",
            "Validation Accuracy: 87\n",
            "Accuracy for class: 1     is 84.0 %\n",
            "Accuracy for class: 2     is 87.3 %\n",
            "Accuracy for class: 3     is 96.2 %\n",
            "Accuracy for class: 4     is 100.0 %\n",
            "Epoch60 of 150\n"
          ]
        },
        {
          "output_type": "stream",
          "name": "stderr",
          "text": [
            "100%|██████████| 31/31 [00:10<00:00,  2.82it/s]\n"
          ]
        },
        {
          "output_type": "stream",
          "name": "stdout",
          "text": [
            "Training loss: 0.2166283337339278\n",
            "Training Accuracy: 91\n",
            "Accuracy for class: 1     is 94.9 %\n",
            "Accuracy for class: 2     is 91.1 %\n",
            "Accuracy for class: 3     is 84.2 %\n",
            "Accuracy for class: 4     is 100.0 %\n"
          ]
        },
        {
          "output_type": "stream",
          "name": "stderr",
          "text": [
            "100%|██████████| 6/6 [00:01<00:00,  3.37it/s]\n"
          ]
        },
        {
          "output_type": "stream",
          "name": "stdout",
          "text": [
            "Validation loss: 0.14343841622273126\n",
            "Validation Accuracy: 93\n",
            "Accuracy for class: 1     is 100.0 %\n",
            "Accuracy for class: 2     is 87.5 %\n",
            "Accuracy for class: 3     is 89.7 %\n",
            "Accuracy for class: 4     is 75.0 %\n",
            "Epoch61 of 150\n"
          ]
        },
        {
          "output_type": "stream",
          "name": "stderr",
          "text": [
            "100%|██████████| 31/31 [00:12<00:00,  2.39it/s]\n"
          ]
        },
        {
          "output_type": "stream",
          "name": "stdout",
          "text": [
            "Training loss: 0.18888742344514017\n",
            "Training Accuracy: 93\n",
            "Accuracy for class: 1     is 95.1 %\n",
            "Accuracy for class: 2     is 92.8 %\n",
            "Accuracy for class: 3     is 87.9 %\n",
            "Accuracy for class: 4     is 100.0 %\n"
          ]
        },
        {
          "output_type": "stream",
          "name": "stderr",
          "text": [
            "100%|██████████| 6/6 [00:01<00:00,  3.55it/s]\n"
          ]
        },
        {
          "output_type": "stream",
          "name": "stdout",
          "text": [
            "Validation loss: 0.24373085424304008\n",
            "Validation Accuracy: 91\n",
            "Accuracy for class: 1     is 95.1 %\n",
            "Accuracy for class: 2     is 92.2 %\n",
            "Accuracy for class: 3     is 83.3 %\n",
            "Accuracy for class: 4     is 80.0 %\n",
            "Epoch62 of 150\n"
          ]
        },
        {
          "output_type": "stream",
          "name": "stderr",
          "text": [
            "100%|██████████| 31/31 [00:11<00:00,  2.71it/s]\n"
          ]
        },
        {
          "output_type": "stream",
          "name": "stdout",
          "text": [
            "Training loss: 0.1890726929470416\n",
            "Training Accuracy: 93\n",
            "Accuracy for class: 1     is 94.6 %\n",
            "Accuracy for class: 2     is 93.1 %\n",
            "Accuracy for class: 3     is 91.9 %\n",
            "Accuracy for class: 4     is 85.0 %\n"
          ]
        },
        {
          "output_type": "stream",
          "name": "stderr",
          "text": [
            "100%|██████████| 6/6 [00:01<00:00,  3.76it/s]\n"
          ]
        },
        {
          "output_type": "stream",
          "name": "stdout",
          "text": [
            "Validation loss: 0.10411616538961728\n",
            "Validation Accuracy: 97\n",
            "Accuracy for class: 1     is 98.7 %\n",
            "Accuracy for class: 2     is 95.6 %\n",
            "Accuracy for class: 3     is 100.0 %\n",
            "Accuracy for class: 4     is 100.0 %\n",
            "Epoch63 of 150\n"
          ]
        },
        {
          "output_type": "stream",
          "name": "stderr",
          "text": [
            "100%|██████████| 31/31 [00:11<00:00,  2.80it/s]\n"
          ]
        },
        {
          "output_type": "stream",
          "name": "stdout",
          "text": [
            "Training loss: 0.1747835010530487\n",
            "Training Accuracy: 94\n",
            "Accuracy for class: 1     is 96.9 %\n",
            "Accuracy for class: 2     is 92.5 %\n",
            "Accuracy for class: 3     is 91.2 %\n",
            "Accuracy for class: 4     is 100.0 %\n"
          ]
        },
        {
          "output_type": "stream",
          "name": "stderr",
          "text": [
            "100%|██████████| 6/6 [00:01<00:00,  3.71it/s]\n"
          ]
        },
        {
          "output_type": "stream",
          "name": "stdout",
          "text": [
            "Validation loss: 0.17877792939543724\n",
            "Validation Accuracy: 94\n",
            "Accuracy for class: 1     is 98.4 %\n",
            "Accuracy for class: 2     is 94.9 %\n",
            "Accuracy for class: 3     is 92.9 %\n",
            "Accuracy for class: 4     is 33.3 %\n",
            "Epoch64 of 150\n"
          ]
        },
        {
          "output_type": "stream",
          "name": "stderr",
          "text": [
            "100%|██████████| 31/31 [00:11<00:00,  2.74it/s]\n"
          ]
        },
        {
          "output_type": "stream",
          "name": "stdout",
          "text": [
            "Training loss: 0.19010102941143897\n",
            "Training Accuracy: 93\n",
            "Accuracy for class: 1     is 95.4 %\n",
            "Accuracy for class: 2     is 92.7 %\n",
            "Accuracy for class: 3     is 89.7 %\n",
            "Accuracy for class: 4     is 94.4 %\n"
          ]
        },
        {
          "output_type": "stream",
          "name": "stderr",
          "text": [
            "100%|██████████| 6/6 [00:02<00:00,  2.77it/s]\n"
          ]
        },
        {
          "output_type": "stream",
          "name": "stdout",
          "text": [
            "Validation loss: 0.15461592500408491\n",
            "Validation Accuracy: 94\n",
            "Accuracy for class: 1     is 96.7 %\n",
            "Accuracy for class: 2     is 91.1 %\n",
            "Accuracy for class: 3     is 96.8 %\n",
            "Accuracy for class: 4     is 100.0 %\n",
            "Epoch65 of 150\n"
          ]
        },
        {
          "output_type": "stream",
          "name": "stderr",
          "text": [
            "100%|██████████| 31/31 [00:12<00:00,  2.55it/s]\n"
          ]
        },
        {
          "output_type": "stream",
          "name": "stdout",
          "text": [
            "Training loss: 0.21474310551439563\n",
            "Training Accuracy: 93\n",
            "Accuracy for class: 1     is 93.7 %\n",
            "Accuracy for class: 2     is 94.0 %\n",
            "Accuracy for class: 3     is 91.4 %\n",
            "Accuracy for class: 4     is 94.4 %\n"
          ]
        },
        {
          "output_type": "stream",
          "name": "stderr",
          "text": [
            "100%|██████████| 6/6 [00:01<00:00,  3.43it/s]\n"
          ]
        },
        {
          "output_type": "stream",
          "name": "stdout",
          "text": [
            "Validation loss: 0.48899205525716144\n",
            "Validation Accuracy: 84\n",
            "Accuracy for class: 1     is 98.6 %\n",
            "Accuracy for class: 2     is 80.3 %\n",
            "Accuracy for class: 3     is 60.0 %\n",
            "Accuracy for class: 4     is 66.7 %\n",
            "Epoch66 of 150\n"
          ]
        },
        {
          "output_type": "stream",
          "name": "stderr",
          "text": [
            "100%|██████████| 31/31 [00:11<00:00,  2.75it/s]\n"
          ]
        },
        {
          "output_type": "stream",
          "name": "stdout",
          "text": [
            "Training loss: 0.15633652707742107\n",
            "Training Accuracy: 94\n",
            "Accuracy for class: 1     is 95.2 %\n",
            "Accuracy for class: 2     is 94.6 %\n",
            "Accuracy for class: 3     is 91.5 %\n",
            "Accuracy for class: 4     is 94.7 %\n"
          ]
        },
        {
          "output_type": "stream",
          "name": "stderr",
          "text": [
            "100%|██████████| 6/6 [00:01<00:00,  3.64it/s]\n"
          ]
        },
        {
          "output_type": "stream",
          "name": "stdout",
          "text": [
            "Validation loss: 0.186395230392615\n",
            "Validation Accuracy: 93\n",
            "Accuracy for class: 1     is 86.3 %\n",
            "Accuracy for class: 2     is 98.4 %\n",
            "Accuracy for class: 3     is 97.1 %\n",
            "Accuracy for class: 4     is 100.0 %\n",
            "Epoch67 of 150\n"
          ]
        },
        {
          "output_type": "stream",
          "name": "stderr",
          "text": [
            "100%|██████████| 31/31 [00:11<00:00,  2.82it/s]\n"
          ]
        },
        {
          "output_type": "stream",
          "name": "stdout",
          "text": [
            "Training loss: 0.18537099901286344\n",
            "Training Accuracy: 92\n",
            "Accuracy for class: 1     is 93.9 %\n",
            "Accuracy for class: 2     is 91.0 %\n",
            "Accuracy for class: 3     is 92.9 %\n",
            "Accuracy for class: 4     is 95.0 %\n"
          ]
        },
        {
          "output_type": "stream",
          "name": "stderr",
          "text": [
            "100%|██████████| 6/6 [00:01<00:00,  3.60it/s]\n"
          ]
        },
        {
          "output_type": "stream",
          "name": "stdout",
          "text": [
            "Validation loss: 0.19095282877484956\n",
            "Validation Accuracy: 92\n",
            "Accuracy for class: 1     is 100.0 %\n",
            "Accuracy for class: 2     is 86.6 %\n",
            "Accuracy for class: 3     is 93.8 %\n",
            "Accuracy for class: 4     is 100.0 %\n",
            "Epoch68 of 150\n"
          ]
        },
        {
          "output_type": "stream",
          "name": "stderr",
          "text": [
            "100%|██████████| 31/31 [00:11<00:00,  2.60it/s]\n"
          ]
        },
        {
          "output_type": "stream",
          "name": "stdout",
          "text": [
            "Training loss: 0.1555447622893318\n",
            "Training Accuracy: 93\n",
            "Accuracy for class: 1     is 95.8 %\n",
            "Accuracy for class: 2     is 92.8 %\n",
            "Accuracy for class: 3     is 93.1 %\n",
            "Accuracy for class: 4     is 88.2 %\n"
          ]
        },
        {
          "output_type": "stream",
          "name": "stderr",
          "text": [
            "100%|██████████| 6/6 [00:01<00:00,  3.65it/s]\n"
          ]
        },
        {
          "output_type": "stream",
          "name": "stdout",
          "text": [
            "Validation loss: 0.16977449941138426\n",
            "Validation Accuracy: 94\n",
            "Accuracy for class: 1     is 98.5 %\n",
            "Accuracy for class: 2     is 93.2 %\n",
            "Accuracy for class: 3     is 92.9 %\n",
            "Accuracy for class: 4     is 75.0 %\n",
            "Epoch69 of 150\n"
          ]
        },
        {
          "output_type": "stream",
          "name": "stderr",
          "text": [
            "100%|██████████| 31/31 [00:11<00:00,  2.79it/s]\n"
          ]
        },
        {
          "output_type": "stream",
          "name": "stdout",
          "text": [
            "Training loss: 0.17140803570228239\n",
            "Training Accuracy: 93\n",
            "Accuracy for class: 1     is 95.0 %\n",
            "Accuracy for class: 2     is 93.8 %\n",
            "Accuracy for class: 3     is 88.1 %\n",
            "Accuracy for class: 4     is 100.0 %\n"
          ]
        },
        {
          "output_type": "stream",
          "name": "stderr",
          "text": [
            "100%|██████████| 6/6 [00:01<00:00,  3.64it/s]\n"
          ]
        },
        {
          "output_type": "stream",
          "name": "stdout",
          "text": [
            "Validation loss: 0.11062888925274213\n",
            "Validation Accuracy: 96\n",
            "Accuracy for class: 1     is 100.0 %\n",
            "Accuracy for class: 2     is 93.1 %\n",
            "Accuracy for class: 3     is 96.3 %\n",
            "Accuracy for class: 4     is 100.0 %\n",
            "Epoch70 of 150\n"
          ]
        },
        {
          "output_type": "stream",
          "name": "stderr",
          "text": [
            "100%|██████████| 31/31 [00:11<00:00,  2.77it/s]\n"
          ]
        },
        {
          "output_type": "stream",
          "name": "stdout",
          "text": [
            "Training loss: 0.08755747727569073\n",
            "Training Accuracy: 97\n",
            "Accuracy for class: 1     is 97.7 %\n",
            "Accuracy for class: 2     is 97.1 %\n",
            "Accuracy for class: 3     is 95.6 %\n",
            "Accuracy for class: 4     is 100.0 %\n"
          ]
        },
        {
          "output_type": "stream",
          "name": "stderr",
          "text": [
            "100%|██████████| 6/6 [00:01<00:00,  3.73it/s]\n"
          ]
        },
        {
          "output_type": "stream",
          "name": "stdout",
          "text": [
            "Validation loss: 0.0939551517367363\n",
            "Validation Accuracy: 95\n",
            "Accuracy for class: 1     is 100.0 %\n",
            "Accuracy for class: 2     is 93.4 %\n",
            "Accuracy for class: 3     is 89.3 %\n",
            "Accuracy for class: 4     is 100.0 %\n",
            "Epoch71 of 150\n"
          ]
        },
        {
          "output_type": "stream",
          "name": "stderr",
          "text": [
            "100%|██████████| 31/31 [00:11<00:00,  2.72it/s]\n"
          ]
        },
        {
          "output_type": "stream",
          "name": "stdout",
          "text": [
            "Training loss: 0.08614976656052374\n",
            "Training Accuracy: 96\n",
            "Accuracy for class: 1     is 98.1 %\n",
            "Accuracy for class: 2     is 95.4 %\n",
            "Accuracy for class: 3     is 97.0 %\n",
            "Accuracy for class: 4     is 100.0 %\n"
          ]
        },
        {
          "output_type": "stream",
          "name": "stderr",
          "text": [
            "100%|██████████| 6/6 [00:02<00:00,  2.80it/s]\n"
          ]
        },
        {
          "output_type": "stream",
          "name": "stdout",
          "text": [
            "Validation loss: 0.07692629719773929\n",
            "Validation Accuracy: 97\n",
            "Accuracy for class: 1     is 100.0 %\n",
            "Accuracy for class: 2     is 98.6 %\n",
            "Accuracy for class: 3     is 85.0 %\n",
            "Accuracy for class: 4     is 100.0 %\n",
            "Epoch72 of 150\n"
          ]
        },
        {
          "output_type": "stream",
          "name": "stderr",
          "text": [
            "100%|██████████| 31/31 [00:11<00:00,  2.81it/s]\n"
          ]
        },
        {
          "output_type": "stream",
          "name": "stdout",
          "text": [
            "Training loss: 0.11597468643899887\n",
            "Training Accuracy: 95\n",
            "Accuracy for class: 1     is 96.6 %\n",
            "Accuracy for class: 2     is 95.1 %\n",
            "Accuracy for class: 3     is 94.4 %\n",
            "Accuracy for class: 4     is 100.0 %\n"
          ]
        },
        {
          "output_type": "stream",
          "name": "stderr",
          "text": [
            "100%|██████████| 6/6 [00:01<00:00,  3.56it/s]\n"
          ]
        },
        {
          "output_type": "stream",
          "name": "stdout",
          "text": [
            "Validation loss: 0.16122653211156526\n",
            "Validation Accuracy: 92\n",
            "Accuracy for class: 1     is 96.8 %\n",
            "Accuracy for class: 2     is 92.7 %\n",
            "Accuracy for class: 3     is 84.0 %\n",
            "Accuracy for class: 4     is 66.7 %\n",
            "Epoch73 of 150\n"
          ]
        },
        {
          "output_type": "stream",
          "name": "stderr",
          "text": [
            "100%|██████████| 31/31 [00:11<00:00,  2.74it/s]\n"
          ]
        },
        {
          "output_type": "stream",
          "name": "stdout",
          "text": [
            "Training loss: 0.12758458153374733\n",
            "Training Accuracy: 95\n",
            "Accuracy for class: 1     is 97.3 %\n",
            "Accuracy for class: 2     is 94.8 %\n",
            "Accuracy for class: 3     is 93.1 %\n",
            "Accuracy for class: 4     is 94.7 %\n"
          ]
        },
        {
          "output_type": "stream",
          "name": "stderr",
          "text": [
            "100%|██████████| 6/6 [00:01<00:00,  3.54it/s]\n"
          ]
        },
        {
          "output_type": "stream",
          "name": "stdout",
          "text": [
            "Validation loss: 0.07384859398007393\n",
            "Validation Accuracy: 96\n",
            "Accuracy for class: 1     is 97.3 %\n",
            "Accuracy for class: 2     is 100.0 %\n",
            "Accuracy for class: 3     is 85.7 %\n",
            "Accuracy for class: 4     is 100.0 %\n",
            "Epoch74 of 150\n"
          ]
        },
        {
          "output_type": "stream",
          "name": "stderr",
          "text": [
            "100%|██████████| 31/31 [00:10<00:00,  2.83it/s]\n"
          ]
        },
        {
          "output_type": "stream",
          "name": "stdout",
          "text": [
            "Training loss: 0.10920508476274629\n",
            "Training Accuracy: 95\n",
            "Accuracy for class: 1     is 96.1 %\n",
            "Accuracy for class: 2     is 96.0 %\n",
            "Accuracy for class: 3     is 94.2 %\n",
            "Accuracy for class: 4     is 88.9 %\n"
          ]
        },
        {
          "output_type": "stream",
          "name": "stderr",
          "text": [
            "100%|██████████| 6/6 [00:01<00:00,  3.47it/s]\n"
          ]
        },
        {
          "output_type": "stream",
          "name": "stdout",
          "text": [
            "Validation loss: 0.07159264789273341\n",
            "Validation Accuracy: 95\n",
            "Accuracy for class: 1     is 98.5 %\n",
            "Accuracy for class: 2     is 95.7 %\n",
            "Accuracy for class: 3     is 90.9 %\n",
            "Accuracy for class: 4     is 100.0 %\n",
            "Epoch75 of 150\n"
          ]
        },
        {
          "output_type": "stream",
          "name": "stderr",
          "text": [
            "100%|██████████| 31/31 [00:12<00:00,  2.39it/s]\n"
          ]
        },
        {
          "output_type": "stream",
          "name": "stdout",
          "text": [
            "Training loss: 0.12270863456351142\n",
            "Training Accuracy: 95\n",
            "Accuracy for class: 1     is 97.5 %\n",
            "Accuracy for class: 2     is 94.6 %\n",
            "Accuracy for class: 3     is 92.1 %\n",
            "Accuracy for class: 4     is 88.9 %\n"
          ]
        },
        {
          "output_type": "stream",
          "name": "stderr",
          "text": [
            "100%|██████████| 6/6 [00:01<00:00,  3.57it/s]\n"
          ]
        },
        {
          "output_type": "stream",
          "name": "stdout",
          "text": [
            "Validation loss: 0.09544791374355555\n",
            "Validation Accuracy: 96\n",
            "Accuracy for class: 1     is 95.3 %\n",
            "Accuracy for class: 2     is 96.8 %\n",
            "Accuracy for class: 3     is 100.0 %\n",
            "Accuracy for class: 4     is 100.0 %\n",
            "Epoch76 of 150\n"
          ]
        },
        {
          "output_type": "stream",
          "name": "stderr",
          "text": [
            "100%|██████████| 31/31 [00:11<00:00,  2.80it/s]\n"
          ]
        },
        {
          "output_type": "stream",
          "name": "stdout",
          "text": [
            "Training loss: 0.07719636654421207\n",
            "Training Accuracy: 97\n",
            "Accuracy for class: 1     is 97.7 %\n",
            "Accuracy for class: 2     is 98.3 %\n",
            "Accuracy for class: 3     is 96.1 %\n",
            "Accuracy for class: 4     is 100.0 %\n"
          ]
        },
        {
          "output_type": "stream",
          "name": "stderr",
          "text": [
            "100%|██████████| 6/6 [00:01<00:00,  3.58it/s]\n"
          ]
        },
        {
          "output_type": "stream",
          "name": "stdout",
          "text": [
            "Validation loss: 0.07296839108069737\n",
            "Validation Accuracy: 98\n",
            "Accuracy for class: 1     is 100.0 %\n",
            "Accuracy for class: 2     is 97.2 %\n",
            "Accuracy for class: 3     is 97.0 %\n",
            "Accuracy for class: 4     is 100.0 %\n",
            "Epoch77 of 150\n"
          ]
        },
        {
          "output_type": "stream",
          "name": "stderr",
          "text": [
            "100%|██████████| 31/31 [00:11<00:00,  2.80it/s]\n"
          ]
        },
        {
          "output_type": "stream",
          "name": "stdout",
          "text": [
            "Training loss: 0.0797777469119718\n",
            "Training Accuracy: 97\n",
            "Accuracy for class: 1     is 97.4 %\n",
            "Accuracy for class: 2     is 97.1 %\n",
            "Accuracy for class: 3     is 97.5 %\n",
            "Accuracy for class: 4     is 100.0 %\n"
          ]
        },
        {
          "output_type": "stream",
          "name": "stderr",
          "text": [
            "100%|██████████| 6/6 [00:01<00:00,  3.61it/s]\n"
          ]
        },
        {
          "output_type": "stream",
          "name": "stdout",
          "text": [
            "Validation loss: 0.08249829554309447\n",
            "Validation Accuracy: 95\n",
            "Accuracy for class: 1     is 100.0 %\n",
            "Accuracy for class: 2     is 93.3 %\n",
            "Accuracy for class: 3     is 92.6 %\n",
            "Accuracy for class: 4     is 100.0 %\n",
            "Epoch78 of 150\n"
          ]
        },
        {
          "output_type": "stream",
          "name": "stderr",
          "text": [
            "100%|██████████| 31/31 [00:11<00:00,  2.61it/s]\n"
          ]
        },
        {
          "output_type": "stream",
          "name": "stdout",
          "text": [
            "Training loss: 0.10975310442248179\n",
            "Training Accuracy: 95\n",
            "Accuracy for class: 1     is 97.7 %\n",
            "Accuracy for class: 2     is 95.6 %\n",
            "Accuracy for class: 3     is 93.0 %\n",
            "Accuracy for class: 4     is 88.9 %\n"
          ]
        },
        {
          "output_type": "stream",
          "name": "stderr",
          "text": [
            "100%|██████████| 6/6 [00:01<00:00,  3.69it/s]\n"
          ]
        },
        {
          "output_type": "stream",
          "name": "stdout",
          "text": [
            "Validation loss: 0.22468766818443933\n",
            "Validation Accuracy: 89\n",
            "Accuracy for class: 1     is 93.0 %\n",
            "Accuracy for class: 2     is 83.1 %\n",
            "Accuracy for class: 3     is 96.7 %\n",
            "Accuracy for class: 4     is 100.0 %\n",
            "Epoch79 of 150\n"
          ]
        },
        {
          "output_type": "stream",
          "name": "stderr",
          "text": [
            "100%|██████████| 31/31 [00:11<00:00,  2.80it/s]\n"
          ]
        },
        {
          "output_type": "stream",
          "name": "stdout",
          "text": [
            "Training loss: 0.12239265279664148\n",
            "Training Accuracy: 95\n",
            "Accuracy for class: 1     is 96.4 %\n",
            "Accuracy for class: 2     is 96.4 %\n",
            "Accuracy for class: 3     is 94.2 %\n",
            "Accuracy for class: 4     is 88.9 %\n"
          ]
        },
        {
          "output_type": "stream",
          "name": "stderr",
          "text": [
            "100%|██████████| 6/6 [00:01<00:00,  3.65it/s]\n"
          ]
        },
        {
          "output_type": "stream",
          "name": "stdout",
          "text": [
            "Validation loss: 0.12497950593630473\n",
            "Validation Accuracy: 95\n",
            "Accuracy for class: 1     is 100.0 %\n",
            "Accuracy for class: 2     is 89.7 %\n",
            "Accuracy for class: 3     is 100.0 %\n",
            "Accuracy for class: 4     is 100.0 %\n",
            "Epoch80 of 150\n"
          ]
        },
        {
          "output_type": "stream",
          "name": "stderr",
          "text": [
            "100%|██████████| 31/31 [00:10<00:00,  2.82it/s]\n"
          ]
        },
        {
          "output_type": "stream",
          "name": "stdout",
          "text": [
            "Training loss: 0.08159481722020334\n",
            "Training Accuracy: 97\n",
            "Accuracy for class: 1     is 98.6 %\n",
            "Accuracy for class: 2     is 96.9 %\n",
            "Accuracy for class: 3     is 97.0 %\n",
            "Accuracy for class: 4     is 100.0 %\n"
          ]
        },
        {
          "output_type": "stream",
          "name": "stderr",
          "text": [
            "100%|██████████| 6/6 [00:01<00:00,  3.62it/s]\n"
          ]
        },
        {
          "output_type": "stream",
          "name": "stdout",
          "text": [
            "Validation loss: 0.09297157824039459\n",
            "Validation Accuracy: 97\n",
            "Accuracy for class: 1     is 97.5 %\n",
            "Accuracy for class: 2     is 98.5 %\n",
            "Accuracy for class: 3     is 91.3 %\n",
            "Accuracy for class: 4     is 100.0 %\n",
            "Epoch81 of 150\n"
          ]
        },
        {
          "output_type": "stream",
          "name": "stderr",
          "text": [
            "100%|██████████| 31/31 [00:11<00:00,  2.80it/s]\n"
          ]
        },
        {
          "output_type": "stream",
          "name": "stdout",
          "text": [
            "Training loss: 0.06271990862554841\n",
            "Training Accuracy: 97\n",
            "Accuracy for class: 1     is 98.9 %\n",
            "Accuracy for class: 2     is 96.9 %\n",
            "Accuracy for class: 3     is 95.1 %\n",
            "Accuracy for class: 4     is 100.0 %\n"
          ]
        },
        {
          "output_type": "stream",
          "name": "stderr",
          "text": [
            "100%|██████████| 6/6 [00:01<00:00,  3.52it/s]\n"
          ]
        },
        {
          "output_type": "stream",
          "name": "stdout",
          "text": [
            "Validation loss: 0.07893454423174262\n",
            "Validation Accuracy: 97\n",
            "Accuracy for class: 1     is 98.7 %\n",
            "Accuracy for class: 2     is 98.5 %\n",
            "Accuracy for class: 3     is 92.0 %\n",
            "Accuracy for class: 4     is 80.0 %\n",
            "Epoch82 of 150\n"
          ]
        },
        {
          "output_type": "stream",
          "name": "stderr",
          "text": [
            "100%|██████████| 31/31 [00:11<00:00,  2.60it/s]\n"
          ]
        },
        {
          "output_type": "stream",
          "name": "stdout",
          "text": [
            "Training loss: 0.0619624896395591\n",
            "Training Accuracy: 98\n",
            "Accuracy for class: 1     is 98.4 %\n",
            "Accuracy for class: 2     is 98.4 %\n",
            "Accuracy for class: 3     is 98.1 %\n",
            "Accuracy for class: 4     is 94.1 %\n"
          ]
        },
        {
          "output_type": "stream",
          "name": "stderr",
          "text": [
            "100%|██████████| 6/6 [00:01<00:00,  3.61it/s]\n"
          ]
        },
        {
          "output_type": "stream",
          "name": "stdout",
          "text": [
            "Validation loss: 0.025828952590624493\n",
            "Validation Accuracy: 99\n",
            "Accuracy for class: 1     is 100.0 %\n",
            "Accuracy for class: 2     is 98.5 %\n",
            "Accuracy for class: 3     is 100.0 %\n",
            "Accuracy for class: 4     is 100.0 %\n",
            "Epoch83 of 150\n"
          ]
        },
        {
          "output_type": "stream",
          "name": "stderr",
          "text": [
            "100%|██████████| 31/31 [00:11<00:00,  2.78it/s]\n"
          ]
        },
        {
          "output_type": "stream",
          "name": "stdout",
          "text": [
            "Training loss: 0.05731384978900032\n",
            "Training Accuracy: 98\n",
            "Accuracy for class: 1     is 98.7 %\n",
            "Accuracy for class: 2     is 98.5 %\n",
            "Accuracy for class: 3     is 96.1 %\n",
            "Accuracy for class: 4     is 100.0 %\n"
          ]
        },
        {
          "output_type": "stream",
          "name": "stderr",
          "text": [
            "100%|██████████| 6/6 [00:01<00:00,  3.64it/s]\n"
          ]
        },
        {
          "output_type": "stream",
          "name": "stdout",
          "text": [
            "Validation loss: 0.016194163355976343\n",
            "Validation Accuracy: 100\n",
            "Accuracy for class: 1     is 100.0 %\n",
            "Accuracy for class: 2     is 100.0 %\n",
            "Accuracy for class: 3     is 100.0 %\n",
            "Accuracy for class: 4     is 100.0 %\n",
            "Epoch84 of 150\n"
          ]
        },
        {
          "output_type": "stream",
          "name": "stderr",
          "text": [
            "100%|██████████| 31/31 [00:11<00:00,  2.79it/s]\n"
          ]
        },
        {
          "output_type": "stream",
          "name": "stdout",
          "text": [
            "Training loss: 0.057519448049847155\n",
            "Training Accuracy: 97\n",
            "Accuracy for class: 1     is 98.2 %\n",
            "Accuracy for class: 2     is 97.1 %\n",
            "Accuracy for class: 3     is 97.5 %\n",
            "Accuracy for class: 4     is 100.0 %\n"
          ]
        },
        {
          "output_type": "stream",
          "name": "stderr",
          "text": [
            "100%|██████████| 6/6 [00:01<00:00,  3.68it/s]\n"
          ]
        },
        {
          "output_type": "stream",
          "name": "stdout",
          "text": [
            "Validation loss: 0.050847693967322506\n",
            "Validation Accuracy: 98\n",
            "Accuracy for class: 1     is 98.6 %\n",
            "Accuracy for class: 2     is 100.0 %\n",
            "Accuracy for class: 3     is 96.2 %\n",
            "Accuracy for class: 4     is 100.0 %\n",
            "Epoch85 of 150\n"
          ]
        },
        {
          "output_type": "stream",
          "name": "stderr",
          "text": [
            "100%|██████████| 31/31 [00:11<00:00,  2.63it/s]\n"
          ]
        },
        {
          "output_type": "stream",
          "name": "stdout",
          "text": [
            "Training loss: 0.06665546362919192\n",
            "Training Accuracy: 97\n",
            "Accuracy for class: 1     is 98.1 %\n",
            "Accuracy for class: 2     is 97.4 %\n",
            "Accuracy for class: 3     is 98.1 %\n",
            "Accuracy for class: 4     is 94.7 %\n"
          ]
        },
        {
          "output_type": "stream",
          "name": "stderr",
          "text": [
            "100%|██████████| 6/6 [00:01<00:00,  3.56it/s]\n"
          ]
        },
        {
          "output_type": "stream",
          "name": "stdout",
          "text": [
            "Validation loss: 0.08169388771057129\n",
            "Validation Accuracy: 97\n",
            "Accuracy for class: 1     is 98.6 %\n",
            "Accuracy for class: 2     is 95.7 %\n",
            "Accuracy for class: 3     is 96.4 %\n",
            "Accuracy for class: 4     is 100.0 %\n",
            "Epoch86 of 150\n"
          ]
        },
        {
          "output_type": "stream",
          "name": "stderr",
          "text": [
            "100%|██████████| 31/31 [00:11<00:00,  2.79it/s]\n"
          ]
        },
        {
          "output_type": "stream",
          "name": "stdout",
          "text": [
            "Training loss: 0.08980217029250437\n",
            "Training Accuracy: 96\n",
            "Accuracy for class: 1     is 96.9 %\n",
            "Accuracy for class: 2     is 95.9 %\n",
            "Accuracy for class: 3     is 97.5 %\n",
            "Accuracy for class: 4     is 100.0 %\n"
          ]
        },
        {
          "output_type": "stream",
          "name": "stderr",
          "text": [
            "100%|██████████| 6/6 [00:01<00:00,  3.73it/s]\n"
          ]
        },
        {
          "output_type": "stream",
          "name": "stdout",
          "text": [
            "Validation loss: 0.06830120303978522\n",
            "Validation Accuracy: 97\n",
            "Accuracy for class: 1     is 98.5 %\n",
            "Accuracy for class: 2     is 97.3 %\n",
            "Accuracy for class: 3     is 96.2 %\n",
            "Accuracy for class: 4     is 100.0 %\n",
            "Epoch87 of 150\n"
          ]
        },
        {
          "output_type": "stream",
          "name": "stderr",
          "text": [
            "100%|██████████| 31/31 [00:10<00:00,  2.83it/s]\n"
          ]
        },
        {
          "output_type": "stream",
          "name": "stdout",
          "text": [
            "Training loss: 0.08908387800798781\n",
            "Training Accuracy: 97\n",
            "Accuracy for class: 1     is 97.9 %\n",
            "Accuracy for class: 2     is 97.4 %\n",
            "Accuracy for class: 3     is 95.5 %\n",
            "Accuracy for class: 4     is 100.0 %\n"
          ]
        },
        {
          "output_type": "stream",
          "name": "stderr",
          "text": [
            "100%|██████████| 6/6 [00:01<00:00,  3.59it/s]\n"
          ]
        },
        {
          "output_type": "stream",
          "name": "stdout",
          "text": [
            "Validation loss: 0.05065385097016891\n",
            "Validation Accuracy: 98\n",
            "Accuracy for class: 1     is 100.0 %\n",
            "Accuracy for class: 2     is 95.5 %\n",
            "Accuracy for class: 3     is 100.0 %\n",
            "Accuracy for class: 4     is 100.0 %\n",
            "Epoch88 of 150\n"
          ]
        },
        {
          "output_type": "stream",
          "name": "stderr",
          "text": [
            "100%|██████████| 31/31 [00:10<00:00,  2.83it/s]\n"
          ]
        },
        {
          "output_type": "stream",
          "name": "stdout",
          "text": [
            "Training loss: 0.10113161949500922\n",
            "Training Accuracy: 96\n",
            "Accuracy for class: 1     is 97.9 %\n",
            "Accuracy for class: 2     is 95.0 %\n",
            "Accuracy for class: 3     is 95.5 %\n",
            "Accuracy for class: 4     is 95.2 %\n"
          ]
        },
        {
          "output_type": "stream",
          "name": "stderr",
          "text": [
            "100%|██████████| 6/6 [00:02<00:00,  2.65it/s]\n"
          ]
        },
        {
          "output_type": "stream",
          "name": "stdout",
          "text": [
            "Validation loss: 0.0964549109339714\n",
            "Validation Accuracy: 97\n",
            "Accuracy for class: 1     is 93.9 %\n",
            "Accuracy for class: 2     is 100.0 %\n",
            "Accuracy for class: 3     is 96.9 %\n",
            "Accuracy for class: 4     is 0\n",
            "Epoch89 of 150\n"
          ]
        },
        {
          "output_type": "stream",
          "name": "stderr",
          "text": [
            "100%|██████████| 31/31 [00:11<00:00,  2.60it/s]\n"
          ]
        },
        {
          "output_type": "stream",
          "name": "stdout",
          "text": [
            "Training loss: 0.06742284694806702\n",
            "Training Accuracy: 97\n",
            "Accuracy for class: 1     is 98.2 %\n",
            "Accuracy for class: 2     is 98.1 %\n",
            "Accuracy for class: 3     is 96.9 %\n",
            "Accuracy for class: 4     is 100.0 %\n"
          ]
        },
        {
          "output_type": "stream",
          "name": "stderr",
          "text": [
            "100%|██████████| 6/6 [00:02<00:00,  2.86it/s]\n"
          ]
        },
        {
          "output_type": "stream",
          "name": "stdout",
          "text": [
            "Validation loss: 0.03060361836105585\n",
            "Validation Accuracy: 99\n",
            "Accuracy for class: 1     is 100.0 %\n",
            "Accuracy for class: 2     is 98.7 %\n",
            "Accuracy for class: 3     is 100.0 %\n",
            "Accuracy for class: 4     is 100.0 %\n",
            "Epoch90 of 150\n"
          ]
        },
        {
          "output_type": "stream",
          "name": "stderr",
          "text": [
            "100%|██████████| 31/31 [00:11<00:00,  2.82it/s]\n"
          ]
        },
        {
          "output_type": "stream",
          "name": "stdout",
          "text": [
            "Training loss: 0.05573360567852374\n",
            "Training Accuracy: 98\n",
            "Accuracy for class: 1     is 98.4 %\n",
            "Accuracy for class: 2     is 98.1 %\n",
            "Accuracy for class: 3     is 97.6 %\n",
            "Accuracy for class: 4     is 94.4 %\n"
          ]
        },
        {
          "output_type": "stream",
          "name": "stderr",
          "text": [
            "100%|██████████| 6/6 [00:01<00:00,  3.59it/s]\n"
          ]
        },
        {
          "output_type": "stream",
          "name": "stdout",
          "text": [
            "Validation loss: 0.024317850824445486\n",
            "Validation Accuracy: 99\n",
            "Accuracy for class: 1     is 100.0 %\n",
            "Accuracy for class: 2     is 98.5 %\n",
            "Accuracy for class: 3     is 100.0 %\n",
            "Accuracy for class: 4     is 100.0 %\n",
            "Epoch91 of 150\n"
          ]
        },
        {
          "output_type": "stream",
          "name": "stderr",
          "text": [
            "100%|██████████| 31/31 [00:11<00:00,  2.81it/s]\n"
          ]
        },
        {
          "output_type": "stream",
          "name": "stdout",
          "text": [
            "Training loss: 0.04774812102738407\n",
            "Training Accuracy: 98\n",
            "Accuracy for class: 1     is 98.2 %\n",
            "Accuracy for class: 2     is 97.5 %\n",
            "Accuracy for class: 3     is 99.4 %\n",
            "Accuracy for class: 4     is 100.0 %\n"
          ]
        },
        {
          "output_type": "stream",
          "name": "stderr",
          "text": [
            "100%|██████████| 6/6 [00:01<00:00,  3.69it/s]\n"
          ]
        },
        {
          "output_type": "stream",
          "name": "stdout",
          "text": [
            "Validation loss: 0.06559750655045112\n",
            "Validation Accuracy: 98\n",
            "Accuracy for class: 1     is 98.4 %\n",
            "Accuracy for class: 2     is 98.8 %\n",
            "Accuracy for class: 3     is 100.0 %\n",
            "Accuracy for class: 4     is 100.0 %\n",
            "Epoch92 of 150\n"
          ]
        },
        {
          "output_type": "stream",
          "name": "stderr",
          "text": [
            "100%|██████████| 31/31 [00:12<00:00,  2.41it/s]\n"
          ]
        },
        {
          "output_type": "stream",
          "name": "stdout",
          "text": [
            "Training loss: 0.0522931583766495\n",
            "Training Accuracy: 98\n",
            "Accuracy for class: 1     is 98.7 %\n",
            "Accuracy for class: 2     is 98.1 %\n",
            "Accuracy for class: 3     is 96.2 %\n",
            "Accuracy for class: 4     is 100.0 %\n"
          ]
        },
        {
          "output_type": "stream",
          "name": "stderr",
          "text": [
            "100%|██████████| 6/6 [00:01<00:00,  3.53it/s]\n"
          ]
        },
        {
          "output_type": "stream",
          "name": "stdout",
          "text": [
            "Validation loss: 0.037468173230687775\n",
            "Validation Accuracy: 98\n",
            "Accuracy for class: 1     is 100.0 %\n",
            "Accuracy for class: 2     is 98.6 %\n",
            "Accuracy for class: 3     is 96.8 %\n",
            "Accuracy for class: 4     is 100.0 %\n",
            "Epoch93 of 150\n"
          ]
        },
        {
          "output_type": "stream",
          "name": "stderr",
          "text": [
            "100%|██████████| 31/31 [00:11<00:00,  2.80it/s]\n"
          ]
        },
        {
          "output_type": "stream",
          "name": "stdout",
          "text": [
            "Training loss: 0.0372699091150876\n",
            "Training Accuracy: 99\n",
            "Accuracy for class: 1     is 99.2 %\n",
            "Accuracy for class: 2     is 99.3 %\n",
            "Accuracy for class: 3     is 98.8 %\n",
            "Accuracy for class: 4     is 100.0 %\n"
          ]
        },
        {
          "output_type": "stream",
          "name": "stderr",
          "text": [
            "100%|██████████| 6/6 [00:01<00:00,  3.54it/s]\n"
          ]
        },
        {
          "output_type": "stream",
          "name": "stdout",
          "text": [
            "Validation loss: 0.02369534767543276\n",
            "Validation Accuracy: 99\n",
            "Accuracy for class: 1     is 100.0 %\n",
            "Accuracy for class: 2     is 98.7 %\n",
            "Accuracy for class: 3     is 100.0 %\n",
            "Accuracy for class: 4     is 100.0 %\n",
            "Epoch94 of 150\n"
          ]
        },
        {
          "output_type": "stream",
          "name": "stderr",
          "text": [
            "100%|██████████| 31/31 [00:11<00:00,  2.81it/s]\n"
          ]
        },
        {
          "output_type": "stream",
          "name": "stdout",
          "text": [
            "Training loss: 0.058371953290676876\n",
            "Training Accuracy: 98\n",
            "Accuracy for class: 1     is 99.2 %\n",
            "Accuracy for class: 2     is 97.6 %\n",
            "Accuracy for class: 3     is 96.8 %\n",
            "Accuracy for class: 4     is 94.1 %\n"
          ]
        },
        {
          "output_type": "stream",
          "name": "stderr",
          "text": [
            "100%|██████████| 6/6 [00:01<00:00,  3.56it/s]\n"
          ]
        },
        {
          "output_type": "stream",
          "name": "stdout",
          "text": [
            "Validation loss: 0.03946543644027164\n",
            "Validation Accuracy: 98\n",
            "Accuracy for class: 1     is 98.4 %\n",
            "Accuracy for class: 2     is 100.0 %\n",
            "Accuracy for class: 3     is 93.3 %\n",
            "Accuracy for class: 4     is 100.0 %\n",
            "Epoch95 of 150\n"
          ]
        },
        {
          "output_type": "stream",
          "name": "stderr",
          "text": [
            "100%|██████████| 31/31 [00:12<00:00,  2.47it/s]\n"
          ]
        },
        {
          "output_type": "stream",
          "name": "stdout",
          "text": [
            "Training loss: 0.07486839151580728\n",
            "Training Accuracy: 97\n",
            "Accuracy for class: 1     is 99.5 %\n",
            "Accuracy for class: 2     is 97.6 %\n",
            "Accuracy for class: 3     is 92.5 %\n",
            "Accuracy for class: 4     is 94.7 %\n"
          ]
        },
        {
          "output_type": "stream",
          "name": "stderr",
          "text": [
            "100%|██████████| 6/6 [00:01<00:00,  3.57it/s]\n"
          ]
        },
        {
          "output_type": "stream",
          "name": "stdout",
          "text": [
            "Validation loss: 0.047518731405337654\n",
            "Validation Accuracy: 98\n",
            "Accuracy for class: 1     is 97.1 %\n",
            "Accuracy for class: 2     is 100.0 %\n",
            "Accuracy for class: 3     is 100.0 %\n",
            "Accuracy for class: 4     is 100.0 %\n",
            "Epoch96 of 150\n"
          ]
        },
        {
          "output_type": "stream",
          "name": "stderr",
          "text": [
            "100%|██████████| 31/31 [00:11<00:00,  2.82it/s]\n"
          ]
        },
        {
          "output_type": "stream",
          "name": "stdout",
          "text": [
            "Training loss: 0.0646576979347775\n",
            "Training Accuracy: 98\n",
            "Accuracy for class: 1     is 99.0 %\n",
            "Accuracy for class: 2     is 97.9 %\n",
            "Accuracy for class: 3     is 96.8 %\n",
            "Accuracy for class: 4     is 100.0 %\n"
          ]
        },
        {
          "output_type": "stream",
          "name": "stderr",
          "text": [
            "100%|██████████| 6/6 [00:01<00:00,  3.62it/s]\n"
          ]
        },
        {
          "output_type": "stream",
          "name": "stdout",
          "text": [
            "Validation loss: 0.021087214583531022\n",
            "Validation Accuracy: 99\n",
            "Accuracy for class: 1     is 100.0 %\n",
            "Accuracy for class: 2     is 98.6 %\n",
            "Accuracy for class: 3     is 100.0 %\n",
            "Accuracy for class: 4     is 100.0 %\n",
            "Epoch97 of 150\n"
          ]
        },
        {
          "output_type": "stream",
          "name": "stderr",
          "text": [
            "100%|██████████| 31/31 [00:11<00:00,  2.70it/s]\n"
          ]
        },
        {
          "output_type": "stream",
          "name": "stdout",
          "text": [
            "Training loss: 0.05050501850764117\n",
            "Training Accuracy: 98\n",
            "Accuracy for class: 1     is 98.7 %\n",
            "Accuracy for class: 2     is 97.8 %\n",
            "Accuracy for class: 3     is 97.0 %\n",
            "Accuracy for class: 4     is 100.0 %\n"
          ]
        },
        {
          "output_type": "stream",
          "name": "stderr",
          "text": [
            "100%|██████████| 6/6 [00:01<00:00,  3.65it/s]\n"
          ]
        },
        {
          "output_type": "stream",
          "name": "stdout",
          "text": [
            "Validation loss: 0.062476341146975756\n",
            "Validation Accuracy: 98\n",
            "Accuracy for class: 1     is 98.5 %\n",
            "Accuracy for class: 2     is 98.8 %\n",
            "Accuracy for class: 3     is 100.0 %\n",
            "Accuracy for class: 4     is 100.0 %\n",
            "Epoch98 of 150\n"
          ]
        },
        {
          "output_type": "stream",
          "name": "stderr",
          "text": [
            "100%|██████████| 31/31 [00:19<00:00,  1.59it/s]\n"
          ]
        },
        {
          "output_type": "stream",
          "name": "stdout",
          "text": [
            "Training loss: 0.04770711733539018\n",
            "Training Accuracy: 98\n",
            "Accuracy for class: 1     is 98.4 %\n",
            "Accuracy for class: 2     is 98.8 %\n",
            "Accuracy for class: 3     is 98.7 %\n",
            "Accuracy for class: 4     is 94.1 %\n"
          ]
        },
        {
          "output_type": "stream",
          "name": "stderr",
          "text": [
            "100%|██████████| 6/6 [00:01<00:00,  3.31it/s]\n"
          ]
        },
        {
          "output_type": "stream",
          "name": "stdout",
          "text": [
            "Validation loss: 0.03378382270845274\n",
            "Validation Accuracy: 99\n",
            "Accuracy for class: 1     is 98.5 %\n",
            "Accuracy for class: 2     is 100.0 %\n",
            "Accuracy for class: 3     is 100.0 %\n",
            "Accuracy for class: 4     is 100.0 %\n",
            "Epoch99 of 150\n"
          ]
        },
        {
          "output_type": "stream",
          "name": "stderr",
          "text": [
            "100%|██████████| 31/31 [00:11<00:00,  2.69it/s]\n"
          ]
        },
        {
          "output_type": "stream",
          "name": "stdout",
          "text": [
            "Training loss: 0.0601985675673331\n",
            "Training Accuracy: 98\n",
            "Accuracy for class: 1     is 98.1 %\n",
            "Accuracy for class: 2     is 98.8 %\n",
            "Accuracy for class: 3     is 96.3 %\n",
            "Accuracy for class: 4     is 100.0 %\n"
          ]
        },
        {
          "output_type": "stream",
          "name": "stderr",
          "text": [
            "100%|██████████| 6/6 [00:01<00:00,  3.78it/s]\n"
          ]
        },
        {
          "output_type": "stream",
          "name": "stdout",
          "text": [
            "Validation loss: 0.021166878170333803\n",
            "Validation Accuracy: 100\n",
            "Accuracy for class: 1     is 100.0 %\n",
            "Accuracy for class: 2     is 100.0 %\n",
            "Accuracy for class: 3     is 100.0 %\n",
            "Accuracy for class: 4     is 100.0 %\n",
            "Epoch100 of 150\n"
          ]
        },
        {
          "output_type": "stream",
          "name": "stderr",
          "text": [
            "100%|██████████| 31/31 [00:12<00:00,  2.56it/s]\n"
          ]
        },
        {
          "output_type": "stream",
          "name": "stdout",
          "text": [
            "Training loss: 0.04476049018182581\n",
            "Training Accuracy: 97\n",
            "Accuracy for class: 1     is 97.9 %\n",
            "Accuracy for class: 2     is 98.0 %\n",
            "Accuracy for class: 3     is 96.9 %\n",
            "Accuracy for class: 4     is 100.0 %\n"
          ]
        },
        {
          "output_type": "stream",
          "name": "stderr",
          "text": [
            "100%|██████████| 6/6 [00:01<00:00,  3.45it/s]\n"
          ]
        },
        {
          "output_type": "stream",
          "name": "stdout",
          "text": [
            "Validation loss: 0.016728045341248315\n",
            "Validation Accuracy: 99\n",
            "Accuracy for class: 1     is 100.0 %\n",
            "Accuracy for class: 2     is 100.0 %\n",
            "Accuracy for class: 3     is 95.8 %\n",
            "Accuracy for class: 4     is 100.0 %\n",
            "Epoch101 of 150\n"
          ]
        },
        {
          "output_type": "stream",
          "name": "stderr",
          "text": [
            "100%|██████████| 31/31 [00:14<00:00,  2.14it/s]\n"
          ]
        },
        {
          "output_type": "stream",
          "name": "stdout",
          "text": [
            "Training loss: 0.04660531064315188\n",
            "Training Accuracy: 98\n",
            "Accuracy for class: 1     is 98.5 %\n",
            "Accuracy for class: 2     is 98.8 %\n",
            "Accuracy for class: 3     is 97.4 %\n",
            "Accuracy for class: 4     is 100.0 %\n"
          ]
        },
        {
          "output_type": "stream",
          "name": "stderr",
          "text": [
            "100%|██████████| 6/6 [00:02<00:00,  2.86it/s]\n"
          ]
        },
        {
          "output_type": "stream",
          "name": "stdout",
          "text": [
            "Validation loss: 0.021455441717989743\n",
            "Validation Accuracy: 98\n",
            "Accuracy for class: 1     is 100.0 %\n",
            "Accuracy for class: 2     is 98.7 %\n",
            "Accuracy for class: 3     is 97.0 %\n",
            "Accuracy for class: 4     is 100.0 %\n",
            "Epoch102 of 150\n"
          ]
        },
        {
          "output_type": "stream",
          "name": "stderr",
          "text": [
            "100%|██████████| 31/31 [00:11<00:00,  2.82it/s]\n"
          ]
        },
        {
          "output_type": "stream",
          "name": "stdout",
          "text": [
            "Training loss: 0.05822770175103459\n",
            "Training Accuracy: 98\n",
            "Accuracy for class: 1     is 97.8 %\n",
            "Accuracy for class: 2     is 99.1 %\n",
            "Accuracy for class: 3     is 98.2 %\n",
            "Accuracy for class: 4     is 100.0 %\n"
          ]
        },
        {
          "output_type": "stream",
          "name": "stderr",
          "text": [
            "100%|██████████| 6/6 [00:02<00:00,  2.59it/s]\n"
          ]
        },
        {
          "output_type": "stream",
          "name": "stdout",
          "text": [
            "Validation loss: 0.08048329222947359\n",
            "Validation Accuracy: 97\n",
            "Accuracy for class: 1     is 98.8 %\n",
            "Accuracy for class: 2     is 95.6 %\n",
            "Accuracy for class: 3     is 95.0 %\n",
            "Accuracy for class: 4     is 100.0 %\n",
            "Epoch103 of 150\n"
          ]
        },
        {
          "output_type": "stream",
          "name": "stderr",
          "text": [
            "100%|██████████| 31/31 [00:11<00:00,  2.69it/s]\n"
          ]
        },
        {
          "output_type": "stream",
          "name": "stdout",
          "text": [
            "Training loss: 0.09943667609965609\n",
            "Training Accuracy: 96\n",
            "Accuracy for class: 1     is 97.6 %\n",
            "Accuracy for class: 2     is 95.8 %\n",
            "Accuracy for class: 3     is 92.6 %\n",
            "Accuracy for class: 4     is 100.0 %\n"
          ]
        },
        {
          "output_type": "stream",
          "name": "stderr",
          "text": [
            "100%|██████████| 6/6 [00:01<00:00,  3.60it/s]\n"
          ]
        },
        {
          "output_type": "stream",
          "name": "stdout",
          "text": [
            "Validation loss: 0.04001218111564716\n",
            "Validation Accuracy: 98\n",
            "Accuracy for class: 1     is 100.0 %\n",
            "Accuracy for class: 2     is 98.4 %\n",
            "Accuracy for class: 3     is 96.0 %\n",
            "Accuracy for class: 4     is 100.0 %\n",
            "Epoch104 of 150\n"
          ]
        },
        {
          "output_type": "stream",
          "name": "stderr",
          "text": [
            "100%|██████████| 31/31 [00:11<00:00,  2.59it/s]\n"
          ]
        },
        {
          "output_type": "stream",
          "name": "stdout",
          "text": [
            "Training loss: 0.06862393373082723\n",
            "Training Accuracy: 97\n",
            "Accuracy for class: 1     is 97.6 %\n",
            "Accuracy for class: 2     is 97.1 %\n",
            "Accuracy for class: 3     is 98.1 %\n",
            "Accuracy for class: 4     is 88.9 %\n"
          ]
        },
        {
          "output_type": "stream",
          "name": "stderr",
          "text": [
            "100%|██████████| 6/6 [00:01<00:00,  3.54it/s]\n"
          ]
        },
        {
          "output_type": "stream",
          "name": "stdout",
          "text": [
            "Validation loss: 0.09923036264566083\n",
            "Validation Accuracy: 96\n",
            "Accuracy for class: 1     is 95.9 %\n",
            "Accuracy for class: 2     is 97.2 %\n",
            "Accuracy for class: 3     is 96.0 %\n",
            "Accuracy for class: 4     is 100.0 %\n",
            "Epoch105 of 150\n"
          ]
        },
        {
          "output_type": "stream",
          "name": "stderr",
          "text": [
            "100%|██████████| 31/31 [00:12<00:00,  2.53it/s]\n"
          ]
        },
        {
          "output_type": "stream",
          "name": "stdout",
          "text": [
            "Training loss: 0.07975149746503561\n",
            "Training Accuracy: 97\n",
            "Accuracy for class: 1     is 97.7 %\n",
            "Accuracy for class: 2     is 97.1 %\n",
            "Accuracy for class: 3     is 97.5 %\n",
            "Accuracy for class: 4     is 100.0 %\n"
          ]
        },
        {
          "output_type": "stream",
          "name": "stderr",
          "text": [
            "100%|██████████| 6/6 [00:01<00:00,  3.77it/s]\n"
          ]
        },
        {
          "output_type": "stream",
          "name": "stdout",
          "text": [
            "Validation loss: 0.06720703886821866\n",
            "Validation Accuracy: 97\n",
            "Accuracy for class: 1     is 100.0 %\n",
            "Accuracy for class: 2     is 95.9 %\n",
            "Accuracy for class: 3     is 96.6 %\n",
            "Accuracy for class: 4     is 100.0 %\n",
            "Epoch106 of 150\n"
          ]
        },
        {
          "output_type": "stream",
          "name": "stderr",
          "text": [
            "100%|██████████| 31/31 [00:11<00:00,  2.64it/s]\n"
          ]
        },
        {
          "output_type": "stream",
          "name": "stdout",
          "text": [
            "Training loss: 0.043785932428774335\n",
            "Training Accuracy: 98\n",
            "Accuracy for class: 1     is 99.5 %\n",
            "Accuracy for class: 2     is 99.0 %\n",
            "Accuracy for class: 3     is 97.5 %\n",
            "Accuracy for class: 4     is 100.0 %\n"
          ]
        },
        {
          "output_type": "stream",
          "name": "stderr",
          "text": [
            "100%|██████████| 6/6 [00:02<00:00,  2.42it/s]\n"
          ]
        },
        {
          "output_type": "stream",
          "name": "stdout",
          "text": [
            "Validation loss: 0.03492875319595138\n",
            "Validation Accuracy: 99\n",
            "Accuracy for class: 1     is 98.4 %\n",
            "Accuracy for class: 2     is 100.0 %\n",
            "Accuracy for class: 3     is 100.0 %\n",
            "Accuracy for class: 4     is 100.0 %\n",
            "Epoch107 of 150\n"
          ]
        },
        {
          "output_type": "stream",
          "name": "stderr",
          "text": [
            "100%|██████████| 31/31 [00:13<00:00,  2.36it/s]\n"
          ]
        },
        {
          "output_type": "stream",
          "name": "stdout",
          "text": [
            "Training loss: 0.04273049452251965\n",
            "Training Accuracy: 98\n",
            "Accuracy for class: 1     is 98.9 %\n",
            "Accuracy for class: 2     is 98.8 %\n",
            "Accuracy for class: 3     is 98.1 %\n",
            "Accuracy for class: 4     is 100.0 %\n"
          ]
        },
        {
          "output_type": "stream",
          "name": "stderr",
          "text": [
            "100%|██████████| 6/6 [00:02<00:00,  2.25it/s]\n"
          ]
        },
        {
          "output_type": "stream",
          "name": "stdout",
          "text": [
            "Validation loss: 0.015865046492156882\n",
            "Validation Accuracy: 100\n",
            "Accuracy for class: 1     is 100.0 %\n",
            "Accuracy for class: 2     is 100.0 %\n",
            "Accuracy for class: 3     is 100.0 %\n",
            "Accuracy for class: 4     is 100.0 %\n",
            "Epoch108 of 150\n"
          ]
        },
        {
          "output_type": "stream",
          "name": "stderr",
          "text": [
            "100%|██████████| 31/31 [00:11<00:00,  2.68it/s]\n"
          ]
        },
        {
          "output_type": "stream",
          "name": "stdout",
          "text": [
            "Training loss: 0.04715172449998077\n",
            "Training Accuracy: 98\n",
            "Accuracy for class: 1     is 98.7 %\n",
            "Accuracy for class: 2     is 98.3 %\n",
            "Accuracy for class: 3     is 97.0 %\n",
            "Accuracy for class: 4     is 87.5 %\n"
          ]
        },
        {
          "output_type": "stream",
          "name": "stderr",
          "text": [
            "100%|██████████| 6/6 [00:01<00:00,  3.60it/s]\n"
          ]
        },
        {
          "output_type": "stream",
          "name": "stdout",
          "text": [
            "Validation loss: 0.02910594715892027\n",
            "Validation Accuracy: 98\n",
            "Accuracy for class: 1     is 100.0 %\n",
            "Accuracy for class: 2     is 98.8 %\n",
            "Accuracy for class: 3     is 95.5 %\n",
            "Accuracy for class: 4     is 100.0 %\n",
            "Epoch109 of 150\n"
          ]
        },
        {
          "output_type": "stream",
          "name": "stderr",
          "text": [
            "100%|██████████| 31/31 [00:10<00:00,  2.82it/s]\n"
          ]
        },
        {
          "output_type": "stream",
          "name": "stdout",
          "text": [
            "Training loss: 0.04596729966391239\n",
            "Training Accuracy: 98\n",
            "Accuracy for class: 1     is 98.7 %\n",
            "Accuracy for class: 2     is 98.3 %\n",
            "Accuracy for class: 3     is 97.6 %\n",
            "Accuracy for class: 4     is 100.0 %\n"
          ]
        },
        {
          "output_type": "stream",
          "name": "stderr",
          "text": [
            "100%|██████████| 6/6 [00:02<00:00,  2.97it/s]\n"
          ]
        },
        {
          "output_type": "stream",
          "name": "stdout",
          "text": [
            "Validation loss: 0.05125243294363221\n",
            "Validation Accuracy: 96\n",
            "Accuracy for class: 1     is 93.2 %\n",
            "Accuracy for class: 2     is 100.0 %\n",
            "Accuracy for class: 3     is 95.0 %\n",
            "Accuracy for class: 4     is 100.0 %\n",
            "Epoch110 of 150\n"
          ]
        },
        {
          "output_type": "stream",
          "name": "stderr",
          "text": [
            "100%|██████████| 31/31 [00:11<00:00,  2.74it/s]\n"
          ]
        },
        {
          "output_type": "stream",
          "name": "stdout",
          "text": [
            "Training loss: 0.09294135148276485\n",
            "Training Accuracy: 97\n",
            "Accuracy for class: 1     is 97.7 %\n",
            "Accuracy for class: 2     is 97.6 %\n",
            "Accuracy for class: 3     is 98.1 %\n",
            "Accuracy for class: 4     is 88.9 %\n"
          ]
        },
        {
          "output_type": "stream",
          "name": "stderr",
          "text": [
            "100%|██████████| 6/6 [00:01<00:00,  3.62it/s]\n"
          ]
        },
        {
          "output_type": "stream",
          "name": "stdout",
          "text": [
            "Validation loss: 0.06925345305353403\n",
            "Validation Accuracy: 98\n",
            "Accuracy for class: 1     is 100.0 %\n",
            "Accuracy for class: 2     is 98.7 %\n",
            "Accuracy for class: 3     is 96.3 %\n",
            "Accuracy for class: 4     is 100.0 %\n",
            "Epoch111 of 150\n"
          ]
        },
        {
          "output_type": "stream",
          "name": "stderr",
          "text": [
            "100%|██████████| 31/31 [00:11<00:00,  2.60it/s]\n"
          ]
        },
        {
          "output_type": "stream",
          "name": "stdout",
          "text": [
            "Training loss: 0.0627118957289044\n",
            "Training Accuracy: 97\n",
            "Accuracy for class: 1     is 97.9 %\n",
            "Accuracy for class: 2     is 97.6 %\n",
            "Accuracy for class: 3     is 98.0 %\n",
            "Accuracy for class: 4     is 100.0 %\n"
          ]
        },
        {
          "output_type": "stream",
          "name": "stderr",
          "text": [
            "100%|██████████| 6/6 [00:01<00:00,  3.70it/s]\n"
          ]
        },
        {
          "output_type": "stream",
          "name": "stdout",
          "text": [
            "Validation loss: 0.08310275555898745\n",
            "Validation Accuracy: 98\n",
            "Accuracy for class: 1     is 100.0 %\n",
            "Accuracy for class: 2     is 95.6 %\n",
            "Accuracy for class: 3     is 100.0 %\n",
            "Accuracy for class: 4     is 100.0 %\n",
            "Epoch112 of 150\n"
          ]
        },
        {
          "output_type": "stream",
          "name": "stderr",
          "text": [
            "100%|██████████| 31/31 [00:11<00:00,  2.81it/s]\n"
          ]
        },
        {
          "output_type": "stream",
          "name": "stdout",
          "text": [
            "Training loss: 0.048798624125699845\n",
            "Training Accuracy: 98\n",
            "Accuracy for class: 1     is 98.4 %\n",
            "Accuracy for class: 2     is 97.8 %\n",
            "Accuracy for class: 3     is 98.2 %\n",
            "Accuracy for class: 4     is 100.0 %\n"
          ]
        },
        {
          "output_type": "stream",
          "name": "stderr",
          "text": [
            "100%|██████████| 6/6 [00:01<00:00,  3.53it/s]\n"
          ]
        },
        {
          "output_type": "stream",
          "name": "stdout",
          "text": [
            "Validation loss: 0.04509407080089053\n",
            "Validation Accuracy: 98\n",
            "Accuracy for class: 1     is 96.1 %\n",
            "Accuracy for class: 2     is 100.0 %\n",
            "Accuracy for class: 3     is 100.0 %\n",
            "Accuracy for class: 4     is 100.0 %\n",
            "Epoch113 of 150\n"
          ]
        },
        {
          "output_type": "stream",
          "name": "stderr",
          "text": [
            "100%|██████████| 31/31 [00:12<00:00,  2.50it/s]\n"
          ]
        },
        {
          "output_type": "stream",
          "name": "stdout",
          "text": [
            "Training loss: 0.029497754669958545\n",
            "Training Accuracy: 98\n",
            "Accuracy for class: 1     is 98.4 %\n",
            "Accuracy for class: 2     is 99.1 %\n",
            "Accuracy for class: 3     is 99.4 %\n",
            "Accuracy for class: 4     is 100.0 %\n"
          ]
        },
        {
          "output_type": "stream",
          "name": "stderr",
          "text": [
            "100%|██████████| 6/6 [00:01<00:00,  3.70it/s]\n"
          ]
        },
        {
          "output_type": "stream",
          "name": "stdout",
          "text": [
            "Validation loss: 0.017187925598894555\n",
            "Validation Accuracy: 98\n",
            "Accuracy for class: 1     is 100.0 %\n",
            "Accuracy for class: 2     is 98.5 %\n",
            "Accuracy for class: 3     is 96.4 %\n",
            "Accuracy for class: 4     is 100.0 %\n",
            "Epoch114 of 150\n"
          ]
        },
        {
          "output_type": "stream",
          "name": "stderr",
          "text": [
            "100%|██████████| 31/31 [00:11<00:00,  2.61it/s]\n"
          ]
        },
        {
          "output_type": "stream",
          "name": "stdout",
          "text": [
            "Training loss: 0.052714318780589006\n",
            "Training Accuracy: 98\n",
            "Accuracy for class: 1     is 99.2 %\n",
            "Accuracy for class: 2     is 98.8 %\n",
            "Accuracy for class: 3     is 96.7 %\n",
            "Accuracy for class: 4     is 100.0 %\n"
          ]
        },
        {
          "output_type": "stream",
          "name": "stderr",
          "text": [
            "100%|██████████| 6/6 [00:01<00:00,  3.50it/s]\n"
          ]
        },
        {
          "output_type": "stream",
          "name": "stdout",
          "text": [
            "Validation loss: 0.021308468421921134\n",
            "Validation Accuracy: 98\n",
            "Accuracy for class: 1     is 98.6 %\n",
            "Accuracy for class: 2     is 100.0 %\n",
            "Accuracy for class: 3     is 97.1 %\n",
            "Accuracy for class: 4     is 0\n",
            "Epoch115 of 150\n"
          ]
        },
        {
          "output_type": "stream",
          "name": "stderr",
          "text": [
            "100%|██████████| 31/31 [00:11<00:00,  2.77it/s]\n"
          ]
        },
        {
          "output_type": "stream",
          "name": "stdout",
          "text": [
            "Training loss: 0.05048346867965114\n",
            "Training Accuracy: 98\n",
            "Accuracy for class: 1     is 99.5 %\n",
            "Accuracy for class: 2     is 98.0 %\n",
            "Accuracy for class: 3     is 97.5 %\n",
            "Accuracy for class: 4     is 100.0 %\n"
          ]
        },
        {
          "output_type": "stream",
          "name": "stderr",
          "text": [
            "100%|██████████| 6/6 [00:01<00:00,  3.59it/s]\n"
          ]
        },
        {
          "output_type": "stream",
          "name": "stdout",
          "text": [
            "Validation loss: 0.07788894434149067\n",
            "Validation Accuracy: 97\n",
            "Accuracy for class: 1     is 98.4 %\n",
            "Accuracy for class: 2     is 98.8 %\n",
            "Accuracy for class: 3     is 92.6 %\n",
            "Accuracy for class: 4     is 100.0 %\n",
            "Epoch116 of 150\n"
          ]
        },
        {
          "output_type": "stream",
          "name": "stderr",
          "text": [
            "100%|██████████| 31/31 [00:11<00:00,  2.60it/s]\n"
          ]
        },
        {
          "output_type": "stream",
          "name": "stdout",
          "text": [
            "Training loss: 0.037520791266879606\n",
            "Training Accuracy: 99\n",
            "Accuracy for class: 1     is 99.7 %\n",
            "Accuracy for class: 2     is 99.0 %\n",
            "Accuracy for class: 3     is 98.2 %\n",
            "Accuracy for class: 4     is 94.4 %\n"
          ]
        },
        {
          "output_type": "stream",
          "name": "stderr",
          "text": [
            "100%|██████████| 6/6 [00:01<00:00,  3.72it/s]\n"
          ]
        },
        {
          "output_type": "stream",
          "name": "stdout",
          "text": [
            "Validation loss: 0.15292734171574315\n",
            "Validation Accuracy: 97\n",
            "Accuracy for class: 1     is 98.6 %\n",
            "Accuracy for class: 2     is 98.7 %\n",
            "Accuracy for class: 3     is 87.0 %\n",
            "Accuracy for class: 4     is 100.0 %\n",
            "Epoch117 of 150\n"
          ]
        },
        {
          "output_type": "stream",
          "name": "stderr",
          "text": [
            "100%|██████████| 31/31 [00:11<00:00,  2.60it/s]\n"
          ]
        },
        {
          "output_type": "stream",
          "name": "stdout",
          "text": [
            "Training loss: 0.03900489887042392\n",
            "Training Accuracy: 98\n",
            "Accuracy for class: 1     is 99.5 %\n",
            "Accuracy for class: 2     is 98.4 %\n",
            "Accuracy for class: 3     is 95.4 %\n",
            "Accuracy for class: 4     is 100.0 %\n"
          ]
        },
        {
          "output_type": "stream",
          "name": "stderr",
          "text": [
            "100%|██████████| 6/6 [00:01<00:00,  3.60it/s]\n"
          ]
        },
        {
          "output_type": "stream",
          "name": "stdout",
          "text": [
            "Validation loss: 0.04363290360197425\n",
            "Validation Accuracy: 98\n",
            "Accuracy for class: 1     is 97.2 %\n",
            "Accuracy for class: 2     is 98.5 %\n",
            "Accuracy for class: 3     is 100.0 %\n",
            "Accuracy for class: 4     is 100.0 %\n",
            "Epoch118 of 150\n"
          ]
        },
        {
          "output_type": "stream",
          "name": "stderr",
          "text": [
            "100%|██████████| 31/31 [00:11<00:00,  2.80it/s]\n"
          ]
        },
        {
          "output_type": "stream",
          "name": "stdout",
          "text": [
            "Training loss: 0.034695648914954115\n",
            "Training Accuracy: 98\n",
            "Accuracy for class: 1     is 99.2 %\n",
            "Accuracy for class: 2     is 98.3 %\n",
            "Accuracy for class: 3     is 98.1 %\n",
            "Accuracy for class: 4     is 100.0 %\n"
          ]
        },
        {
          "output_type": "stream",
          "name": "stderr",
          "text": [
            "100%|██████████| 6/6 [00:01<00:00,  3.56it/s]\n"
          ]
        },
        {
          "output_type": "stream",
          "name": "stdout",
          "text": [
            "Validation loss: 0.03404523083008826\n",
            "Validation Accuracy: 99\n",
            "Accuracy for class: 1     is 100.0 %\n",
            "Accuracy for class: 2     is 100.0 %\n",
            "Accuracy for class: 3     is 96.2 %\n",
            "Accuracy for class: 4     is 100.0 %\n",
            "Epoch119 of 150\n"
          ]
        },
        {
          "output_type": "stream",
          "name": "stderr",
          "text": [
            "100%|██████████| 31/31 [00:11<00:00,  2.81it/s]\n"
          ]
        },
        {
          "output_type": "stream",
          "name": "stdout",
          "text": [
            "Training loss: 0.032415059027111816\n",
            "Training Accuracy: 99\n",
            "Accuracy for class: 1     is 99.5 %\n",
            "Accuracy for class: 2     is 98.8 %\n",
            "Accuracy for class: 3     is 99.4 %\n",
            "Accuracy for class: 4     is 100.0 %\n"
          ]
        },
        {
          "output_type": "stream",
          "name": "stderr",
          "text": [
            "100%|██████████| 6/6 [00:01<00:00,  3.50it/s]\n"
          ]
        },
        {
          "output_type": "stream",
          "name": "stdout",
          "text": [
            "Validation loss: 0.012753673596307635\n",
            "Validation Accuracy: 99\n",
            "Accuracy for class: 1     is 100.0 %\n",
            "Accuracy for class: 2     is 100.0 %\n",
            "Accuracy for class: 3     is 96.3 %\n",
            "Accuracy for class: 4     is 100.0 %\n",
            "Epoch120 of 150\n"
          ]
        },
        {
          "output_type": "stream",
          "name": "stderr",
          "text": [
            "100%|██████████| 31/31 [00:11<00:00,  2.81it/s]\n"
          ]
        },
        {
          "output_type": "stream",
          "name": "stdout",
          "text": [
            "Training loss: 0.031470252110833125\n",
            "Training Accuracy: 98\n",
            "Accuracy for class: 1     is 99.2 %\n",
            "Accuracy for class: 2     is 99.0 %\n",
            "Accuracy for class: 3     is 98.2 %\n",
            "Accuracy for class: 4     is 100.0 %\n"
          ]
        },
        {
          "output_type": "stream",
          "name": "stderr",
          "text": [
            "100%|██████████| 6/6 [00:01<00:00,  3.55it/s]\n"
          ]
        },
        {
          "output_type": "stream",
          "name": "stdout",
          "text": [
            "Validation loss: 0.009093531795466939\n",
            "Validation Accuracy: 99\n",
            "Accuracy for class: 1     is 100.0 %\n",
            "Accuracy for class: 2     is 98.7 %\n",
            "Accuracy for class: 3     is 100.0 %\n",
            "Accuracy for class: 4     is 100.0 %\n",
            "Epoch121 of 150\n"
          ]
        },
        {
          "output_type": "stream",
          "name": "stderr",
          "text": [
            "100%|██████████| 31/31 [00:11<00:00,  2.62it/s]\n"
          ]
        },
        {
          "output_type": "stream",
          "name": "stdout",
          "text": [
            "Training loss: 0.026609255504163522\n",
            "Training Accuracy: 99\n",
            "Accuracy for class: 1     is 99.7 %\n",
            "Accuracy for class: 2     is 99.0 %\n",
            "Accuracy for class: 3     is 98.7 %\n",
            "Accuracy for class: 4     is 94.4 %\n"
          ]
        },
        {
          "output_type": "stream",
          "name": "stderr",
          "text": [
            "100%|██████████| 6/6 [00:01<00:00,  3.56it/s]\n"
          ]
        },
        {
          "output_type": "stream",
          "name": "stdout",
          "text": [
            "Validation loss: 0.020380635309265926\n",
            "Validation Accuracy: 98\n",
            "Accuracy for class: 1     is 100.0 %\n",
            "Accuracy for class: 2     is 98.7 %\n",
            "Accuracy for class: 3     is 96.4 %\n",
            "Accuracy for class: 4     is 100.0 %\n",
            "Epoch122 of 150\n"
          ]
        },
        {
          "output_type": "stream",
          "name": "stderr",
          "text": [
            "100%|██████████| 31/31 [00:11<00:00,  2.81it/s]\n"
          ]
        },
        {
          "output_type": "stream",
          "name": "stdout",
          "text": [
            "Training loss: 0.03535277833702088\n",
            "Training Accuracy: 99\n",
            "Accuracy for class: 1     is 99.5 %\n",
            "Accuracy for class: 2     is 98.8 %\n",
            "Accuracy for class: 3     is 98.7 %\n",
            "Accuracy for class: 4     is 100.0 %\n"
          ]
        },
        {
          "output_type": "stream",
          "name": "stderr",
          "text": [
            "100%|██████████| 6/6 [00:01<00:00,  3.59it/s]\n"
          ]
        },
        {
          "output_type": "stream",
          "name": "stdout",
          "text": [
            "Validation loss: 0.009363073331769556\n",
            "Validation Accuracy: 100\n",
            "Accuracy for class: 1     is 100.0 %\n",
            "Accuracy for class: 2     is 100.0 %\n",
            "Accuracy for class: 3     is 100.0 %\n",
            "Accuracy for class: 4     is 100.0 %\n",
            "Epoch123 of 150\n"
          ]
        },
        {
          "output_type": "stream",
          "name": "stderr",
          "text": [
            "100%|██████████| 31/31 [00:11<00:00,  2.81it/s]\n"
          ]
        },
        {
          "output_type": "stream",
          "name": "stdout",
          "text": [
            "Training loss: 0.04074700553375747\n",
            "Training Accuracy: 98\n",
            "Accuracy for class: 1     is 98.5 %\n",
            "Accuracy for class: 2     is 98.8 %\n",
            "Accuracy for class: 3     is 96.9 %\n",
            "Accuracy for class: 4     is 100.0 %\n"
          ]
        },
        {
          "output_type": "stream",
          "name": "stderr",
          "text": [
            "100%|██████████| 6/6 [00:01<00:00,  3.65it/s]\n"
          ]
        },
        {
          "output_type": "stream",
          "name": "stdout",
          "text": [
            "Validation loss: 0.024581663814994197\n",
            "Validation Accuracy: 98\n",
            "Accuracy for class: 1     is 98.2 %\n",
            "Accuracy for class: 2     is 98.9 %\n",
            "Accuracy for class: 3     is 100.0 %\n",
            "Accuracy for class: 4     is 50.0 %\n",
            "Epoch124 of 150\n"
          ]
        },
        {
          "output_type": "stream",
          "name": "stderr",
          "text": [
            "100%|██████████| 31/31 [00:11<00:00,  2.60it/s]\n"
          ]
        },
        {
          "output_type": "stream",
          "name": "stdout",
          "text": [
            "Training loss: 0.040827994640435905\n",
            "Training Accuracy: 98\n",
            "Accuracy for class: 1     is 98.2 %\n",
            "Accuracy for class: 2     is 98.3 %\n",
            "Accuracy for class: 3     is 99.4 %\n",
            "Accuracy for class: 4     is 100.0 %\n"
          ]
        },
        {
          "output_type": "stream",
          "name": "stderr",
          "text": [
            "100%|██████████| 6/6 [00:01<00:00,  3.47it/s]\n"
          ]
        },
        {
          "output_type": "stream",
          "name": "stdout",
          "text": [
            "Validation loss: 0.0367165053418527\n",
            "Validation Accuracy: 98\n",
            "Accuracy for class: 1     is 100.0 %\n",
            "Accuracy for class: 2     is 100.0 %\n",
            "Accuracy for class: 3     is 90.3 %\n",
            "Accuracy for class: 4     is 100.0 %\n",
            "Epoch125 of 150\n"
          ]
        },
        {
          "output_type": "stream",
          "name": "stderr",
          "text": [
            "100%|██████████| 31/31 [00:11<00:00,  2.82it/s]\n"
          ]
        },
        {
          "output_type": "stream",
          "name": "stdout",
          "text": [
            "Training loss: 0.02946516378752647\n",
            "Training Accuracy: 99\n",
            "Accuracy for class: 1     is 99.7 %\n",
            "Accuracy for class: 2     is 99.0 %\n",
            "Accuracy for class: 3     is 98.7 %\n",
            "Accuracy for class: 4     is 100.0 %\n"
          ]
        },
        {
          "output_type": "stream",
          "name": "stderr",
          "text": [
            "100%|██████████| 6/6 [00:01<00:00,  3.61it/s]\n"
          ]
        },
        {
          "output_type": "stream",
          "name": "stdout",
          "text": [
            "Validation loss: 0.008837554797840616\n",
            "Validation Accuracy: 100\n",
            "Accuracy for class: 1     is 100.0 %\n",
            "Accuracy for class: 2     is 100.0 %\n",
            "Accuracy for class: 3     is 100.0 %\n",
            "Accuracy for class: 4     is 100.0 %\n",
            "Epoch126 of 150\n"
          ]
        },
        {
          "output_type": "stream",
          "name": "stderr",
          "text": [
            "100%|██████████| 31/31 [00:11<00:00,  2.81it/s]\n"
          ]
        },
        {
          "output_type": "stream",
          "name": "stdout",
          "text": [
            "Training loss: 0.03215852414723486\n",
            "Training Accuracy: 99\n",
            "Accuracy for class: 1     is 99.2 %\n",
            "Accuracy for class: 2     is 98.8 %\n",
            "Accuracy for class: 3     is 100.0 %\n",
            "Accuracy for class: 4     is 100.0 %\n"
          ]
        },
        {
          "output_type": "stream",
          "name": "stderr",
          "text": [
            "100%|██████████| 6/6 [00:01<00:00,  3.57it/s]\n"
          ]
        },
        {
          "output_type": "stream",
          "name": "stdout",
          "text": [
            "Validation loss: 0.01748043983631457\n",
            "Validation Accuracy: 99\n",
            "Accuracy for class: 1     is 100.0 %\n",
            "Accuracy for class: 2     is 98.6 %\n",
            "Accuracy for class: 3     is 100.0 %\n",
            "Accuracy for class: 4     is 0\n",
            "Epoch127 of 150\n"
          ]
        },
        {
          "output_type": "stream",
          "name": "stderr",
          "text": [
            "100%|██████████| 31/31 [00:11<00:00,  2.66it/s]\n"
          ]
        },
        {
          "output_type": "stream",
          "name": "stdout",
          "text": [
            "Training loss: 0.0365154791150182\n",
            "Training Accuracy: 98\n",
            "Accuracy for class: 1     is 98.4 %\n",
            "Accuracy for class: 2     is 98.3 %\n",
            "Accuracy for class: 3     is 98.7 %\n",
            "Accuracy for class: 4     is 95.0 %\n"
          ]
        },
        {
          "output_type": "stream",
          "name": "stderr",
          "text": [
            "100%|██████████| 6/6 [00:01<00:00,  3.04it/s]\n"
          ]
        },
        {
          "output_type": "stream",
          "name": "stdout",
          "text": [
            "Validation loss: 0.018413611222058535\n",
            "Validation Accuracy: 100\n",
            "Accuracy for class: 1     is 100.0 %\n",
            "Accuracy for class: 2     is 100.0 %\n",
            "Accuracy for class: 3     is 100.0 %\n",
            "Accuracy for class: 4     is 100.0 %\n",
            "Epoch128 of 150\n"
          ]
        },
        {
          "output_type": "stream",
          "name": "stderr",
          "text": [
            "100%|██████████| 31/31 [00:11<00:00,  2.79it/s]\n"
          ]
        },
        {
          "output_type": "stream",
          "name": "stdout",
          "text": [
            "Training loss: 0.057010000436416554\n",
            "Training Accuracy: 97\n",
            "Accuracy for class: 1     is 97.1 %\n",
            "Accuracy for class: 2     is 98.1 %\n",
            "Accuracy for class: 3     is 98.2 %\n",
            "Accuracy for class: 4     is 100.0 %\n"
          ]
        },
        {
          "output_type": "stream",
          "name": "stderr",
          "text": [
            "100%|██████████| 6/6 [00:01<00:00,  3.59it/s]\n"
          ]
        },
        {
          "output_type": "stream",
          "name": "stdout",
          "text": [
            "Validation loss: 0.041423653873304524\n",
            "Validation Accuracy: 98\n",
            "Accuracy for class: 1     is 95.8 %\n",
            "Accuracy for class: 2     is 100.0 %\n",
            "Accuracy for class: 3     is 100.0 %\n",
            "Accuracy for class: 4     is 100.0 %\n",
            "Epoch129 of 150\n"
          ]
        },
        {
          "output_type": "stream",
          "name": "stderr",
          "text": [
            "100%|██████████| 31/31 [00:11<00:00,  2.81it/s]\n"
          ]
        },
        {
          "output_type": "stream",
          "name": "stdout",
          "text": [
            "Training loss: 0.057863753792198915\n",
            "Training Accuracy: 97\n",
            "Accuracy for class: 1     is 97.9 %\n",
            "Accuracy for class: 2     is 97.6 %\n",
            "Accuracy for class: 3     is 97.4 %\n",
            "Accuracy for class: 4     is 94.1 %\n"
          ]
        },
        {
          "output_type": "stream",
          "name": "stderr",
          "text": [
            "100%|██████████| 6/6 [00:01<00:00,  3.61it/s]\n"
          ]
        },
        {
          "output_type": "stream",
          "name": "stdout",
          "text": [
            "Validation loss: 0.01892560898947219\n",
            "Validation Accuracy: 99\n",
            "Accuracy for class: 1     is 100.0 %\n",
            "Accuracy for class: 2     is 98.5 %\n",
            "Accuracy for class: 3     is 100.0 %\n",
            "Accuracy for class: 4     is 100.0 %\n",
            "Epoch130 of 150\n"
          ]
        },
        {
          "output_type": "stream",
          "name": "stderr",
          "text": [
            "100%|██████████| 31/31 [00:11<00:00,  2.79it/s]\n"
          ]
        },
        {
          "output_type": "stream",
          "name": "stdout",
          "text": [
            "Training loss: 0.02640351646714994\n",
            "Training Accuracy: 99\n",
            "Accuracy for class: 1     is 99.7 %\n",
            "Accuracy for class: 2     is 99.0 %\n",
            "Accuracy for class: 3     is 99.4 %\n",
            "Accuracy for class: 4     is 93.8 %\n"
          ]
        },
        {
          "output_type": "stream",
          "name": "stderr",
          "text": [
            "100%|██████████| 6/6 [00:02<00:00,  2.56it/s]\n"
          ]
        },
        {
          "output_type": "stream",
          "name": "stdout",
          "text": [
            "Validation loss: 0.002899374512101834\n",
            "Validation Accuracy: 100\n",
            "Accuracy for class: 1     is 100.0 %\n",
            "Accuracy for class: 2     is 100.0 %\n",
            "Accuracy for class: 3     is 100.0 %\n",
            "Accuracy for class: 4     is 100.0 %\n",
            "Epoch131 of 150\n"
          ]
        },
        {
          "output_type": "stream",
          "name": "stderr",
          "text": [
            "100%|██████████| 31/31 [00:12<00:00,  2.54it/s]\n"
          ]
        },
        {
          "output_type": "stream",
          "name": "stdout",
          "text": [
            "Training loss: 0.0339929192315697\n",
            "Training Accuracy: 98\n",
            "Accuracy for class: 1     is 98.9 %\n",
            "Accuracy for class: 2     is 98.1 %\n",
            "Accuracy for class: 3     is 98.7 %\n",
            "Accuracy for class: 4     is 100.0 %\n"
          ]
        },
        {
          "output_type": "stream",
          "name": "stderr",
          "text": [
            "100%|██████████| 6/6 [00:01<00:00,  3.57it/s]\n"
          ]
        },
        {
          "output_type": "stream",
          "name": "stdout",
          "text": [
            "Validation loss: 0.059184386394917965\n",
            "Validation Accuracy: 97\n",
            "Accuracy for class: 1     is 100.0 %\n",
            "Accuracy for class: 2     is 98.5 %\n",
            "Accuracy for class: 3     is 90.3 %\n",
            "Accuracy for class: 4     is 100.0 %\n",
            "Epoch132 of 150\n"
          ]
        },
        {
          "output_type": "stream",
          "name": "stderr",
          "text": [
            "100%|██████████| 31/31 [00:11<00:00,  2.82it/s]\n"
          ]
        },
        {
          "output_type": "stream",
          "name": "stdout",
          "text": [
            "Training loss: 0.03362841649176253\n",
            "Training Accuracy: 98\n",
            "Accuracy for class: 1     is 99.0 %\n",
            "Accuracy for class: 2     is 98.8 %\n",
            "Accuracy for class: 3     is 96.9 %\n",
            "Accuracy for class: 4     is 100.0 %\n"
          ]
        },
        {
          "output_type": "stream",
          "name": "stderr",
          "text": [
            "100%|██████████| 6/6 [00:01<00:00,  3.67it/s]\n"
          ]
        },
        {
          "output_type": "stream",
          "name": "stdout",
          "text": [
            "Validation loss: 0.012579653528518975\n",
            "Validation Accuracy: 99\n",
            "Accuracy for class: 1     is 100.0 %\n",
            "Accuracy for class: 2     is 98.7 %\n",
            "Accuracy for class: 3     is 100.0 %\n",
            "Accuracy for class: 4     is 100.0 %\n",
            "Epoch133 of 150\n"
          ]
        },
        {
          "output_type": "stream",
          "name": "stderr",
          "text": [
            "100%|██████████| 31/31 [00:11<00:00,  2.81it/s]\n"
          ]
        },
        {
          "output_type": "stream",
          "name": "stdout",
          "text": [
            "Training loss: 0.02914933102851313\n",
            "Training Accuracy: 98\n",
            "Accuracy for class: 1     is 99.7 %\n",
            "Accuracy for class: 2     is 98.8 %\n",
            "Accuracy for class: 3     is 98.1 %\n",
            "Accuracy for class: 4     is 95.0 %\n"
          ]
        },
        {
          "output_type": "stream",
          "name": "stderr",
          "text": [
            "100%|██████████| 6/6 [00:01<00:00,  3.58it/s]\n"
          ]
        },
        {
          "output_type": "stream",
          "name": "stdout",
          "text": [
            "Validation loss: 0.0239900848052154\n",
            "Validation Accuracy: 98\n",
            "Accuracy for class: 1     is 98.5 %\n",
            "Accuracy for class: 2     is 98.8 %\n",
            "Accuracy for class: 3     is 100.0 %\n",
            "Accuracy for class: 4     is 100.0 %\n",
            "Epoch134 of 150\n"
          ]
        },
        {
          "output_type": "stream",
          "name": "stderr",
          "text": [
            "100%|██████████| 31/31 [00:11<00:00,  2.61it/s]\n"
          ]
        },
        {
          "output_type": "stream",
          "name": "stdout",
          "text": [
            "Training loss: 0.015496187204975755\n",
            "Training Accuracy: 99\n",
            "Accuracy for class: 1     is 99.7 %\n",
            "Accuracy for class: 2     is 99.0 %\n",
            "Accuracy for class: 3     is 100.0 %\n",
            "Accuracy for class: 4     is 100.0 %\n"
          ]
        },
        {
          "output_type": "stream",
          "name": "stderr",
          "text": [
            "100%|██████████| 6/6 [00:01<00:00,  3.55it/s]\n"
          ]
        },
        {
          "output_type": "stream",
          "name": "stdout",
          "text": [
            "Validation loss: 0.006811804128422712\n",
            "Validation Accuracy: 100\n",
            "Accuracy for class: 1     is 100.0 %\n",
            "Accuracy for class: 2     is 100.0 %\n",
            "Accuracy for class: 3     is 100.0 %\n",
            "Accuracy for class: 4     is 100.0 %\n",
            "Epoch135 of 150\n"
          ]
        },
        {
          "output_type": "stream",
          "name": "stderr",
          "text": [
            "100%|██████████| 31/31 [00:10<00:00,  2.82it/s]\n"
          ]
        },
        {
          "output_type": "stream",
          "name": "stdout",
          "text": [
            "Training loss: 0.013978790633583201\n",
            "Training Accuracy: 99\n",
            "Accuracy for class: 1     is 99.7 %\n",
            "Accuracy for class: 2     is 100.0 %\n",
            "Accuracy for class: 3     is 99.4 %\n",
            "Accuracy for class: 4     is 100.0 %\n"
          ]
        },
        {
          "output_type": "stream",
          "name": "stderr",
          "text": [
            "100%|██████████| 6/6 [00:01<00:00,  3.67it/s]\n"
          ]
        },
        {
          "output_type": "stream",
          "name": "stdout",
          "text": [
            "Validation loss: 0.01638206059578806\n",
            "Validation Accuracy: 99\n",
            "Accuracy for class: 1     is 98.3 %\n",
            "Accuracy for class: 2     is 100.0 %\n",
            "Accuracy for class: 3     is 100.0 %\n",
            "Accuracy for class: 4     is 0\n",
            "Epoch136 of 150\n"
          ]
        },
        {
          "output_type": "stream",
          "name": "stderr",
          "text": [
            "100%|██████████| 31/31 [00:11<00:00,  2.78it/s]\n"
          ]
        },
        {
          "output_type": "stream",
          "name": "stdout",
          "text": [
            "Training loss: 0.019562903923102684\n",
            "Training Accuracy: 99\n",
            "Accuracy for class: 1     is 99.5 %\n",
            "Accuracy for class: 2     is 99.3 %\n",
            "Accuracy for class: 3     is 99.4 %\n",
            "Accuracy for class: 4     is 100.0 %\n"
          ]
        },
        {
          "output_type": "stream",
          "name": "stderr",
          "text": [
            "100%|██████████| 6/6 [00:01<00:00,  3.66it/s]\n"
          ]
        },
        {
          "output_type": "stream",
          "name": "stdout",
          "text": [
            "Validation loss: 0.03698180406354368\n",
            "Validation Accuracy: 98\n",
            "Accuracy for class: 1     is 100.0 %\n",
            "Accuracy for class: 2     is 98.6 %\n",
            "Accuracy for class: 3     is 95.7 %\n",
            "Accuracy for class: 4     is 100.0 %\n",
            "Epoch137 of 150\n"
          ]
        },
        {
          "output_type": "stream",
          "name": "stderr",
          "text": [
            "100%|██████████| 31/31 [00:11<00:00,  2.75it/s]\n"
          ]
        },
        {
          "output_type": "stream",
          "name": "stdout",
          "text": [
            "Training loss: 0.023645280796523775\n",
            "Training Accuracy: 99\n",
            "Accuracy for class: 1     is 100.0 %\n",
            "Accuracy for class: 2     is 99.3 %\n",
            "Accuracy for class: 3     is 97.4 %\n",
            "Accuracy for class: 4     is 100.0 %\n"
          ]
        },
        {
          "output_type": "stream",
          "name": "stderr",
          "text": [
            "100%|██████████| 6/6 [00:02<00:00,  2.60it/s]\n"
          ]
        },
        {
          "output_type": "stream",
          "name": "stdout",
          "text": [
            "Validation loss: 0.02425672928802669\n",
            "Validation Accuracy: 98\n",
            "Accuracy for class: 1     is 98.5 %\n",
            "Accuracy for class: 2     is 100.0 %\n",
            "Accuracy for class: 3     is 96.9 %\n",
            "Accuracy for class: 4     is 100.0 %\n",
            "Epoch138 of 150\n"
          ]
        },
        {
          "output_type": "stream",
          "name": "stderr",
          "text": [
            "100%|██████████| 31/31 [00:11<00:00,  2.70it/s]\n"
          ]
        },
        {
          "output_type": "stream",
          "name": "stdout",
          "text": [
            "Training loss: 0.031478392981713815\n",
            "Training Accuracy: 98\n",
            "Accuracy for class: 1     is 99.2 %\n",
            "Accuracy for class: 2     is 99.0 %\n",
            "Accuracy for class: 3     is 98.7 %\n",
            "Accuracy for class: 4     is 94.4 %\n"
          ]
        },
        {
          "output_type": "stream",
          "name": "stderr",
          "text": [
            "100%|██████████| 6/6 [00:01<00:00,  3.61it/s]\n"
          ]
        },
        {
          "output_type": "stream",
          "name": "stdout",
          "text": [
            "Validation loss: 0.014763949167293807\n",
            "Validation Accuracy: 99\n",
            "Accuracy for class: 1     is 100.0 %\n",
            "Accuracy for class: 2     is 98.8 %\n",
            "Accuracy for class: 3     is 100.0 %\n",
            "Accuracy for class: 4     is 100.0 %\n",
            "Epoch139 of 150\n"
          ]
        },
        {
          "output_type": "stream",
          "name": "stderr",
          "text": [
            "100%|██████████| 31/31 [00:10<00:00,  2.82it/s]\n"
          ]
        },
        {
          "output_type": "stream",
          "name": "stdout",
          "text": [
            "Training loss: 0.0200948903539909\n",
            "Training Accuracy: 99\n",
            "Accuracy for class: 1     is 99.5 %\n",
            "Accuracy for class: 2     is 99.0 %\n",
            "Accuracy for class: 3     is 98.8 %\n",
            "Accuracy for class: 4     is 100.0 %\n"
          ]
        },
        {
          "output_type": "stream",
          "name": "stderr",
          "text": [
            "100%|██████████| 6/6 [00:01<00:00,  3.55it/s]\n"
          ]
        },
        {
          "output_type": "stream",
          "name": "stdout",
          "text": [
            "Validation loss: 0.006200759632823368\n",
            "Validation Accuracy: 99\n",
            "Accuracy for class: 1     is 100.0 %\n",
            "Accuracy for class: 2     is 100.0 %\n",
            "Accuracy for class: 3     is 95.8 %\n",
            "Accuracy for class: 4     is 100.0 %\n",
            "Epoch140 of 150\n"
          ]
        },
        {
          "output_type": "stream",
          "name": "stderr",
          "text": [
            "100%|██████████| 31/31 [00:11<00:00,  2.81it/s]\n"
          ]
        },
        {
          "output_type": "stream",
          "name": "stdout",
          "text": [
            "Training loss: 0.04676381006814359\n",
            "Training Accuracy: 98\n",
            "Accuracy for class: 1     is 98.9 %\n",
            "Accuracy for class: 2     is 99.3 %\n",
            "Accuracy for class: 3     is 98.1 %\n",
            "Accuracy for class: 4     is 100.0 %\n"
          ]
        },
        {
          "output_type": "stream",
          "name": "stderr",
          "text": [
            "100%|██████████| 6/6 [00:01<00:00,  3.64it/s]\n"
          ]
        },
        {
          "output_type": "stream",
          "name": "stdout",
          "text": [
            "Validation loss: 0.039741988255021475\n",
            "Validation Accuracy: 98\n",
            "Accuracy for class: 1     is 98.6 %\n",
            "Accuracy for class: 2     is 98.6 %\n",
            "Accuracy for class: 3     is 100.0 %\n",
            "Accuracy for class: 4     is 100.0 %\n",
            "Epoch141 of 150\n"
          ]
        },
        {
          "output_type": "stream",
          "name": "stderr",
          "text": [
            "100%|██████████| 31/31 [00:11<00:00,  2.61it/s]\n"
          ]
        },
        {
          "output_type": "stream",
          "name": "stdout",
          "text": [
            "Training loss: 0.024877971453186605\n",
            "Training Accuracy: 99\n",
            "Accuracy for class: 1     is 99.5 %\n",
            "Accuracy for class: 2     is 99.3 %\n",
            "Accuracy for class: 3     is 98.7 %\n",
            "Accuracy for class: 4     is 100.0 %\n"
          ]
        },
        {
          "output_type": "stream",
          "name": "stderr",
          "text": [
            "100%|██████████| 6/6 [00:01<00:00,  3.70it/s]\n"
          ]
        },
        {
          "output_type": "stream",
          "name": "stdout",
          "text": [
            "Validation loss: 0.005758003671265517\n",
            "Validation Accuracy: 100\n",
            "Accuracy for class: 1     is 100.0 %\n",
            "Accuracy for class: 2     is 100.0 %\n",
            "Accuracy for class: 3     is 100.0 %\n",
            "Accuracy for class: 4     is 100.0 %\n",
            "Epoch142 of 150\n"
          ]
        },
        {
          "output_type": "stream",
          "name": "stderr",
          "text": [
            "100%|██████████| 31/31 [00:11<00:00,  2.80it/s]\n"
          ]
        },
        {
          "output_type": "stream",
          "name": "stdout",
          "text": [
            "Training loss: 0.028967594039709037\n",
            "Training Accuracy: 98\n",
            "Accuracy for class: 1     is 98.7 %\n",
            "Accuracy for class: 2     is 98.6 %\n",
            "Accuracy for class: 3     is 99.4 %\n",
            "Accuracy for class: 4     is 95.0 %\n"
          ]
        },
        {
          "output_type": "stream",
          "name": "stderr",
          "text": [
            "100%|██████████| 6/6 [00:01<00:00,  3.68it/s]\n"
          ]
        },
        {
          "output_type": "stream",
          "name": "stdout",
          "text": [
            "Validation loss: 0.006784598614710073\n",
            "Validation Accuracy: 100\n",
            "Accuracy for class: 1     is 100.0 %\n",
            "Accuracy for class: 2     is 100.0 %\n",
            "Accuracy for class: 3     is 100.0 %\n",
            "Accuracy for class: 4     is 100.0 %\n",
            "Epoch143 of 150\n"
          ]
        },
        {
          "output_type": "stream",
          "name": "stderr",
          "text": [
            "100%|██████████| 31/31 [00:10<00:00,  2.83it/s]\n"
          ]
        },
        {
          "output_type": "stream",
          "name": "stdout",
          "text": [
            "Training loss: 0.022469463760048273\n",
            "Training Accuracy: 99\n",
            "Accuracy for class: 1     is 99.5 %\n",
            "Accuracy for class: 2     is 99.1 %\n",
            "Accuracy for class: 3     is 100.0 %\n",
            "Accuracy for class: 4     is 100.0 %\n"
          ]
        },
        {
          "output_type": "stream",
          "name": "stderr",
          "text": [
            "100%|██████████| 6/6 [00:01<00:00,  3.50it/s]\n"
          ]
        },
        {
          "output_type": "stream",
          "name": "stdout",
          "text": [
            "Validation loss: 0.0027723710130279264\n",
            "Validation Accuracy: 100\n",
            "Accuracy for class: 1     is 100.0 %\n",
            "Accuracy for class: 2     is 100.0 %\n",
            "Accuracy for class: 3     is 100.0 %\n",
            "Accuracy for class: 4     is 100.0 %\n",
            "Epoch144 of 150\n"
          ]
        },
        {
          "output_type": "stream",
          "name": "stderr",
          "text": [
            "100%|██████████| 31/31 [00:12<00:00,  2.58it/s]\n"
          ]
        },
        {
          "output_type": "stream",
          "name": "stdout",
          "text": [
            "Training loss: 0.021743681488348352\n",
            "Training Accuracy: 99\n",
            "Accuracy for class: 1     is 99.5 %\n",
            "Accuracy for class: 2     is 99.0 %\n",
            "Accuracy for class: 3     is 100.0 %\n",
            "Accuracy for class: 4     is 100.0 %\n"
          ]
        },
        {
          "output_type": "stream",
          "name": "stderr",
          "text": [
            "100%|██████████| 6/6 [00:01<00:00,  3.66it/s]\n"
          ]
        },
        {
          "output_type": "stream",
          "name": "stdout",
          "text": [
            "Validation loss: 0.014895519823767245\n",
            "Validation Accuracy: 98\n",
            "Accuracy for class: 1     is 98.5 %\n",
            "Accuracy for class: 2     is 100.0 %\n",
            "Accuracy for class: 3     is 96.8 %\n",
            "Accuracy for class: 4     is 0\n",
            "Epoch145 of 150\n"
          ]
        },
        {
          "output_type": "stream",
          "name": "stderr",
          "text": [
            "100%|██████████| 31/31 [00:11<00:00,  2.58it/s]\n"
          ]
        },
        {
          "output_type": "stream",
          "name": "stdout",
          "text": [
            "Training loss: 0.02224466360114034\n",
            "Training Accuracy: 99\n",
            "Accuracy for class: 1     is 99.5 %\n",
            "Accuracy for class: 2     is 99.5 %\n",
            "Accuracy for class: 3     is 99.3 %\n",
            "Accuracy for class: 4     is 100.0 %\n"
          ]
        },
        {
          "output_type": "stream",
          "name": "stderr",
          "text": [
            "100%|██████████| 6/6 [00:01<00:00,  3.62it/s]\n"
          ]
        },
        {
          "output_type": "stream",
          "name": "stdout",
          "text": [
            "Validation loss: 0.0065050116390921175\n",
            "Validation Accuracy: 100\n",
            "Accuracy for class: 1     is 100.0 %\n",
            "Accuracy for class: 2     is 100.0 %\n",
            "Accuracy for class: 3     is 100.0 %\n",
            "Accuracy for class: 4     is 100.0 %\n",
            "Epoch146 of 150\n"
          ]
        },
        {
          "output_type": "stream",
          "name": "stderr",
          "text": [
            "100%|██████████| 31/31 [00:11<00:00,  2.80it/s]\n"
          ]
        },
        {
          "output_type": "stream",
          "name": "stdout",
          "text": [
            "Training loss: 0.017411543184050148\n",
            "Training Accuracy: 99\n",
            "Accuracy for class: 1     is 99.2 %\n",
            "Accuracy for class: 2     is 99.1 %\n",
            "Accuracy for class: 3     is 100.0 %\n",
            "Accuracy for class: 4     is 100.0 %\n"
          ]
        },
        {
          "output_type": "stream",
          "name": "stderr",
          "text": [
            "100%|██████████| 6/6 [00:01<00:00,  3.74it/s]\n"
          ]
        },
        {
          "output_type": "stream",
          "name": "stdout",
          "text": [
            "Validation loss: 0.02282256493344903\n",
            "Validation Accuracy: 99\n",
            "Accuracy for class: 1     is 100.0 %\n",
            "Accuracy for class: 2     is 98.5 %\n",
            "Accuracy for class: 3     is 100.0 %\n",
            "Accuracy for class: 4     is 100.0 %\n",
            "Epoch147 of 150\n"
          ]
        },
        {
          "output_type": "stream",
          "name": "stderr",
          "text": [
            "100%|██████████| 31/31 [00:11<00:00,  2.75it/s]\n"
          ]
        },
        {
          "output_type": "stream",
          "name": "stdout",
          "text": [
            "Training loss: 0.025649320784836047\n",
            "Training Accuracy: 98\n",
            "Accuracy for class: 1     is 99.2 %\n",
            "Accuracy for class: 2     is 99.0 %\n",
            "Accuracy for class: 3     is 98.1 %\n",
            "Accuracy for class: 4     is 100.0 %\n"
          ]
        },
        {
          "output_type": "stream",
          "name": "stderr",
          "text": [
            "100%|██████████| 6/6 [00:02<00:00,  2.63it/s]\n"
          ]
        },
        {
          "output_type": "stream",
          "name": "stdout",
          "text": [
            "Validation loss: 0.04829493498740097\n",
            "Validation Accuracy: 97\n",
            "Accuracy for class: 1     is 97.0 %\n",
            "Accuracy for class: 2     is 95.8 %\n",
            "Accuracy for class: 3     is 100.0 %\n",
            "Accuracy for class: 4     is 100.0 %\n",
            "Epoch148 of 150\n"
          ]
        },
        {
          "output_type": "stream",
          "name": "stderr",
          "text": [
            "100%|██████████| 31/31 [00:11<00:00,  2.75it/s]\n"
          ]
        },
        {
          "output_type": "stream",
          "name": "stdout",
          "text": [
            "Training loss: 0.034637208693780966\n",
            "Training Accuracy: 98\n",
            "Accuracy for class: 1     is 99.0 %\n",
            "Accuracy for class: 2     is 98.8 %\n",
            "Accuracy for class: 3     is 99.4 %\n",
            "Accuracy for class: 4     is 100.0 %\n"
          ]
        },
        {
          "output_type": "stream",
          "name": "stderr",
          "text": [
            "100%|██████████| 6/6 [00:01<00:00,  3.63it/s]\n"
          ]
        },
        {
          "output_type": "stream",
          "name": "stdout",
          "text": [
            "Validation loss: 0.03276674874359742\n",
            "Validation Accuracy: 98\n",
            "Accuracy for class: 1     is 100.0 %\n",
            "Accuracy for class: 2     is 100.0 %\n",
            "Accuracy for class: 3     is 89.3 %\n",
            "Accuracy for class: 4     is 100.0 %\n",
            "Epoch149 of 150\n"
          ]
        },
        {
          "output_type": "stream",
          "name": "stderr",
          "text": [
            "100%|██████████| 31/31 [00:11<00:00,  2.79it/s]\n"
          ]
        },
        {
          "output_type": "stream",
          "name": "stdout",
          "text": [
            "Training loss: 0.028819182102808788\n",
            "Training Accuracy: 99\n",
            "Accuracy for class: 1     is 99.0 %\n",
            "Accuracy for class: 2     is 99.3 %\n",
            "Accuracy for class: 3     is 99.4 %\n",
            "Accuracy for class: 4     is 100.0 %\n"
          ]
        },
        {
          "output_type": "stream",
          "name": "stderr",
          "text": [
            "100%|██████████| 6/6 [00:01<00:00,  3.62it/s]\n"
          ]
        },
        {
          "output_type": "stream",
          "name": "stdout",
          "text": [
            "Validation loss: 0.005416196693355839\n",
            "Validation Accuracy: 100\n",
            "Accuracy for class: 1     is 100.0 %\n",
            "Accuracy for class: 2     is 100.0 %\n",
            "Accuracy for class: 3     is 100.0 %\n",
            "Accuracy for class: 4     is 100.0 %\n",
            "Epoch150 of 150\n"
          ]
        },
        {
          "output_type": "stream",
          "name": "stderr",
          "text": [
            "100%|██████████| 31/31 [00:11<00:00,  2.81it/s]\n"
          ]
        },
        {
          "output_type": "stream",
          "name": "stdout",
          "text": [
            "Training loss: 0.037331606879184444\n",
            "Training Accuracy: 98\n",
            "Accuracy for class: 1     is 98.4 %\n",
            "Accuracy for class: 2     is 98.8 %\n",
            "Accuracy for class: 3     is 100.0 %\n",
            "Accuracy for class: 4     is 94.7 %\n"
          ]
        },
        {
          "output_type": "stream",
          "name": "stderr",
          "text": [
            "100%|██████████| 6/6 [00:01<00:00,  3.58it/s]"
          ]
        },
        {
          "output_type": "stream",
          "name": "stdout",
          "text": [
            "Validation loss: 0.006687611574307084\n",
            "Validation Accuracy: 100\n",
            "Accuracy for class: 1     is 100.0 %\n",
            "Accuracy for class: 2     is 100.0 %\n",
            "Accuracy for class: 3     is 100.0 %\n",
            "Accuracy for class: 4     is 100.0 %\n",
            "Learning Finished\n"
          ]
        },
        {
          "output_type": "stream",
          "name": "stderr",
          "text": [
            "\n"
          ]
        }
      ]
    },
    {
      "cell_type": "code",
      "source": [
        "x = range(epochs)\n",
        "# plt.figure(figsize=(16, 4))\n",
        "fig, (ax1, ax2) = plt.subplots(1, 2,figsize=(18, 6),)\n",
        "line1, = ax1.plot(t_loss[1:], marker='.', label=\"Train\", linestyle='--',linewidth=1,color=\"red\")\n",
        "line2, = ax1.plot(v_loss[1:],  marker='.' ,label=\"Loss\", linewidth=1,color=\"blue\")\n",
        "ax1.set_title(\"Loss chart\")\n",
        "# Create a legend for the first line.\n",
        "first_legend = plt.legend(handles=[line1], loc=1)\n",
        "# Add the legend manually to the current Axes.\n",
        "ax = plt.gca().add_artist(first_legend)\n",
        "# Create another legend for the second line.\n",
        "plt.legend(handles=[line2], loc=4)\n",
        "\n",
        "line3, = ax2.plot(t_acc[1:], marker='.', label=\"Train\", linestyle='--',linewidth=1,color=\"red\")\n",
        "line4, = ax2.plot(v_acc[1:],  marker='.' ,label=\"Loss\", linewidth=1,color=\"blue\")\n",
        "ax2.set_title(\"Accuracy chart\")\n",
        "# Create a legend for the first line in the second chart.\n",
        "third_legend = plt.legend(handles=[line3], loc=1)\n",
        "# Add the legend manually to the current Axes.\n",
        "ax = plt.gca().add_artist(third_legend)\n",
        "# Create another legend for the second line.\n",
        "plt.legend(handles=[line4], loc=4)\n",
        "\n",
        "plt.show()"
      ],
      "metadata": {
        "id": "JawULefOVlb1",
        "colab": {
          "base_uri": "https://localhost:8080/",
          "height": 390
        },
        "outputId": "8172dd23-6429-40f4-f61f-4dcfed8b2fc2"
      },
      "id": "JawULefOVlb1",
      "execution_count": 39,
      "outputs": [
        {
          "output_type": "display_data",
          "data": {
            "text/plain": [
              "<Figure size 1296x432 with 2 Axes>"
            ],
            "image/png": "[encoded data removed]"
          },
          "metadata": {
            "needs_background": "light"
          }
        }
      ]
    },
    {
      "cell_type": "markdown",
      "source": [
        "try"
      ],
      "metadata": {
        "id": "0yf_T7nU-GlF"
      },
      "id": "0yf_T7nU-GlF"
    },
    {
      "cell_type": "code",
      "source": [
        "# aww_data_path ='/content/drive/MyDrive/Colab Notebooks/Project 1-CV/Datasets/testing'"
      ],
      "metadata": {
        "id": "1b33-b1-Ercg"
      },
      "id": "1b33-b1-Ercg",
      "execution_count": 115,
      "outputs": []
    },
    {
      "cell_type": "code",
      "source": [
        "# aww_data = torchvision.datasets.ImageFolder(root = aww_data_path, transform = testing_transform)"
      ],
      "metadata": {
        "id": "ajXh_eqSB4Wc"
      },
      "id": "ajXh_eqSB4Wc",
      "execution_count": 121,
      "outputs": []
    },
    {
      "cell_type": "code",
      "source": [
        "# data_loader = torch.utils.data.DataLoader(dataset = aww_data,shuffle =False)"
      ],
      "metadata": {
        "id": "U7BbfdbRB4ZL"
      },
      "id": "U7BbfdbRB4ZL",
      "execution_count": 117,
      "outputs": []
    },
    {
      "cell_type": "code",
      "source": [
        "# print(len(data_loader))"
      ],
      "metadata": {
        "colab": {
          "base_uri": "https://localhost:8080/"
        },
        "id": "unxSFBCbLg8U",
        "outputId": "7db8938e-910c-4a5d-ef8d-8983fd43fb5e"
      },
      "id": "unxSFBCbLg8U",
      "execution_count": 118,
      "outputs": [
        {
          "output_type": "stream",
          "name": "stdout",
          "text": [
            "380\n"
          ]
        }
      ]
    },
    {
      "cell_type": "code",
      "source": [
        "# test_img_list = []\n",
        "# for dir1 in os.listdir(test_data_path):\n",
        "#     test_img_list.append(dir1)\n",
        "# to_correct =0\n",
        "# total_labels =[]\n",
        "# model.eval()\n",
        "# with torch.no_grad():\n",
        "#         for bi, data in tqdm.tqdm(enumerate(data_loader), total = len(data_loader)):\n",
        "#             images = data[0].to(device)\n",
        "#             out = model(images)\n",
        "#             ret, predictions = torch.max(out.data, 1)\n",
        "#             # calculate total accuracy\n",
        "#             total_labels.append(predictions[-1].tolist()+1)\n",
        "\n",
        "# Test_results = pd.DataFrame(list(zip(test_img_list,total_labels)))\n",
        "# Test_results.to_csv(\"CNN_test_try.csv\",header=False,index=False)\n",
        "# !cp CNN_test_try.csv \"/content/drive/MyDrive/Colab Notebooks/Project 1-CV/Datasets\"\n",
        "# Test_results\n"
      ],
      "metadata": {
        "colab": {
          "base_uri": "https://localhost:8080/",
          "height": 442
        },
        "id": "maFU1vmJB4b4",
        "outputId": "ae476fc3-19f4-455c-beb5-fe466acb3823"
      },
      "id": "maFU1vmJB4b4",
      "execution_count": 119,
      "outputs": [
        {
          "output_type": "stream",
          "name": "stderr",
          "text": [
            "100%|██████████| 380/380 [00:04<00:00, 92.82it/s]\n"
          ]
        },
        {
          "output_type": "execute_result",
          "data": {
            "text/plain": [
              "                                  0  1\n",
              "0    20200724_093940_LH_C1_PP_M.jpg  2\n",
              "1    20200724_094015_RH_C2_PN_M.jpg  1\n",
              "2    20200724_094108_RF_C1_PN_M.jpg  1\n",
              "3    20200724_094015_LF_C2_PN_M.jpg  2\n",
              "4    20200724_093935_RF_C2_PP_M.jpg  1\n",
              "..                              ... ..\n",
              "375  R9_0767_29_crop_LF_C2_PN_m.jpg  2\n",
              "376  R9_0765_27_crop_LF_C2_PN_m.jpg  1\n",
              "377  R8_0728_37_crop_LH_C2_PN_m.jpg  2\n",
              "378  R7_0700_57_crop_RH_C3_PN_m.jpg  2\n",
              "379  R9_0787_50_crop_LF_C2_PN_m.jpg  1\n",
              "\n",
              "[380 rows x 2 columns]"
            ],
            "text/html": [
              "\n",
              "  <div id=\"df-23e9f019-8e83-41af-99f1-ff16e4f8e974\">\n",
              "    <div class=\"colab-df-container\">\n",
              "      <div>\n",
              "<style scoped>\n",
              "    .dataframe tbody tr th:only-of-type {\n",
              "        vertical-align: middle;\n",
              "    }\n",
              "\n",
              "    .dataframe tbody tr th {\n",
              "        vertical-align: top;\n",
              "    }\n",
              "\n",
              "    .dataframe thead th {\n",
              "        text-align: right;\n",
              "    }\n",
              "</style>\n",
              "<table border=\"1\" class=\"dataframe\">\n",
              "  <thead>\n",
              "    <tr style=\"text-align: right;\">\n",
              "      <th></th>\n",
              "      <th>0</th>\n",
              "      <th>1</th>\n",
              "    </tr>\n",
              "  </thead>\n",
              "  <tbody>\n",
              "    <tr>\n",
              "      <th>0</th>\n",
              "      <td>20200724_093940_LH_C1_PP_M.jpg</td>\n",
              "      <td>2</td>\n",
              "    </tr>\n",
              "    <tr>\n",
              "      <th>1</th>\n",
              "      <td>20200724_094015_RH_C2_PN_M.jpg</td>\n",
              "      <td>1</td>\n",
              "    </tr>\n",
              "    <tr>\n",
              "      <th>2</th>\n",
              "      <td>20200724_094108_RF_C1_PN_M.jpg</td>\n",
              "      <td>1</td>\n",
              "    </tr>\n",
              "    <tr>\n",
              "      <th>3</th>\n",
              "      <td>20200724_094015_LF_C2_PN_M.jpg</td>\n",
              "      <td>2</td>\n",
              "    </tr>\n",
              "    <tr>\n",
              "      <th>4</th>\n",
              "      <td>20200724_093935_RF_C2_PP_M.jpg</td>\n",
              "      <td>1</td>\n",
              "    </tr>\n",
              "    <tr>\n",
              "      <th>...</th>\n",
              "      <td>...</td>\n",
              "      <td>...</td>\n",
              "    </tr>\n",
              "    <tr>\n",
              "      <th>375</th>\n",
              "      <td>R9_0767_29_crop_LF_C2_PN_m.jpg</td>\n",
              "      <td>2</td>\n",
              "    </tr>\n",
              "    <tr>\n",
              "      <th>376</th>\n",
              "      <td>R9_0765_27_crop_LF_C2_PN_m.jpg</td>\n",
              "      <td>1</td>\n",
              "    </tr>\n",
              "    <tr>\n",
              "      <th>377</th>\n",
              "      <td>R8_0728_37_crop_LH_C2_PN_m.jpg</td>\n",
              "      <td>2</td>\n",
              "    </tr>\n",
              "    <tr>\n",
              "      <th>378</th>\n",
              "      <td>R7_0700_57_crop_RH_C3_PN_m.jpg</td>\n",
              "      <td>2</td>\n",
              "    </tr>\n",
              "    <tr>\n",
              "      <th>379</th>\n",
              "      <td>R9_0787_50_crop_LF_C2_PN_m.jpg</td>\n",
              "      <td>1</td>\n",
              "    </tr>\n",
              "  </tbody>\n",
              "</table>\n",
              "<p>380 rows × 2 columns</p>\n",
              "</div>\n",
              "      <button class=\"colab-df-convert\" onclick=\"convertToInteractive('df-23e9f019-8e83-41af-99f1-ff16e4f8e974')\"\n",
              "              title=\"Convert this dataframe to an interactive table.\"\n",
              "              style=\"display:none;\">\n",
              "        \n",
              "  <svg xmlns=\"http://www.w3.org/2000/svg\" height=\"24px\"viewBox=\"0 0 24 24\"\n",
              "       width=\"24px\">\n",
              "    <path d=\"M0 0h24v24H0V0z\" fill=\"none\"/>\n",
              "    <path d=\"M18.56 5.44l.94 2.06.94-2.06 2.06-.94-2.06-.94-.94-2.06-.94 2.06-2.06.94zm-11 1L8.5 8.5l.94-2.06 2.06-.94-2.06-.94L8.5 2.5l-.94 2.06-2.06.94zm10 10l.94 2.06.94-2.06 2.06-.94-2.06-.94-.94-2.06-.94 2.06-2.06.94z\"/><path d=\"M17.41 7.96l-1.37-1.37c-.4-.4-.92-.59-1.43-.59-.52 0-1.04.2-1.43.59L10.3 9.45l-7.72 7.72c-.78.78-.78 2.05 0 2.83L4 21.41c.39.39.9.59 1.41.59.51 0 1.02-.2 1.41-.59l7.78-7.78 2.81-2.81c.8-.78.8-2.07 0-2.86zM5.41 20L4 18.59l7.72-7.72 1.47 1.35L5.41 20z\"/>\n",
              "  </svg>\n",
              "      </button>\n",
              "      \n",
              "  <style>\n",
              "    .colab-df-container {\n",
              "      display:flex;\n",
              "      flex-wrap:wrap;\n",
              "      gap: 12px;\n",
              "    }\n",
              "\n",
              "    .colab-df-convert {\n",
              "      background-color: #E8F0FE;\n",
              "      border: none;\n",
              "      border-radius: 50%;\n",
              "      cursor: pointer;\n",
              "      display: none;\n",
              "      fill: #1967D2;\n",
              "      height: 32px;\n",
              "      padding: 0 0 0 0;\n",
              "      width: 32px;\n",
              "    }\n",
              "\n",
              "    .colab-df-convert:hover {\n",
              "      background-color: #E2EBFA;\n",
              "      box-shadow: 0px 1px 2px rgba(60, 64, 67, 0.3), 0px 1px 3px 1px rgba(60, 64, 67, 0.15);\n",
              "      fill: #174EA6;\n",
              "    }\n",
              "\n",
              "    [theme=dark] .colab-df-convert {\n",
              "      background-color: #3B4455;\n",
              "      fill: #D2E3FC;\n",
              "    }\n",
              "\n",
              "    [theme=dark] .colab-df-convert:hover {\n",
              "      background-color: #434B5C;\n",
              "      box-shadow: 0px 1px 3px 1px rgba(0, 0, 0, 0.15);\n",
              "      filter: drop-shadow(0px 1px 2px rgba(0, 0, 0, 0.3));\n",
              "      fill: #FFFFFF;\n",
              "    }\n",
              "  </style>\n",
              "\n",
              "      <script>\n",
              "        const buttonEl =\n",
              "          document.querySelector('#df-23e9f019-8e83-41af-99f1-ff16e4f8e974 button.colab-df-convert');\n",
              "        buttonEl.style.display =\n",
              "          google.colab.kernel.accessAllowed ? 'block' : 'none';\n",
              "\n",
              "        async function convertToInteractive(key) {\n",
              "          const element = document.querySelector('#df-23e9f019-8e83-41af-99f1-ff16e4f8e974');\n",
              "          const dataTable =\n",
              "            await google.colab.kernel.invokeFunction('convertToInteractive',\n",
              "                                                     [key], {});\n",
              "          if (!dataTable) return;\n",
              "\n",
              "          const docLinkHtml = 'Like what you see? Visit the ' +\n",
              "            '<a target=\"_blank\" href=https://colab.research.google.com/notebooks/data_table.ipynb>data table notebook</a>'\n",
              "            + ' to learn more about interactive tables.';\n",
              "          element.innerHTML = '';\n",
              "          dataTable['output_type'] = 'display_data';\n",
              "          await google.colab.output.renderOutput(dataTable, element);\n",
              "          const docLink = document.createElement('div');\n",
              "          docLink.innerHTML = docLinkHtml;\n",
              "          element.appendChild(docLink);\n",
              "        }\n",
              "      </script>\n",
              "    </div>\n",
              "  </div>\n",
              "  "
            ]
          },
          "metadata": {},
          "execution_count": 119
        }
      ]
    },
    {
      "cell_type": "markdown",
      "source": [
        "Testing data"
      ],
      "metadata": {
        "id": "KpIqWhS7NlO2"
      },
      "id": "KpIqWhS7NlO2"
    },
    {
      "cell_type": "code",
      "source": [
        "testing_transform = transforms.Compose(\n",
        "    [transforms.Resize((224,224)),\n",
        "     transforms.ToTensor(),\n",
        "     transforms.RandomRotation(20),\n",
        "     transforms.Normalize((0.5, 0.5, 0.5), (0.5, 0.5, 0.5))\n",
        "    ])"
      ],
      "metadata": {
        "id": "i0S5O-I5BfSf"
      },
      "id": "i0S5O-I5BfSf",
      "execution_count": 69,
      "outputs": []
    },
    {
      "cell_type": "code",
      "source": [
        "predictions_list = []\n",
        "test_img_list = []\n",
        "test_labels = []\n",
        "# test data\n",
        "\n",
        "for dir1 in os.listdir(test_data_path):\n",
        "  # append image names\n",
        "    test_img_list.append(dir1)\n",
        "  # load dataset\n",
        "    image_path= os.path.join(test_data_path, dir1)\n",
        "    image= cv2.imread(image_path)\n",
        "  # transform images\n",
        "    image = transforms.ToPILImage()(image)\n",
        "  # data transformer, resize data\n",
        "    img = testing_transform(image)\n",
        "  # data loader format\n",
        "    img =torchvision.utils.make_grid(img)\n",
        "    img = img.unsqueeze(0)\n",
        " # predict\n",
        "    model.eval()\n",
        "    with torch.no_grad():\n",
        "      outputs = model(img.to(device))\n",
        "      _, predicted = torch.max(outputs.data, 1)\n",
        "  # load the result into test_labels list\n",
        "      test_labels.append(predicted[-1].tolist()+1)\n",
        "\n",
        "\n",
        "    # for idx, i in enumerate(outputs):\n",
        "    #   arg = torch.argmax(i).tolist()\n",
        "    #   arg += 1\n",
        "    #   test_labels.append(arg)\n",
        "\n",
        "\n",
        "    # ret, predictions = torch.max(out.data, 1)\n",
        "    # predictions_list.append(predictions)\n",
        "Test_results = pd.DataFrame(list(zip(test_img_list,test_labels)))\n",
        "Test_results"
      ],
      "metadata": {
        "id": "_2NrpJtKtvAz",
        "colab": {
          "base_uri": "https://localhost:8080/",
          "height": 423
        },
        "outputId": "781a573f-26d1-4221-aaf8-f1eaa8599238"
      },
      "id": "_2NrpJtKtvAz",
      "execution_count": 122,
      "outputs": [
        {
          "output_type": "execute_result",
          "data": {
            "text/plain": [
              "                                  0  1\n",
              "0    20200724_093940_LH_C1_PP_M.jpg  1\n",
              "1    20200724_094015_RH_C2_PN_M.jpg  1\n",
              "2    20200724_094108_RF_C1_PN_M.jpg  1\n",
              "3    20200724_094015_LF_C2_PN_M.jpg  1\n",
              "4    20200724_093935_RF_C2_PP_M.jpg  1\n",
              "..                              ... ..\n",
              "375  R9_0767_29_crop_LF_C2_PN_m.jpg  1\n",
              "376  R9_0765_27_crop_LF_C2_PN_m.jpg  1\n",
              "377  R8_0728_37_crop_LH_C2_PN_m.jpg  1\n",
              "378  R7_0700_57_crop_RH_C3_PN_m.jpg  1\n",
              "379  R9_0787_50_crop_LF_C2_PN_m.jpg  2\n",
              "\n",
              "[380 rows x 2 columns]"
            ],
            "text/html": [
              "\n",
              "  <div id=\"df-3500a8a0-1600-4168-be60-5d585e23fbd8\">\n",
              "    <div class=\"colab-df-container\">\n",
              "      <div>\n",
              "<style scoped>\n",
              "    .dataframe tbody tr th:only-of-type {\n",
              "        vertical-align: middle;\n",
              "    }\n",
              "\n",
              "    .dataframe tbody tr th {\n",
              "        vertical-align: top;\n",
              "    }\n",
              "\n",
              "    .dataframe thead th {\n",
              "        text-align: right;\n",
              "    }\n",
              "</style>\n",
              "<table border=\"1\" class=\"dataframe\">\n",
              "  <thead>\n",
              "    <tr style=\"text-align: right;\">\n",
              "      <th></th>\n",
              "      <th>0</th>\n",
              "      <th>1</th>\n",
              "    </tr>\n",
              "  </thead>\n",
              "  <tbody>\n",
              "    <tr>\n",
              "      <th>0</th>\n",
              "      <td>20200724_093940_LH_C1_PP_M.jpg</td>\n",
              "      <td>1</td>\n",
              "    </tr>\n",
              "    <tr>\n",
              "      <th>1</th>\n",
              "      <td>20200724_094015_RH_C2_PN_M.jpg</td>\n",
              "      <td>1</td>\n",
              "    </tr>\n",
              "    <tr>\n",
              "      <th>2</th>\n",
              "      <td>20200724_094108_RF_C1_PN_M.jpg</td>\n",
              "      <td>1</td>\n",
              "    </tr>\n",
              "    <tr>\n",
              "      <th>3</th>\n",
              "      <td>20200724_094015_LF_C2_PN_M.jpg</td>\n",
              "      <td>1</td>\n",
              "    </tr>\n",
              "    <tr>\n",
              "      <th>4</th>\n",
              "      <td>20200724_093935_RF_C2_PP_M.jpg</td>\n",
              "      <td>1</td>\n",
              "    </tr>\n",
              "    <tr>\n",
              "      <th>...</th>\n",
              "      <td>...</td>\n",
              "      <td>...</td>\n",
              "    </tr>\n",
              "    <tr>\n",
              "      <th>375</th>\n",
              "      <td>R9_0767_29_crop_LF_C2_PN_m.jpg</td>\n",
              "      <td>1</td>\n",
              "    </tr>\n",
              "    <tr>\n",
              "      <th>376</th>\n",
              "      <td>R9_0765_27_crop_LF_C2_PN_m.jpg</td>\n",
              "      <td>1</td>\n",
              "    </tr>\n",
              "    <tr>\n",
              "      <th>377</th>\n",
              "      <td>R8_0728_37_crop_LH_C2_PN_m.jpg</td>\n",
              "      <td>1</td>\n",
              "    </tr>\n",
              "    <tr>\n",
              "      <th>378</th>\n",
              "      <td>R7_0700_57_crop_RH_C3_PN_m.jpg</td>\n",
              "      <td>1</td>\n",
              "    </tr>\n",
              "    <tr>\n",
              "      <th>379</th>\n",
              "      <td>R9_0787_50_crop_LF_C2_PN_m.jpg</td>\n",
              "      <td>2</td>\n",
              "    </tr>\n",
              "  </tbody>\n",
              "</table>\n",
              "<p>380 rows × 2 columns</p>\n",
              "</div>\n",
              "      <button class=\"colab-df-convert\" onclick=\"convertToInteractive('df-3500a8a0-1600-4168-be60-5d585e23fbd8')\"\n",
              "              title=\"Convert this dataframe to an interactive table.\"\n",
              "              style=\"display:none;\">\n",
              "        \n",
              "  <svg xmlns=\"http://www.w3.org/2000/svg\" height=\"24px\"viewBox=\"0 0 24 24\"\n",
              "       width=\"24px\">\n",
              "    <path d=\"M0 0h24v24H0V0z\" fill=\"none\"/>\n",
              "    <path d=\"M18.56 5.44l.94 2.06.94-2.06 2.06-.94-2.06-.94-.94-2.06-.94 2.06-2.06.94zm-11 1L8.5 8.5l.94-2.06 2.06-.94-2.06-.94L8.5 2.5l-.94 2.06-2.06.94zm10 10l.94 2.06.94-2.06 2.06-.94-2.06-.94-.94-2.06-.94 2.06-2.06.94z\"/><path d=\"M17.41 7.96l-1.37-1.37c-.4-.4-.92-.59-1.43-.59-.52 0-1.04.2-1.43.59L10.3 9.45l-7.72 7.72c-.78.78-.78 2.05 0 2.83L4 21.41c.39.39.9.59 1.41.59.51 0 1.02-.2 1.41-.59l7.78-7.78 2.81-2.81c.8-.78.8-2.07 0-2.86zM5.41 20L4 18.59l7.72-7.72 1.47 1.35L5.41 20z\"/>\n",
              "  </svg>\n",
              "      </button>\n",
              "      \n",
              "  <style>\n",
              "    .colab-df-container {\n",
              "      display:flex;\n",
              "      flex-wrap:wrap;\n",
              "      gap: 12px;\n",
              "    }\n",
              "\n",
              "    .colab-df-convert {\n",
              "      background-color: #E8F0FE;\n",
              "      border: none;\n",
              "      border-radius: 50%;\n",
              "      cursor: pointer;\n",
              "      display: none;\n",
              "      fill: #1967D2;\n",
              "      height: 32px;\n",
              "      padding: 0 0 0 0;\n",
              "      width: 32px;\n",
              "    }\n",
              "\n",
              "    .colab-df-convert:hover {\n",
              "      background-color: #E2EBFA;\n",
              "      box-shadow: 0px 1px 2px rgba(60, 64, 67, 0.3), 0px 1px 3px 1px rgba(60, 64, 67, 0.15);\n",
              "      fill: #174EA6;\n",
              "    }\n",
              "\n",
              "    [theme=dark] .colab-df-convert {\n",
              "      background-color: #3B4455;\n",
              "      fill: #D2E3FC;\n",
              "    }\n",
              "\n",
              "    [theme=dark] .colab-df-convert:hover {\n",
              "      background-color: #434B5C;\n",
              "      box-shadow: 0px 1px 3px 1px rgba(0, 0, 0, 0.15);\n",
              "      filter: drop-shadow(0px 1px 2px rgba(0, 0, 0, 0.3));\n",
              "      fill: #FFFFFF;\n",
              "    }\n",
              "  </style>\n",
              "\n",
              "      <script>\n",
              "        const buttonEl =\n",
              "          document.querySelector('#df-3500a8a0-1600-4168-be60-5d585e23fbd8 button.colab-df-convert');\n",
              "        buttonEl.style.display =\n",
              "          google.colab.kernel.accessAllowed ? 'block' : 'none';\n",
              "\n",
              "        async function convertToInteractive(key) {\n",
              "          const element = document.querySelector('#df-3500a8a0-1600-4168-be60-5d585e23fbd8');\n",
              "          const dataTable =\n",
              "            await google.colab.kernel.invokeFunction('convertToInteractive',\n",
              "                                                     [key], {});\n",
              "          if (!dataTable) return;\n",
              "\n",
              "          const docLinkHtml = 'Like what you see? Visit the ' +\n",
              "            '<a target=\"_blank\" href=https://colab.research.google.com/notebooks/data_table.ipynb>data table notebook</a>'\n",
              "            + ' to learn more about interactive tables.';\n",
              "          element.innerHTML = '';\n",
              "          dataTable['output_type'] = 'display_data';\n",
              "          await google.colab.output.renderOutput(dataTable, element);\n",
              "          const docLink = document.createElement('div');\n",
              "          docLink.innerHTML = docLinkHtml;\n",
              "          element.appendChild(docLink);\n",
              "        }\n",
              "      </script>\n",
              "    </div>\n",
              "  </div>\n",
              "  "
            ]
          },
          "metadata": {},
          "execution_count": 122
        }
      ]
    },
    {
      "cell_type": "code",
      "source": [
        "Test_results.to_csv(\"CNN_test_new3.csv\",header=False,index=False)\n",
        "!cp CNN_test_new3.csv \"/content/drive/MyDrive/Colab Notebooks/Project 1-CV/Datasets\"\n",
        "# Test_results.to_csv(r\"C:\\Users\\Jiuge\\Downloads\\Test_results_cnn3.csv\", index=False,header=False)"
      ],
      "metadata": {
        "id": "qiqKk3RQAIgW"
      },
      "id": "qiqKk3RQAIgW",
      "execution_count": 123,
      "outputs": []
    },
    {
      "cell_type": "code",
      "source": [],
      "metadata": {
        "id": "XdGq0-34_SHt"
      },
      "id": "XdGq0-34_SHt",
      "execution_count": 22,
      "outputs": []
    },
    {
      "cell_type": "markdown",
      "source": [
        "# 3. Evaluate your model using the developed software\n"
      ],
      "metadata": {
        "id": "X9XRZf27g98T"
      },
      "id": "X9XRZf27g98T"
    },
    {
      "cell_type": "markdown",
      "source": [
        "![image.png](data:image/png;base64,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)"
      ],
      "metadata": {
        "id": "LV09HmJO_bUB"
      },
      "id": "LV09HmJO_bUB"
    },
    {
      "cell_type": "markdown",
      "id": "db0cccf5",
      "metadata": {
        "id": "db0cccf5"
      },
      "source": [
        "# 4. Compare results with [SCTL paper](https://www.mdpi.com/2076-2615/12/7/886/htm). Requirement: performance is better than VGG16: 66.8%"
      ]
    },
    {
      "cell_type": "code",
      "source": [],
      "metadata": {
        "id": "J0zRFvC6hC4y"
      },
      "id": "J0zRFvC6hC4y",
      "execution_count": 22,
      "outputs": []
    },
    {
      "cell_type": "markdown",
      "source": [
        "# 5. Write a four-page paper report using the shared LaTex template. Upload your paper to ResearchGate or Arxiv, and put your paper link here."
      ],
      "metadata": {
        "id": "l_nzHa83hGe6"
      },
      "id": "l_nzHa83hGe6"
    },
    {
      "cell_type": "markdown",
      "source": [],
      "metadata": {
        "id": "jxj2hST0hI3S"
      },
      "id": "jxj2hST0hI3S"
    }
  ],
  "metadata": {
    "accelerator": "GPU",
    "colab": {
      "collapsed_sections": [],
      "provenance": []
    },
    "gpuClass": "standard",
    "kernelspec": {
      "display_name": "Python 3 (ipykernel)",
      "language": "python",
      "name": "python3"
    },
    "language_info": {
      "codemirror_mode": {
        "name": "ipython",
        "version": 3
      },
      "file_extension": ".py",
      "mimetype": "text/x-python",
      "name": "python",
      "nbconvert_exporter": "python",
      "pygments_lexer": "ipython3",
      "version": "3.9.12"
    }
  },
  "nbformat": 4,
  "nbformat_minor": 5
}